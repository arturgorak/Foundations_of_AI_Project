{
 "cells": [
  {
   "cell_type": "markdown",
   "metadata": {
    "id": "OALVXFYnQ1rD"
   },
   "source": [
    "## 1 Importy i pobranie danych"
   ]
  },
  {
   "cell_type": "code",
   "execution_count": null,
   "outputs": [],
   "source": [
    "# Numpy\n",
    "import numpy as np\n",
    "\n",
    "# Pandas\n",
    "import pandas as pd\n",
    "\n",
    "# Reprezentacja graficzna\n",
    "import seaborn as sns\n",
    "import matplotlib.pyplot as plt\n",
    "\n",
    "# Pipeline\n",
    "from sklearn.pipeline import Pipeline\n",
    "from sklearn.impute import SimpleImputer\n",
    "from sklearn.preprocessing import OneHotEncoder\n",
    "from sklearn.preprocessing import LabelEncoder\n",
    "from sklearn.base import BaseEstimator, TransformerMixin\n",
    "from sklearn.pipeline import FeatureUnion\n",
    "\n",
    "\n",
    "# Uczenie płytkie\n",
    "from sklearn.model_selection import train_test_split\n",
    "from collections import Counter\n",
    "\n",
    "from sklearn.ensemble import RandomForestClassifier, AdaBoostClassifier, GradientBoostingClassifier, ExtraTreesClassifier, VotingClassifier\n",
    "from sklearn.discriminant_analysis import LinearDiscriminantAnalysis\n",
    "from sklearn.svm import SVC\n",
    "from sklearn.linear_model import LogisticRegression\n",
    "from sklearn.neighbors import KNeighborsClassifier\n",
    "from sklearn.tree import DecisionTreeClassifier\n",
    "from sklearn.neural_network import MLPClassifier\n",
    "from sklearn.svm import SVC\n",
    "from sklearn.model_selection import GridSearchCV, cross_val_score, StratifiedKFold, learning_curve\n",
    "from xgboost import XGBClassifier\n",
    "from sklearn.model_selection import RandomizedSearchCV\n",
    "from sklearn.metrics import roc_auc_score\n",
    "from sklearn import  metrics\n",
    "\n",
    "\n",
    "# StandardScaler \n",
    "from sklearn.preprocessing import StandardScaler\n",
    "\n",
    "# inne\n",
    "from scipy.stats.distributions import uniform, randint\n",
    "import math\n",
    "\n",
    "# Uczenie głębokie\n",
    "from tensorflow import keras\n",
    "import tensorflow as tf\n",
    "from keras.callbacks import EarlyStopping\n",
    "from keras import layers\n",
    "from scipy.stats import reciprocal\n",
    "from sklearn.model_selection import RandomizedSearchCV\n",
    "from keras.layers import BatchNormalization\n",
    "from keras.models import Sequential\n",
    "from keras.layers import Flatten\n",
    "from keras.layers import Activation\n",
    "from keras.layers import Dropout\n",
    "from keras.layers import Dense"
   ],
   "metadata": {
    "collapsed": false,
    "pycharm": {
     "name": "#%%\n"
    }
   }
  },
  {
   "cell_type": "code",
   "execution_count": null,
   "outputs": [],
   "source": [
    "data = pd.read_csv(\"data.csv\")"
   ],
   "metadata": {
    "collapsed": false,
    "pycharm": {
     "name": "#%%\n"
    }
   }
  },
  {
   "cell_type": "code",
   "execution_count": null,
   "outputs": [],
   "source": [
    "data.head(5)"
   ],
   "metadata": {
    "collapsed": false,
    "pycharm": {
     "name": "#%%\n"
    }
   }
  },
  {
   "cell_type": "markdown",
   "source": [
    "\n",
    "\n",
    "*   Data - The date of observation\n",
    "*   Location - The common name of the location of the weather station\n",
    "*   Rainfall - The amount of rainfall recorded for the day in mm\n",
    "*   Evaporation - The so-called Class A pan evaporation (mm) in the 24 hours to 9am\n",
    "*   Sunshine - The number of hours of bright sunshine in the day.\n",
    "*   WindGustDir - The direction of the strongest wind gust in the 24 hours to midnight\n",
    "*   WindGustSpeed - The speed (km/h) of the strongest wind gust in the 24 hours to midnight\n",
    "*   WindDir9am - Direction of the wind at 9am\n",
    "*   WindDir3pm - Direction of the wind at 3pm\n",
    "*   WindSpeed9am- Wind speed (km/hr) averaged over 10 minutes prior to 9am\n",
    "*   WindSpeed3pm -Wind speed (km/hr) averaged over 10 minutes prior to 3pm\n",
    "*   Humidity9am - Humidity (percent) at 9am\n",
    "*   Humidity3pm - Humidity (percent) at 3pm\n",
    "*   Pressure9am - Atmospheric pressure (hpa) reduced to mean sea level at 9am\n",
    "*   Pressure3pm - Atmospheric pressure (hpa) reduced to mean sea level at 3pm\n",
    "*   Cloud9am - Fraction of sky obscured by cloud at 9am. This is measured in \"oktas\", which are a unit of eigths. It records how many\n",
    "*   Cloud3pm - Fraction of sky obscured by cloud (in \"oktas\": eighths) at 3pm. See Cload9am for a description of the values\n",
    "*   Temp9am - Temperature (degrees C) at 9am\n",
    "*   Temp3pm - Temperature (degrees C) at 3pm\n",
    "*   RainToday - Boolean: 1 if precipitation (mm) in the 24 hours to 9am exceeds 1mm, otherwise 0\n",
    "*   RainTomorrow\n",
    "The amount of next day rain in mm. Used to create response variable RainTomorrow. A kind of measure of the \"risk\".\n"
   ],
   "metadata": {
    "collapsed": false,
    "pycharm": {
     "name": "#%% md\n"
    }
   }
  },
  {
   "cell_type": "markdown",
   "source": [
    "## 2 Przygotowanie danych\n",
    "Na początku sprawdźmy ile i gdzie są wartości nullowe\n",
    "\n"
   ],
   "metadata": {
    "collapsed": false,
    "pycharm": {
     "name": "#%% md\n"
    }
   }
  },
  {
   "cell_type": "code",
   "execution_count": null,
   "outputs": [],
   "source": [
    "# ile i gdzie wartości nullowe\n",
    "data.isnull().sum()"
   ],
   "metadata": {
    "collapsed": false,
    "pycharm": {
     "name": "#%%\n"
    }
   }
  },
  {
   "cell_type": "code",
   "execution_count": null,
   "outputs": [],
   "source": [
    "len(data)"
   ],
   "metadata": {
    "collapsed": false,
    "pycharm": {
     "name": "#%%\n"
    }
   }
  },
  {
   "cell_type": "markdown",
   "source": [
    "Prawie 6% wartości WindDir9am jest nullowych i około 1.5 % WindDir3pm oraz Location. Trzeba będzie czymś je uzupełnić. W pozostałych kolumnach brakuących wartości jest < 1%"
   ],
   "metadata": {
    "collapsed": false,
    "pycharm": {
     "name": "#%% md\n"
    }
   }
  },
  {
   "cell_type": "code",
   "execution_count": null,
   "outputs": [],
   "source": [
    "data.info()"
   ],
   "metadata": {
    "collapsed": false,
    "pycharm": {
     "name": "#%%\n"
    }
   }
  },
  {
   "cell_type": "code",
   "execution_count": null,
   "outputs": [],
   "source": [
    "data.describe()"
   ],
   "metadata": {
    "collapsed": false,
    "pycharm": {
     "name": "#%%\n"
    }
   }
  },
  {
   "cell_type": "markdown",
   "source": [
    "Na początku zamieńmy wszystkie wartości yes, no na 1 i 0"
   ],
   "metadata": {
    "collapsed": false,
    "pycharm": {
     "name": "#%% md\n"
    }
   }
  },
  {
   "cell_type": "code",
   "execution_count": null,
   "outputs": [],
   "source": [
    "data = data.replace([\"Yes\", \"No\"], [1, 0], regex = True)\n",
    "data.head()"
   ],
   "metadata": {
    "collapsed": false,
    "pycharm": {
     "name": "#%%\n"
    }
   }
  },
  {
   "cell_type": "markdown",
   "source": [
    "Sprawdźmy korelacje pomiędzy kolumnami aby nie było powielania informacji\n",
    "\n"
   ],
   "metadata": {
    "collapsed": false,
    "pycharm": {
     "name": "#%% md\n"
    }
   }
  },
  {
   "cell_type": "code",
   "execution_count": null,
   "outputs": [],
   "source": [
    "corr = data.corr()\n",
    "corr"
   ],
   "metadata": {
    "collapsed": false,
    "pycharm": {
     "name": "#%%\n"
    }
   }
  },
  {
   "cell_type": "code",
   "execution_count": null,
   "outputs": [],
   "source": [
    "plt.figure(figsize=(16, 6))\n",
    "\n",
    "mask = np.triu(np.ones_like(data.corr(), dtype=np.bool))\n",
    "\n",
    "heatmap = sns.heatmap(data.corr(), mask=mask, vmin=-1, vmax=1, annot=True, cmap='BrBG')\n",
    "\n",
    "heatmap.set_title('Correlation Heatmap', fontdict={'fontsize':18}, pad=16);"
   ],
   "metadata": {
    "collapsed": false,
    "pycharm": {
     "name": "#%%\n"
    }
   }
  },
  {
   "cell_type": "code",
   "execution_count": null,
   "outputs": [],
   "source": [
    "sns.pairplot( data=data, vars=('Pressure9am','Pressure3pm', 'Temp9am', 'Temp3pm', 'Evaporation', 'Sunshine'), hue='RainTomorrow' )"
   ],
   "metadata": {
    "collapsed": false,
    "pycharm": {
     "name": "#%%\n"
    }
   }
  },
  {
   "cell_type": "markdown",
   "source": [
    "Zdefiniujmy funkcje która będzie dziliła nam dane na biny a nastepnie dla każdego bina wyliczała prawdopodobieństwo opadu"
   ],
   "metadata": {
    "collapsed": false,
    "pycharm": {
     "name": "#%% md\n"
    }
   }
  },
  {
   "cell_type": "code",
   "execution_count": null,
   "outputs": [],
   "source": [
    "def check_probability(input_name, size=10):\n",
    "  new_name = input_name + \" rounded values\"\n",
    "  data[new_name] = data[input_name].apply(lambda x: math.ceil(x))\n",
    "\n",
    "  g = sns.factorplot(x=new_name,y=\"RainTomorrow\",data=data, kind=\"bar\", size = size)\n",
    "  g.despine(left=True)\n",
    "  g = g.set_ylabels(\"rain probability\")\n",
    "\n",
    "  data.drop(labels = [new_name], axis = 1, inplace = True)"
   ],
   "metadata": {
    "collapsed": false,
    "pycharm": {
     "name": "#%%\n"
    }
   }
  },
  {
   "cell_type": "markdown",
   "source": [
    "### 2.1. Date\n",
    "Spróbujmy wyciągnąć z daty miesiąc, po czym zamienić go na dane kategoryczne"
   ],
   "metadata": {
    "collapsed": false,
    "pycharm": {
     "name": "#%% md\n"
    }
   }
  },
  {
   "cell_type": "code",
   "execution_count": null,
   "outputs": [],
   "source": [
    "data['Month'] = pd.DatetimeIndex(data['Date']).month.astype(str)"
   ],
   "metadata": {
    "collapsed": false,
    "pycharm": {
     "name": "#%%\n"
    }
   }
  },
  {
   "cell_type": "code",
   "execution_count": null,
   "outputs": [],
   "source": [
    "data.head(5)"
   ],
   "metadata": {
    "collapsed": false,
    "pycharm": {
     "name": "#%%\n"
    }
   }
  },
  {
   "cell_type": "code",
   "execution_count": null,
   "outputs": [],
   "source": [
    "data.drop(labels = [\"Date\"], axis = 1, inplace = True)"
   ],
   "metadata": {
    "collapsed": false,
    "pycharm": {
     "name": "#%%\n"
    }
   }
  },
  {
   "cell_type": "code",
   "execution_count": null,
   "outputs": [],
   "source": [
    "data.columns"
   ],
   "metadata": {
    "collapsed": false,
    "pycharm": {
     "name": "#%%\n"
    }
   }
  },
  {
   "cell_type": "markdown",
   "source": [
    "Sprawdźmy czy miesiąć ma wpływ na to czy następnego dnia będzie padać"
   ],
   "metadata": {
    "collapsed": false,
    "pycharm": {
     "name": "#%% md\n"
    }
   }
  },
  {
   "cell_type": "code",
   "execution_count": null,
   "outputs": [],
   "source": [
    "g = sns.factorplot(x=\"Month\",y=\"RainTomorrow\",data=data, kind=\"bar\", size = 6)\n",
    "g.despine(left=True)\n",
    "g = g.set_ylabels(\"rain probability\")"
   ],
   "metadata": {
    "collapsed": false,
    "pycharm": {
     "name": "#%%\n"
    }
   }
  },
  {
   "cell_type": "markdown",
   "source": [],
   "metadata": {
    "collapsed": false,
    "pycharm": {
     "name": "#%% md\n"
    }
   }
  },
  {
   "cell_type": "markdown",
   "source": [
    "Jak widać w miesiącach jesiennych możemy się liczyć z mniejszym prawdopodobieństwem opadu"
   ],
   "metadata": {
    "collapsed": false,
    "pycharm": {
     "name": "#%% md\n"
    }
   }
  },
  {
   "cell_type": "markdown",
   "source": [
    "### 2.2. Location"
   ],
   "metadata": {
    "collapsed": false,
    "pycharm": {
     "name": "#%% md\n"
    }
   }
  },
  {
   "cell_type": "code",
   "execution_count": null,
   "outputs": [],
   "source": [
    "data['Location'].value_counts()"
   ],
   "metadata": {
    "collapsed": false,
    "pycharm": {
     "name": "#%%\n"
    }
   }
  },
  {
   "cell_type": "code",
   "execution_count": null,
   "outputs": [],
   "source": [
    "g = sns.factorplot(x=\"Location\",y=\"RainTomorrow\",data=data, kind=\"bar\", size = 10)\n",
    "g.despine(left=True)\n",
    "g = g.set_ylabels(\"rain probability\")"
   ],
   "metadata": {
    "collapsed": false,
    "pycharm": {
     "name": "#%%\n"
    }
   }
  },
  {
   "cell_type": "markdown",
   "source": [
    "Jak widać największe szanse na opad są w CoffsHarbour oraz WitchIsland"
   ],
   "metadata": {
    "collapsed": false,
    "pycharm": {
     "name": "#%% md\n"
    }
   }
  },
  {
   "cell_type": "markdown",
   "source": [
    "### 2.3. Rainfall i RainToday\n",
    "Pomiędzy Rainfall i RainToday jest zależność polegająca na tym, że jeśli w Rainfall jest wartość większa od 1 to RainToday jest True. W przeciwnym wypadku False. Także aby nie powielać informacji usuńmy kolumne RainToday"
   ],
   "metadata": {
    "collapsed": false,
    "pycharm": {
     "name": "#%% md\n"
    }
   }
  },
  {
   "cell_type": "code",
   "execution_count": null,
   "outputs": [],
   "source": [
    "data.drop(labels = [\"RainToday\"], axis = 1, inplace = True)"
   ],
   "metadata": {
    "collapsed": false,
    "pycharm": {
     "name": "#%%\n"
    }
   }
  },
  {
   "cell_type": "markdown",
   "source": [
    "Jak możemy dostrzec Rainfall przyjmuje jakąś wartość kiedy w RainToday mamy 1, więć aby nie powielac informacji usuiemy kolumne RainToday i uzupełnijmy Rainfall średnią"
   ],
   "metadata": {
    "collapsed": false,
    "pycharm": {
     "name": "#%% md\n"
    }
   }
  },
  {
   "cell_type": "code",
   "execution_count": null,
   "outputs": [],
   "source": [
    "g = sns.FacetGrid(data, col='RainTomorrow')\n",
    "g = g.map(sns.distplot, \"Rainfall\")"
   ],
   "metadata": {
    "collapsed": false,
    "pycharm": {
     "name": "#%%\n"
    }
   }
  },
  {
   "cell_type": "code",
   "execution_count": null,
   "outputs": [],
   "source": [
    "data['Rainfall'].fillna(data['Rainfall'].mean(), inplace=True)"
   ],
   "metadata": {
    "collapsed": false,
    "pycharm": {
     "name": "#%%\n"
    }
   }
  },
  {
   "cell_type": "code",
   "execution_count": null,
   "outputs": [],
   "source": [
    "data['Rainfall'].isnull().sum()"
   ],
   "metadata": {
    "collapsed": false,
    "pycharm": {
     "name": "#%%\n"
    }
   }
  },
  {
   "cell_type": "markdown",
   "source": [
    "### 2.4. Evaporation "
   ],
   "metadata": {
    "collapsed": false,
    "pycharm": {
     "name": "#%% md\n"
    }
   }
  },
  {
   "cell_type": "code",
   "execution_count": null,
   "outputs": [],
   "source": [
    "data['Evaporation'].isnull().sum()"
   ],
   "metadata": {
    "collapsed": false,
    "pycharm": {
     "name": "#%%\n"
    }
   }
  },
  {
   "cell_type": "code",
   "execution_count": null,
   "outputs": [],
   "source": [
    "check_probability(\"Evaporation\")"
   ],
   "metadata": {
    "collapsed": false,
    "pycharm": {
     "name": "#%%\n"
    }
   }
  },
  {
   "cell_type": "markdown",
   "source": [
    "Można powiedzieć, że im większe odparowanie tym mniejsza szansa na deszcz"
   ],
   "metadata": {
    "collapsed": false,
    "pycharm": {
     "name": "#%% md\n"
    }
   }
  },
  {
   "cell_type": "markdown",
   "source": [
    "### 2.5. Sunshine"
   ],
   "metadata": {
    "collapsed": false,
    "pycharm": {
     "name": "#%% md\n"
    }
   }
  },
  {
   "cell_type": "code",
   "execution_count": null,
   "outputs": [],
   "source": [
    "out = pd.cut(data[\"Sunshine\"], bins=[x for x in range (0, 20)], include_lowest=True)\n",
    "ax = out.value_counts(sort=False).plot.bar(rot=0, color=\"b\", figsize=(20,6))\n",
    "plt.show()"
   ],
   "metadata": {
    "collapsed": false,
    "pycharm": {
     "name": "#%%\n"
    }
   }
  },
  {
   "cell_type": "code",
   "execution_count": null,
   "outputs": [],
   "source": [
    "check_probability(\"Sunshine\")"
   ],
   "metadata": {
    "collapsed": false,
    "pycharm": {
     "name": "#%%\n"
    }
   }
  },
  {
   "cell_type": "markdown",
   "source": [
    "Jak widać powyżej im więcej słonecznych godzin tym mniejsza szansa na deszcz jutro"
   ],
   "metadata": {
    "collapsed": false,
    "pycharm": {
     "name": "#%% md\n"
    }
   }
  },
  {
   "cell_type": "code",
   "execution_count": null,
   "outputs": [],
   "source": [
    "data['Sunshine'].isnull().sum()"
   ],
   "metadata": {
    "collapsed": false,
    "pycharm": {
     "name": "#%%\n"
    }
   }
  },
  {
   "cell_type": "markdown",
   "source": [
    "### 2.6. WindDir\n",
    "Będziemy musieli uzupełnić brakujące wartości poprzez danie w miejsce nulli najczęściej występującej wartości"
   ],
   "metadata": {
    "collapsed": false,
    "pycharm": {
     "name": "#%% md\n"
    }
   }
  },
  {
   "cell_type": "code",
   "execution_count": null,
   "outputs": [],
   "source": [
    "data['WindDir9am'].isnull().sum()"
   ],
   "metadata": {
    "collapsed": false,
    "pycharm": {
     "name": "#%%\n"
    }
   }
  },
  {
   "cell_type": "code",
   "execution_count": null,
   "outputs": [],
   "source": [
    "data['WindDir9am'].value_counts()"
   ],
   "metadata": {
    "collapsed": false,
    "pycharm": {
     "name": "#%%\n"
    }
   }
  },
  {
   "cell_type": "code",
   "execution_count": null,
   "outputs": [],
   "source": [
    "#data['WindDir9am'] = data['WindDir9am'].fillna(data['WindDir9am'].mode().iloc[0])"
   ],
   "metadata": {
    "collapsed": false,
    "pycharm": {
     "name": "#%%\n"
    }
   }
  },
  {
   "cell_type": "code",
   "execution_count": null,
   "outputs": [],
   "source": [
    "data['WindDir9am'].isnull().sum()"
   ],
   "metadata": {
    "collapsed": false,
    "pycharm": {
     "name": "#%%\n"
    }
   }
  },
  {
   "cell_type": "code",
   "execution_count": null,
   "outputs": [],
   "source": [
    "data['WindDir9am'].value_counts()"
   ],
   "metadata": {
    "collapsed": false,
    "pycharm": {
     "name": "#%%\n"
    }
   }
  },
  {
   "cell_type": "code",
   "execution_count": null,
   "outputs": [],
   "source": [
    "#data = pd.get_dummies(data, columns = ['WindDir9am'])"
   ],
   "metadata": {
    "collapsed": false,
    "pycharm": {
     "name": "#%%\n"
    }
   }
  },
  {
   "cell_type": "code",
   "execution_count": null,
   "outputs": [],
   "source": [
    "g = sns.factorplot(x=\"WindDir9am\",y=\"RainTomorrow\",data=data, kind=\"bar\", size = 10)\n",
    "g.despine(left=True)\n",
    "g = g.set_ylabels(\"rain probability\")"
   ],
   "metadata": {
    "collapsed": false,
    "pycharm": {
     "name": "#%%\n"
    }
   }
  },
  {
   "cell_type": "markdown",
   "source": [
    "Największe szanse na deszcz są przy wietrze wiejącym wkierunku SSW (południowo zachodnim, ale bardziej skierowanemu na południe). Za chwilę zobaczymy czy podobne obserwacje będą przy wietsze o godzinie 15.00"
   ],
   "metadata": {
    "collapsed": false,
    "pycharm": {
     "name": "#%% md\n"
    }
   }
  },
  {
   "cell_type": "code",
   "execution_count": null,
   "outputs": [],
   "source": [
    "data['WindDir3pm'].isnull().sum()"
   ],
   "metadata": {
    "collapsed": false,
    "pycharm": {
     "name": "#%%\n"
    }
   }
  },
  {
   "cell_type": "code",
   "execution_count": null,
   "outputs": [],
   "source": [
    "data['WindDir3pm'].value_counts()"
   ],
   "metadata": {
    "collapsed": false,
    "pycharm": {
     "name": "#%%\n"
    }
   }
  },
  {
   "cell_type": "code",
   "execution_count": null,
   "outputs": [],
   "source": [
    "#data['WindDir3pm'] = data['WindDir3pm'].fillna(data['WindDir3pm'].mode().iloc[0])"
   ],
   "metadata": {
    "collapsed": false,
    "pycharm": {
     "name": "#%%\n"
    }
   }
  },
  {
   "cell_type": "code",
   "execution_count": null,
   "outputs": [],
   "source": [
    "data['WindDir3pm'].isnull().sum()"
   ],
   "metadata": {
    "collapsed": false,
    "pycharm": {
     "name": "#%%\n"
    }
   }
  },
  {
   "cell_type": "code",
   "execution_count": null,
   "outputs": [],
   "source": [
    "#data = pd.get_dummies(data, columns = ['WindDir3pm'])"
   ],
   "metadata": {
    "collapsed": false,
    "pycharm": {
     "name": "#%%\n"
    }
   }
  },
  {
   "cell_type": "code",
   "execution_count": null,
   "outputs": [],
   "source": [
    "g = sns.factorplot(x=\"WindDir3pm\",y=\"RainTomorrow\",data=data, kind=\"bar\", size = 10)\n",
    "g.despine(left=True)\n",
    "g = g.set_ylabels(\"rain probability\")"
   ],
   "metadata": {
    "collapsed": false,
    "pycharm": {
     "name": "#%%\n"
    }
   }
  },
  {
   "cell_type": "markdown",
   "source": [],
   "metadata": {
    "collapsed": false,
    "pycharm": {
     "name": "#%% md\n"
    }
   }
  },
  {
   "cell_type": "markdown",
   "source": [
    "### 2.7. Unnamed: 0\n",
    "Wyrzućmy tą nic nie wnoszącą kolumne"
   ],
   "metadata": {
    "collapsed": false,
    "pycharm": {
     "name": "#%% md\n"
    }
   }
  },
  {
   "cell_type": "code",
   "execution_count": null,
   "outputs": [],
   "source": [
    "data.drop(labels = [\"Unnamed: 0\"], axis = 1, inplace = True)"
   ],
   "metadata": {
    "collapsed": false,
    "pycharm": {
     "name": "#%%\n"
    }
   }
  },
  {
   "cell_type": "code",
   "execution_count": null,
   "outputs": [],
   "source": [
    "data.columns"
   ],
   "metadata": {
    "collapsed": false,
    "pycharm": {
     "name": "#%%\n"
    }
   }
  },
  {
   "cell_type": "markdown",
   "source": [
    "### 2.8. WindSpeed\n",
    "Zastąpmy brakujące wartości wartościami średnimi"
   ],
   "metadata": {
    "collapsed": false,
    "pycharm": {
     "name": "#%% md\n"
    }
   }
  },
  {
   "cell_type": "code",
   "execution_count": null,
   "outputs": [],
   "source": [
    "data['WindSpeed9am'].fillna(data['WindSpeed9am'].mean(), inplace=True)\n",
    "data['WindSpeed3pm'].fillna(data['WindSpeed3pm'].mean(), inplace=True)"
   ],
   "metadata": {
    "collapsed": false,
    "pycharm": {
     "name": "#%%\n"
    }
   }
  },
  {
   "cell_type": "code",
   "execution_count": null,
   "outputs": [],
   "source": [
    "check_probability(\"WindSpeed9am\")"
   ],
   "metadata": {
    "collapsed": false,
    "pycharm": {
     "name": "#%%\n"
    }
   }
  },
  {
   "cell_type": "code",
   "execution_count": null,
   "outputs": [],
   "source": [
    "check_probability(\"WindSpeed3pm\")"
   ],
   "metadata": {
    "collapsed": false,
    "pycharm": {
     "name": "#%%\n"
    }
   }
  },
  {
   "cell_type": "markdown",
   "source": [
    "Humidity9am       14\n",
    "Humidity3pm       13\n",
    "Pressure9am       23\n",
    "Pressure3pm       16\n",
    "Cloud9am           0\n",
    "Cloud3pm           0"
   ],
   "metadata": {
    "collapsed": false,
    "pycharm": {
     "name": "#%% md\n"
    }
   }
  },
  {
   "cell_type": "markdown",
   "source": [
    "### 2.9. Humidity"
   ],
   "metadata": {
    "collapsed": false,
    "pycharm": {
     "name": "#%% md\n"
    }
   }
  },
  {
   "cell_type": "code",
   "execution_count": null,
   "outputs": [],
   "source": [
    "data['Humidity3pm'].fillna(data['Humidity3pm'].mean(), inplace=True)\n",
    "data['Humidity9am'].fillna(data['Humidity9am'].mean(), inplace=True)"
   ],
   "metadata": {
    "collapsed": false,
    "pycharm": {
     "name": "#%%\n"
    }
   }
  },
  {
   "cell_type": "code",
   "execution_count": null,
   "outputs": [],
   "source": [
    "check_probability(\"Humidity9am\", 14)"
   ],
   "metadata": {
    "collapsed": false,
    "pycharm": {
     "name": "#%%\n"
    }
   }
  },
  {
   "cell_type": "code",
   "execution_count": null,
   "outputs": [],
   "source": [
    "check_probability(\"Humidity3pm\", 15)"
   ],
   "metadata": {
    "collapsed": false,
    "pycharm": {
     "name": "#%%\n"
    }
   }
  },
  {
   "cell_type": "markdown",
   "source": [
    "Również można dostrzec zależność, że im większa wilgotność tym większa szansa na opad"
   ],
   "metadata": {
    "collapsed": false,
    "pycharm": {
     "name": "#%% md\n"
    }
   }
  },
  {
   "cell_type": "markdown",
   "source": [
    "### 2.10. Pressure"
   ],
   "metadata": {
    "collapsed": false,
    "pycharm": {
     "name": "#%% md\n"
    }
   }
  },
  {
   "cell_type": "code",
   "execution_count": null,
   "outputs": [],
   "source": [
    "data['Pressure3pm'].fillna(data['Pressure3pm'].mean(), inplace=True) \n",
    "data['Pressure9am'].fillna(data['Pressure9am'].mean(), inplace=True)"
   ],
   "metadata": {
    "collapsed": false,
    "pycharm": {
     "name": "#%%\n"
    }
   }
  },
  {
   "cell_type": "code",
   "execution_count": null,
   "outputs": [],
   "source": [
    "check_probability('Pressure9am', 15)"
   ],
   "metadata": {
    "collapsed": false,
    "pycharm": {
     "name": "#%%\n"
    }
   }
  },
  {
   "cell_type": "code",
   "execution_count": null,
   "outputs": [],
   "source": [
    "check_probability('Pressure3pm', 20)"
   ],
   "metadata": {
    "collapsed": false,
    "pycharm": {
     "name": "#%%\n"
    }
   }
  },
  {
   "cell_type": "markdown",
   "source": [
    "### 2.11. Cloud"
   ],
   "metadata": {
    "collapsed": false,
    "pycharm": {
     "name": "#%% md\n"
    }
   }
  },
  {
   "cell_type": "code",
   "execution_count": null,
   "outputs": [],
   "source": [
    "check_probability(\"Cloud9am\")"
   ],
   "metadata": {
    "collapsed": false,
    "pycharm": {
     "name": "#%%\n"
    }
   }
  },
  {
   "cell_type": "code",
   "execution_count": null,
   "outputs": [],
   "source": [
    "check_probability(\"Cloud3pm\")"
   ],
   "metadata": {
    "collapsed": false,
    "pycharm": {
     "name": "#%%\n"
    }
   }
  },
  {
   "cell_type": "markdown",
   "source": [
    "W obu przypadkach możemy dojśc do wniosku, że im większa część nieba jest przysłonięta chmurami to tym większe prawdopodobieństwo opadów"
   ],
   "metadata": {
    "collapsed": false,
    "pycharm": {
     "name": "#%% md\n"
    }
   }
  },
  {
   "cell_type": "markdown",
   "source": [
    "## 3 Pipeline'y"
   ],
   "metadata": {
    "collapsed": false,
    "pycharm": {
     "name": "#%% md\n"
    }
   }
  },
  {
   "cell_type": "code",
   "execution_count": null,
   "outputs": [],
   "source": [
    "class DataFrameSelector(BaseEstimator, TransformerMixin):\n",
    "    def __init__(self, attribute_names):\n",
    "        self.attribute_names = attribute_names\n",
    "    def fit(self, X, y=None):\n",
    "        return self\n",
    "    def transform(self, X):\n",
    "        return X[self.attribute_names]"
   ],
   "metadata": {
    "collapsed": false,
    "pycharm": {
     "name": "#%%\n"
    }
   }
  },
  {
   "cell_type": "markdown",
   "source": [
    "Pipeline dla numerycznych\n",
    "\n"
   ],
   "metadata": {
    "collapsed": false,
    "pycharm": {
     "name": "#%% md\n"
    }
   }
  },
  {
   "cell_type": "code",
   "execution_count": null,
   "outputs": [],
   "source": [
    "numerical_fields = [\"Evaporation\", \"Rainfall\", \"Sunshine\", \"WindGustSpeed\", 'WindSpeed9am', 'WindSpeed3pm', 'Humidity9am', 'Humidity3pm', 'Pressure9am', 'Pressure3pm', 'Cloud9am', 'Cloud3pm', 'Temp9am', 'Temp3pm']\n",
    "\n",
    "num_pipeline = Pipeline([\n",
    "        (\"select_numeric\", DataFrameSelector(numerical_fields)),\n",
    "        (\"imputer\", SimpleImputer(strategy=\"median\")),\n",
    "        ('scaler', StandardScaler())\n",
    "    ])\n"
   ],
   "metadata": {
    "collapsed": false,
    "pycharm": {
     "name": "#%%\n"
    }
   }
  },
  {
   "cell_type": "markdown",
   "source": [
    "Pipeline dla kategorycznych"
   ],
   "metadata": {
    "collapsed": false,
    "pycharm": {
     "name": "#%% md\n"
    }
   }
  },
  {
   "cell_type": "code",
   "execution_count": null,
   "outputs": [],
   "source": [
    "catbin = [\"Location\",\"WindGustDir\" ,\"WindDir9am\", \"WindDir3pm\", \"Month\"]\n",
    "\n",
    "cat_pipeline = Pipeline([\n",
    "        (\"select_cat\", DataFrameSelector(catbin)),\n",
    "        (\"imputer\", SimpleImputer(strategy=\"most_frequent\")),\n",
    "        (\"cat_encoder\", OneHotEncoder(sparse=False, handle_unknown = 'ignore')),\n",
    "    ])"
   ],
   "metadata": {
    "collapsed": false,
    "pycharm": {
     "name": "#%%\n"
    }
   }
  },
  {
   "cell_type": "code",
   "execution_count": null,
   "outputs": [],
   "source": [
    "preprocess_pipeline = FeatureUnion(transformer_list=[\n",
    "        (\"num_pipeline\", num_pipeline),\n",
    "        (\"cat_pipeline\", cat_pipeline),\n",
    "    ])"
   ],
   "metadata": {
    "collapsed": false,
    "pycharm": {
     "name": "#%%\n"
    }
   }
  },
  {
   "cell_type": "markdown",
   "source": [
    "## 4 Podział danych na train i test"
   ],
   "metadata": {
    "collapsed": false,
    "pycharm": {
     "name": "#%% md\n"
    }
   }
  },
  {
   "cell_type": "code",
   "execution_count": null,
   "outputs": [],
   "source": [
    "y = data[\"RainTomorrow\"]\n",
    "X = data.drop(\"RainTomorrow\", axis=1)"
   ],
   "metadata": {
    "collapsed": false,
    "pycharm": {
     "name": "#%%\n"
    }
   }
  },
  {
   "cell_type": "code",
   "execution_count": null,
   "outputs": [],
   "source": [
    "X_train, X_test, y_train, y_test = train_test_split(X, y, test_size=0.20, random_state=42)"
   ],
   "metadata": {
    "collapsed": false,
    "pycharm": {
     "name": "#%%\n"
    }
   }
  },
  {
   "cell_type": "code",
   "execution_count": null,
   "outputs": [],
   "source": [
    "num_pipeline.fit_transform(X_train)"
   ],
   "metadata": {
    "collapsed": false,
    "pycharm": {
     "name": "#%%\n"
    }
   }
  },
  {
   "cell_type": "code",
   "execution_count": null,
   "outputs": [],
   "source": [
    "cat_pipeline.fit_transform(X_train)"
   ],
   "metadata": {
    "collapsed": false,
    "pycharm": {
     "name": "#%%\n"
    }
   }
  },
  {
   "cell_type": "code",
   "execution_count": null,
   "outputs": [],
   "source": [
    "seed=123\n",
    "kfold = StratifiedKFold(n_splits=10)"
   ],
   "metadata": {
    "collapsed": false,
    "pycharm": {
     "name": "#%%\n"
    }
   }
  },
  {
   "cell_type": "markdown",
   "source": [
    "# 5 Uczenie modeli"
   ],
   "metadata": {
    "collapsed": false,
    "pycharm": {
     "name": "#%% md\n"
    }
   }
  },
  {
   "cell_type": "markdown",
   "source": [
    "## 5.1 Uczenie płytkie"
   ],
   "metadata": {
    "collapsed": false,
    "pycharm": {
     "name": "#%% md\n"
    }
   }
  },
  {
   "cell_type": "markdown",
   "source": [
    "### 5.1.1 Decision Tree"
   ],
   "metadata": {
    "collapsed": false,
    "pycharm": {
     "name": "#%% md\n"
    }
   }
  },
  {
   "cell_type": "code",
   "execution_count": null,
   "outputs": [],
   "source": [
    "pipe = Pipeline([\n",
    "    ('preprocessing', preprocess_pipeline),\n",
    "    ('scaler',  StandardScaler()),\n",
    "    ('classifier', DecisionTreeClassifier())\n",
    "    ])\n",
    "\n",
    "dt_param_grid = {\n",
    "    'classifier__max_depth': range(2, 10),\n",
    "    'classifier__max_features': range(2, 14),\n",
    "    }\n",
    "\n",
    "gsDT = GridSearchCV(pipe, dt_param_grid, cv=kfold, verbose=10)\n",
    "gsDT.fit(X_train,y_train)\n",
    "DT_best = gsDT.best_estimator_"
   ],
   "metadata": {
    "collapsed": false,
    "pycharm": {
     "name": "#%%\n"
    }
   }
  },
  {
   "cell_type": "markdown",
   "source": [
    "### 5.1.2 Random Forest Classifier"
   ],
   "metadata": {
    "collapsed": false,
    "pycharm": {
     "name": "#%% md\n"
    }
   }
  },
  {
   "cell_type": "code",
   "execution_count": null,
   "outputs": [],
   "source": [
    "# Random Forest Classifier\n",
    "\n",
    "pipe = Pipeline([\n",
    "    ('preprocessing', preprocess_pipeline),\n",
    "    ('classifier', RandomForestClassifier())])\n",
    "\n",
    "\n",
    "\n",
    "rf_param_grid = { \n",
    "    'classifier__n_estimators': [100, 300],\n",
    "    'classifier__max_features': ['auto', 'sqrt', 'log2'],\n",
    "    'classifier__max_depth': [3,5,7,9],\n",
    "    'classifier__criterion': ['gini']\n",
    "}\n",
    "\n",
    "gsRFC = GridSearchCV(pipe, rf_param_grid, cv=kfold, verbose=10)\n",
    "gsRFC.fit(X_train,y_train)\n",
    "RFC_best = gsRFC.best_estimator_\n",
    "\n",
    "print(gsRFC.best_score_)"
   ],
   "metadata": {
    "collapsed": false,
    "pycharm": {
     "name": "#%%\n"
    }
   }
  },
  {
   "cell_type": "markdown",
   "source": [
    "### 5.1.3 Gradient Boosting"
   ],
   "metadata": {
    "collapsed": false,
    "pycharm": {
     "name": "#%% md\n"
    }
   }
  },
  {
   "cell_type": "code",
   "execution_count": null,
   "outputs": [],
   "source": [
    "# Gradient boosting tunning\n",
    "\n",
    "pipe = Pipeline([\n",
    "    ('preprocessing', preprocess_pipeline),\n",
    "    ('classifier', GradientBoostingClassifier())])\n",
    "\n",
    "\n",
    "gb_param_grid = {'classifier__loss' : [\"deviance\"],\n",
    "              'classifier__n_estimators' : [100,200],\n",
    "              'classifier__learning_rate': [0.05, 0.1],\n",
    "              'classifier__max_depth': [4, 8, 12],\n",
    "              'classifier__max_features': [0.5, 0.3, 0.1] \n",
    "              }\n",
    "\n",
    "gsGBC = GridSearchCV(pipe, gb_param_grid, cv=kfold, verbose=10)\n",
    "\n",
    "gsGBC.fit(X_train,y_train)\n",
    "\n",
    "GBC_best = gsGBC.best_estimator_\n",
    "\n",
    "# Best score\n",
    "gsGBC.best_score_"
   ],
   "metadata": {
    "collapsed": false,
    "pycharm": {
     "name": "#%%\n"
    }
   }
  },
  {
   "cell_type": "markdown",
   "source": [
    "### 5.1.4 Logistic Regression"
   ],
   "metadata": {
    "collapsed": false,
    "pycharm": {
     "name": "#%% md\n"
    }
   }
  },
  {
   "cell_type": "code",
   "execution_count": null,
   "outputs": [],
   "source": [
    "pipe = Pipeline([\n",
    "    ('preprocessing', preprocess_pipeline),\n",
    "    ('classifier', LogisticRegression())])\n",
    "\n",
    "LR_param_grid = {\n",
    "    'classifier__C': [0.001, 0.01, 0.1, 1, 10, 100, 1000],\n",
    "     'classifier__solver': ['newton-cg', 'lbfgs', 'liblinear', 'sag', 'saga']\n",
    "}\n",
    "\n",
    "\n",
    "gsLR = GridSearchCV(pipe ,param_grid = LR_param_grid, cv=kfold, verbose = 10)\n",
    "\n",
    "gsLR.fit(X_train,y_train)\n",
    "\n",
    "LR_best = gsLR.best_estimator_\n",
    "\n",
    "gsLR.best_score_"
   ],
   "metadata": {
    "collapsed": false,
    "pycharm": {
     "name": "#%%\n"
    }
   }
  },
  {
   "cell_type": "markdown",
   "source": [
    "### 5.1.5 XGBoost"
   ],
   "metadata": {
    "collapsed": false,
    "pycharm": {
     "name": "#%% md\n"
    }
   }
  },
  {
   "cell_type": "markdown",
   "source": [],
   "metadata": {
    "collapsed": false,
    "pycharm": {
     "name": "#%% md\n"
    }
   }
  },
  {
   "cell_type": "code",
   "execution_count": null,
   "outputs": [],
   "source": [
    "pipe = Pipeline([\n",
    "    ('preprocessing', preprocess_pipeline),\n",
    "    ('classifier', XGBClassifier())])\n",
    "\n",
    "param_distribution = {\n",
    "    'classifier__max_depth': randint(3, 20),\n",
    "    'classifier__learning_rate': uniform(0.001, 0.1-0.001),\n",
    "    'classifier__n_estimators': randint(50, 600),\n",
    "    'classifier__gamma': uniform(0,2),\n",
    "    'classifier__colsample_bytree': uniform(0.5, 0.5),\n",
    "    'classifier__subsample': uniform(0.5, 0.5),\n",
    "    'classifier__min_child_weight': randint(1, 11)\n",
    "}\n",
    "\n",
    "\n",
    "gsXGB = RandomizedSearchCV(pipe, param_distribution, n_iter=32, verbose=10 )\n",
    "\n",
    "gsXGB.fit(X_train, y_train)\n",
    "XGB_best = gsXGB.best_estimator_\n",
    "\n",
    "# Best score\n",
    "gsXGB.best_score_"
   ],
   "metadata": {
    "collapsed": false,
    "pycharm": {
     "name": "#%%\n"
    }
   }
  },
  {
   "cell_type": "markdown",
   "source": [
    "### 5.1.6 SVC linear"
   ],
   "metadata": {
    "collapsed": false,
    "pycharm": {
     "name": "#%% md\n"
    }
   }
  },
  {
   "cell_type": "code",
   "execution_count": null,
   "outputs": [],
   "source": [
    "pipe = Pipeline([\n",
    "    ('preprocessing', preprocess_pipeline),\n",
    "    ('classifier', SVC(kernel=\"linear\"))])\n",
    "\n",
    "param_grid = {\n",
    "          \n",
    "            'classifier__gamma': [0.001, 0.1, 1, ],\n",
    "            'classifier__C': [0.001, 0.1, 1,],\n",
    "            'classifier__probability': [True]\n",
    "}\n",
    "\n",
    "gsSVC_linear = GridSearchCV(pipe, param_grid, cv=kfold, verbose=10)\n",
    "\n",
    "gsSVC_linear.fit(X_train, y_train)\n",
    "\n",
    "gsSVC_linear_best = gsSVC_linear.best_estimator_\n",
    "\n",
    "# Best score\n",
    "gsSVC_linear.best_score_"
   ],
   "metadata": {
    "collapsed": false,
    "pycharm": {
     "name": "#%%\n"
    }
   }
  },
  {
   "cell_type": "markdown",
   "source": [
    "### 5.1.7 Ada Boost"
   ],
   "metadata": {
    "collapsed": false,
    "pycharm": {
     "name": "#%% md\n"
    }
   }
  },
  {
   "cell_type": "code",
   "execution_count": null,
   "outputs": [],
   "source": [
    "DTC = DecisionTreeClassifier()\n",
    "\n",
    "pipe = Pipeline([\n",
    "    ('preprocessing', preprocess_pipeline),\n",
    "    ('classifier', AdaBoostClassifier(DTC, random_state=7))])\n",
    "\n",
    "ada_param_grid = {\"classifier__base_estimator__criterion\" : [\"gini\", \"entropy\"],\n",
    "              \"classifier__base_estimator__splitter\" :   [\"best\", \"random\"],\n",
    "              \"classifier__algorithm\" : [\"SAMME\",\"SAMME.R\"],\n",
    "              \"classifier__n_estimators\" :[1,2],\n",
    "              \"classifier__learning_rate\":  [0.0001, 0.001, 0.01, 0.1, 0.2, 0.3,1.5]}\n",
    "\n",
    "gsAda = GridSearchCV(pipe ,param_grid = ada_param_grid, cv=kfold, verbose = 10)\n",
    "\n",
    "gsAda.fit(X_train, y_train)\n",
    "\n",
    "ada_best = gsAda.best_estimator_"
   ],
   "metadata": {
    "collapsed": false,
    "pycharm": {
     "name": "#%%\n"
    }
   }
  },
  {
   "cell_type": "markdown",
   "source": [
    "### 5.1.9 Voting classifier (hard)"
   ],
   "metadata": {
    "collapsed": false,
    "pycharm": {
     "name": "#%% md\n"
    }
   }
  },
  {
   "cell_type": "code",
   "execution_count": null,
   "outputs": [],
   "source": [
    "# Hard voting \n",
    "\n",
    "hard_voting_class = VotingClassifier(estimators=[ ('DT', DT_best),('RFC', RFC_best),\n",
    "('GBC',GBC_best), ('XGB', XGB_best)], voting='hard')\n",
    "\n",
    "hard_voting = hard_voting_class.fit(X_train, y_train)"
   ],
   "metadata": {
    "collapsed": false,
    "pycharm": {
     "name": "#%%\n"
    }
   }
  },
  {
   "cell_type": "markdown",
   "source": [
    "### 5.1.10 Voitng classifier (soft)"
   ],
   "metadata": {
    "collapsed": false,
    "pycharm": {
     "name": "#%% md\n"
    }
   }
  },
  {
   "cell_type": "code",
   "execution_count": null,
   "outputs": [],
   "source": [
    "# Soft voting\n",
    "\n",
    "\n",
    "soft_voting_class = VotingClassifier(estimators=[ ('DT', DT_best),('XGBoost', RFC_best),\n",
    "('GBC',GBC_best), ('XGB', XGB_best)], voting='soft')\n",
    "\n",
    "soft_voting = soft_voting_class.fit(X_train, y_train)"
   ],
   "metadata": {
    "collapsed": false,
    "pycharm": {
     "name": "#%%\n"
    }
   }
  },
  {
   "cell_type": "markdown",
   "source": [
    "### 5.1.11 Porównianie modeli płytkich"
   ],
   "metadata": {
    "collapsed": false,
    "pycharm": {
     "name": "#%% md\n"
    }
   }
  },
  {
   "cell_type": "code",
   "execution_count": null,
   "outputs": [],
   "source": [
    "models = []\n",
    "models.append(('DecisionTree', gsDT.best_estimator_))\n",
    "models.append(('RandomForest', gsRFC.best_estimator_))\n",
    "models.append(('GradientBoosting', gsGBC.best_estimator_))\n",
    "models.append(('XGBoost', gsXGB.best_estimator_))\n",
    "models.append(('LogisticRegression', gsLR.best_estimator_))\n",
    "models.append(('SVC_linear', gsSVC_linear.best_estimator_))\n",
    "models.append(('Ada Boost', gsAda.best_estimator_))\n",
    "models.append(('Hard voting', hard_voting))\n",
    "models.append(('Soft voting', soft_voting))\n",
    "\n",
    "\n",
    "precision_score = []\n",
    "recall_score = []\n",
    "f1_score = []\n",
    "accuracy_score = []\n",
    "for name, model in models:\n",
    "    print(name)\n",
    "    print(\"precision_score: {}\".format(metrics.precision_score(y_test, model.predict(X_test)) ))\n",
    "    print(\"recall_score: {}\".format( metrics.recall_score(y_test, model.predict(X_test)) ))\n",
    "    print(\"f1_score: {}\".format( metrics.f1_score(y_test, model.predict(X_test)) ))\n",
    "    print(\"accuracy_score: {}\".format( metrics.accuracy_score(y_test, model.predict(X_test)) ))\n",
    "    precision_score.append(metrics.precision_score(y_test, model.predict(X_test)))\n",
    "    recall_score.append(metrics.recall_score(y_test, model.predict(X_test)))\n",
    "    f1_score.append( metrics.f1_score(y_test, model.predict(X_test)))\n",
    "    accuracy_score.append(metrics.accuracy_score(y_test, model.predict(X_test)))"
   ],
   "metadata": {
    "collapsed": false,
    "pycharm": {
     "name": "#%%\n"
    }
   }
  },
  {
   "cell_type": "code",
   "execution_count": null,
   "outputs": [],
   "source": [
    "models2 = []\n",
    "models2.append(('DecisionTree', gsDT.best_estimator_))\n",
    "models2.append(('RandomForest', gsRFC.best_estimator_))\n",
    "models2.append(('GradientBoosting', gsGBC.best_estimator_))\n",
    "models2.append(('XGBoost', gsXGB.best_estimator_))\n",
    "models2.append(('LogisticRegression', gsLR.best_estimator_))\n",
    "models.append(('SVC_linear', gsSVC_linear.best_estimator_))\n",
    "models2.append(('Ada Boost', gsAda.best_estimator_))\n",
    "#models2.append(('Hard voting', hard_voting))\n",
    "models2.append(('Soft voting', soft_voting))\n",
    "\n",
    "\n",
    "for name, model in models2:\n",
    "    print(name)\n",
    "    print(\"roc_score: {}\".format(roc_auc_score(y_test, model.predict(X_test))))\n",
    "   \n",
    "    # calculate the fpr and tpr for all thresholds of the classification\n",
    "    probs = model.predict_proba(X_test)\n",
    "    preds = probs[:,1]\n",
    "    fpr, tpr, threshold = metrics.roc_curve(y_test, preds)\n",
    "    roc_auc = metrics.auc(fpr, tpr)\n",
    " \n",
    "    # method I: plt\n",
    "    import matplotlib.pyplot as plt\n",
    "    plt.title('Receiver Operating Characteristic')\n",
    "    plt.plot(fpr, tpr, label = '%s AUC = %0.10f' % (name, roc_auc))\n",
    "    plt.legend(loc = 'lower right')\n",
    "    plt.plot([-0.1, 1.1], [0, 1],'r--')\n",
    "    plt.xlim([-0.1, 1.1])\n",
    "    plt.ylim([-0.1, 1.1])\n",
    "    plt.ylabel('True Positive Rate')\n",
    "    plt.xlabel('False Positive Rate')\n",
    "\n",
    "plt.rcParams[\"figure.figsize\"] = (25,12)\n",
    "plt.show()"
   ],
   "metadata": {
    "collapsed": false,
    "pycharm": {
     "name": "#%%\n"
    }
   }
  },
  {
   "cell_type": "code",
   "execution_count": null,
   "outputs": [],
   "source": [
    "d = {'precision_score': precision_score, \n",
    "     'recall_score': recall_score, \n",
    "     'f1_score': f1_score,\n",
    "     'accuracy_score' : accuracy_score\n",
    "    }\n",
    "df = pd.DataFrame(data=d)\n",
    "df.insert(loc=0, column='Method', value=['Decision tree', 'Random Forest', 'Gradient Boosting', 'XGBoost', 'Logistic Regression','SVC Linear', 'Ada Boost','Hard Voting', 'Soft Voting'])\n",
    "df"
   ],
   "metadata": {
    "collapsed": false,
    "pycharm": {
     "name": "#%%\n"
    }
   }
  },
  {
   "cell_type": "markdown",
   "source": [
    "## 5.2 Uczenie głębokie"
   ],
   "metadata": {
    "collapsed": false,
    "pycharm": {
     "name": "#%% md\n"
    }
   }
  },
  {
   "cell_type": "markdown",
   "source": [
    "Najpierw przetwórzmy nasze dane przy pomocy pipelineów"
   ],
   "metadata": {
    "collapsed": false,
    "pycharm": {
     "name": "#%% md\n"
    }
   }
  },
  {
   "cell_type": "code",
   "execution_count": null,
   "outputs": [],
   "source": [
    "X_train2 = preprocess_pipeline.transform(X_train)\n",
    "X_test2 = preprocess_pipeline.transform(X_test)"
   ],
   "metadata": {
    "collapsed": false,
    "pycharm": {
     "name": "#%%\n"
    }
   }
  },
  {
   "cell_type": "markdown",
   "source": [
    "### 5.2.1 Sieć bez bajerów"
   ],
   "metadata": {
    "collapsed": false,
    "pycharm": {
     "name": "#%% md\n"
    }
   }
  },
  {
   "cell_type": "code",
   "execution_count": null,
   "outputs": [],
   "source": [
    "keras.backend.clear_session()\n",
    "np.random.seed(42)\n",
    "tf.random.set_seed(42)\n",
    "\n",
    "model1 = keras.models.Sequential()\n",
    "model1.add(layers.Dense(82, input_dim=82, activation='sigmoid'))\n",
    "model1.add(layers.Dense(41, input_dim=82, activation='sigmoid'))\n",
    "model1.add(layers.Dense(20, input_dim=82, activation='sigmoid'))\n",
    "model1.add(layers.Dense(1, activation='sigmoid'))\n",
    "\n",
    "model1.compile(loss=\"binary_crossentropy\",\n",
    "              optimizer=\"Adam\",\n",
    "              metrics=[\"accuracy\"])\n",
    "\n",
    "history1 = model1.fit(X_train2, y_train, epochs=100, validation_data=(X_test2, y_test))"
   ],
   "metadata": {
    "collapsed": false,
    "pycharm": {
     "name": "#%%\n"
    }
   }
  },
  {
   "cell_type": "code",
   "execution_count": null,
   "outputs": [],
   "source": [
    "pd.DataFrame(history1.history).plot(figsize=(25, 12))\n",
    "plt.grid(True)\n",
    "plt.gca().set_ylim(0, 1)\n",
    "plt.show()"
   ],
   "metadata": {
    "collapsed": false,
    "pycharm": {
     "name": "#%%\n"
    }
   }
  },
  {
   "cell_type": "markdown",
   "source": [
    "### 5.2.2 Sieć z early stoppingiem"
   ],
   "metadata": {
    "collapsed": false,
    "pycharm": {
     "name": "#%% md\n"
    }
   }
  },
  {
   "cell_type": "code",
   "execution_count": null,
   "outputs": [],
   "source": [
    "model2 = keras.models.Sequential()\n",
    "model2.add(layers.Dense(82, input_dim=82, activation='elu'))\n",
    "model2.add(layers.Dense(41, input_dim=82, activation='elu'))\n",
    "model2.add(layers.Dense(20, input_dim=82, activation='elu'))\n",
    "model2.add(layers.Dense(1, activation='sigmoid'))\n",
    "\n",
    "model2.compile(loss=\"binary_crossentropy\",\n",
    "              optimizer=\"Adam\",\n",
    "              metrics=[\"accuracy\"])\n",
    "\n",
    "\n",
    "early_stopping = EarlyStopping(monitor='val_loss', patience=10, mode='min', verbose=1)\n",
    "history2 = model2.fit(X_train2, y_train, epochs=100, validation_data=(X_test2, y_test), callbacks=[early_stopping])"
   ],
   "metadata": {
    "collapsed": false,
    "pycharm": {
     "name": "#%%\n"
    }
   }
  },
  {
   "cell_type": "code",
   "execution_count": null,
   "outputs": [],
   "source": [
    "pd.DataFrame(history2.history).plot(figsize=(25, 12))\n",
    "plt.grid(True)\n",
    "plt.gca().set_ylim(0, 1)\n",
    "plt.show()"
   ],
   "metadata": {
    "collapsed": false,
    "pycharm": {
     "name": "#%%\n"
    }
   }
  },
  {
   "cell_type": "markdown",
   "source": [
    "### 5.2.3 Sieć z BatchNormalization"
   ],
   "metadata": {
    "collapsed": false,
    "pycharm": {
     "name": "#%% md\n"
    }
   }
  },
  {
   "cell_type": "code",
   "execution_count": null,
   "outputs": [],
   "source": [
    "model3 = Sequential()\n",
    "model3.add(Flatten(input_shape=[82,]))\n",
    "model3.add(BatchNormalization())\n",
    "model3.add(Activation('sigmoid'))\n",
    "\n",
    "model3.add(Dense(300))\n",
    "model3.add(BatchNormalization())\n",
    "model3.add(Activation('sigmoid'))\n",
    "\n",
    "model3.add(Dense(100))\n",
    "model3.add(BatchNormalization())\n",
    "model3.add(Activation('sigmoid'))\n",
    "\n",
    "model3.add(Dense(1))\n",
    "model3.add(Activation('sigmoid'))\n",
    "\n",
    "model3.compile(loss=tf.keras.losses.BinaryCrossentropy(),\n",
    "              optimizer=\"sgd\",\n",
    "              metrics=[\"accuracy\"])\n",
    "\n",
    "history3 = model3.fit(X_train2, y_train, epochs=100, validation_data=(X_test2, y_test))"
   ],
   "metadata": {
    "collapsed": false,
    "pycharm": {
     "name": "#%%\n"
    }
   }
  },
  {
   "cell_type": "code",
   "execution_count": null,
   "outputs": [],
   "source": [
    "pd.DataFrame(history3.history).plot(figsize=(25, 12))\n",
    "plt.grid(True)\n",
    "plt.gca().set_ylim(0, 1)\n",
    "plt.show()"
   ],
   "metadata": {
    "collapsed": false,
    "pycharm": {
     "name": "#%%\n"
    }
   }
  },
  {
   "cell_type": "markdown",
   "source": [
    "### 5.2.4 Sieć z BatchNormalization i Dropoutem"
   ],
   "metadata": {
    "collapsed": false,
    "pycharm": {
     "name": "#%% md\n"
    }
   }
  },
  {
   "cell_type": "code",
   "execution_count": null,
   "outputs": [],
   "source": [
    "model4 = Sequential()\n",
    "model4.add(Flatten(input_shape=[82,]))\n",
    "model4.add(BatchNormalization())\n",
    "model4.add(Activation('elu'))\n",
    "model4.add(Dropout(0.3))\n",
    "\n",
    "model4.add(Dense(300))\n",
    "model4.add(BatchNormalization())\n",
    "model4.add(Activation('elu'))\n",
    "model4.add(Dropout(0.3))\n",
    "\n",
    "model4.add(Dense(100))\n",
    "model4.add(BatchNormalization())\n",
    "model4.add(Activation('elu'))\n",
    "model4.add(Dropout(0.3))\n",
    "\n",
    "model4.add(Dense(1))\n",
    "model4.add(Activation('sigmoid'))\n",
    "\n",
    "model4.compile(loss=tf.keras.losses.BinaryCrossentropy(),\n",
    "              optimizer=\"sgd\",\n",
    "              metrics=[\"accuracy\"])\n",
    "\n",
    "history4 = model4.fit(X_train2, y_train, epochs=100, validation_data=(X_test2, y_test))"
   ],
   "metadata": {
    "collapsed": false,
    "pycharm": {
     "name": "#%%\n"
    }
   }
  },
  {
   "cell_type": "code",
   "execution_count": null,
   "outputs": [],
   "source": [
    "pd.DataFrame(history4.history).plot(figsize=(25, 12))\n",
    "plt.grid(True)\n",
    "plt.gca().set_ylim(0, 1)\n",
    "plt.show()"
   ],
   "metadata": {
    "collapsed": false,
    "pycharm": {
     "name": "#%%\n"
    }
   }
  },
  {
   "cell_type": "markdown",
   "source": [
    "### 5.2.5 Randomized Search"
   ],
   "metadata": {
    "id": "6diPqHsfH4fT"
   }
  },
  {
   "cell_type": "code",
   "source": [
    "keras.backend.clear_session()\n",
    "\n",
    "def build_model(n_hidden=1, n_neurons=30, learning_rate=3e-3, input_shape=[82,], activation_function='sigmoid'):\n",
    "    model = keras.models.Sequential()\n",
    "    model.add(keras.layers.InputLayer(input_shape=input_shape))\n",
    "    for layer in range(n_hidden):\n",
    "        model.add(keras.layers.Dense(n_neurons, activation=activation_function))\n",
    "    model.add(keras.layers.Dense(1))\n",
    "    \n",
    "    optimizer = keras.optimizers.SGD(lr=learning_rate)\n",
    "    model.compile(loss=\"binary_crossentropy\", optimizer=optimizer, metrics=[\"accuracy\"])\n",
    "    return model"
   ],
   "metadata": {
    "id": "yuqnnGvwNR2Z"
   },
   "execution_count": 85,
   "outputs": []
  },
  {
   "cell_type": "code",
   "source": [
    "keras_class = tf.keras.wrappers.scikit_learn.KerasClassifier(build_model)\n",
    "keras_class"
   ],
   "metadata": {
    "colab": {
     "base_uri": "https://localhost:8080/"
    },
    "id": "DSy7QpqnNXwW",
    "outputId": "b3085d0b-fe3b-46fc-a8c5-c37a2eb9de07"
   },
   "execution_count": 86,
   "outputs": [
    {
     "output_type": "stream",
     "name": "stderr",
     "text": [
      "/usr/local/lib/python3.7/dist-packages/ipykernel_launcher.py:1: DeprecationWarning: KerasClassifier is deprecated, use Sci-Keras (https://github.com/adriangb/scikeras) instead. See https://www.adriangb.com/scikeras/stable/migration.html for help migrating.\n",
      "  \"\"\"Entry point for launching an IPython kernel.\n"
     ]
    },
    {
     "output_type": "execute_result",
     "data": {
      "text/plain": [
       "<keras.wrappers.scikit_learn.KerasClassifier at 0x7f980d9df210>"
      ]
     },
     "metadata": {},
     "execution_count": 86
    }
   ]
  },
  {
   "cell_type": "code",
   "source": [
    "param_distribs = {\n",
    "    \"n_hidden\": [2, 3, 4, 5],\n",
    "    \"n_neurons\": np.arange(1, 100), \n",
    "    \"activation_function\": ['relu', 'elu', 'sigmoid']\n",
    "}\n",
    "\n",
    "rnd_search_cv = RandomizedSearchCV(keras_class, param_distribs, n_iter=10, cv=3, verbose=2)\n",
    "rnd_search_cv.fit(X_train2, y_train, epochs=100, validation_split=0.1, callbacks=[EarlyStopping(monitor='val_loss', patience=20, mode='min', verbose=1)])"
   ],
   "metadata": {
    "colab": {
     "base_uri": "https://localhost:8080/"
    },
    "id": "EhXhtA3eNarZ",
    "outputId": "e4b86250-2825-4816-c0b8-afe7138ac21f"
   },
   "execution_count": 87,
   "outputs": [
    {
     "output_type": "stream",
     "name": "stdout",
     "text": [
      "Fitting 3 folds for each of 10 candidates, totalling 30 fits\n",
      "Epoch 1/100\n"
     ]
    },
    {
     "output_type": "stream",
     "name": "stderr",
     "text": [
      "/usr/local/lib/python3.7/dist-packages/keras/optimizer_v2/gradient_descent.py:102: UserWarning: The `lr` argument is deprecated, use `learning_rate` instead.\n",
      "  super(SGD, self).__init__(name, **kwargs)\n"
     ]
    },
    {
     "output_type": "stream",
     "name": "stdout",
     "text": [
      "225/225 [==============================] - 1s 3ms/step - loss: 3.5992 - accuracy: 0.7667 - val_loss: 3.5863 - val_accuracy: 0.7675\n",
      "Epoch 2/100\n",
      "225/225 [==============================] - 1s 2ms/step - loss: 3.5992 - accuracy: 0.7667 - val_loss: 3.5863 - val_accuracy: 0.7675\n",
      "Epoch 3/100\n",
      "225/225 [==============================] - 1s 2ms/step - loss: 3.5992 - accuracy: 0.7667 - val_loss: 3.5863 - val_accuracy: 0.7675\n",
      "Epoch 4/100\n",
      "225/225 [==============================] - 0s 2ms/step - loss: 3.5992 - accuracy: 0.7667 - val_loss: 3.5863 - val_accuracy: 0.7675\n",
      "Epoch 5/100\n",
      "225/225 [==============================] - 0s 2ms/step - loss: 3.5992 - accuracy: 0.7667 - val_loss: 3.5863 - val_accuracy: 0.7675\n",
      "Epoch 6/100\n",
      "225/225 [==============================] - 0s 2ms/step - loss: 3.5992 - accuracy: 0.7667 - val_loss: 3.5863 - val_accuracy: 0.7675\n",
      "Epoch 7/100\n",
      "225/225 [==============================] - 0s 2ms/step - loss: 3.5992 - accuracy: 0.7667 - val_loss: 3.5863 - val_accuracy: 0.7675\n",
      "Epoch 8/100\n",
      "225/225 [==============================] - 1s 2ms/step - loss: 3.5992 - accuracy: 0.7667 - val_loss: 3.5863 - val_accuracy: 0.7675\n",
      "Epoch 9/100\n",
      "225/225 [==============================] - 0s 2ms/step - loss: 3.5992 - accuracy: 0.7667 - val_loss: 3.5863 - val_accuracy: 0.7675\n",
      "Epoch 10/100\n",
      "225/225 [==============================] - 0s 2ms/step - loss: 3.5992 - accuracy: 0.7667 - val_loss: 3.5863 - val_accuracy: 0.7675\n",
      "Epoch 11/100\n",
      "225/225 [==============================] - 1s 2ms/step - loss: 3.5992 - accuracy: 0.7667 - val_loss: 3.5863 - val_accuracy: 0.7675\n",
      "Epoch 12/100\n",
      "225/225 [==============================] - 0s 2ms/step - loss: 3.5992 - accuracy: 0.7667 - val_loss: 3.5863 - val_accuracy: 0.7675\n",
      "Epoch 13/100\n",
      "225/225 [==============================] - 0s 2ms/step - loss: 3.5992 - accuracy: 0.7667 - val_loss: 3.5863 - val_accuracy: 0.7675\n",
      "Epoch 14/100\n",
      "225/225 [==============================] - 0s 2ms/step - loss: 3.5992 - accuracy: 0.7667 - val_loss: 3.5863 - val_accuracy: 0.7675\n",
      "Epoch 15/100\n",
      "225/225 [==============================] - 0s 2ms/step - loss: 3.5992 - accuracy: 0.7667 - val_loss: 3.5863 - val_accuracy: 0.7675\n",
      "Epoch 16/100\n",
      "225/225 [==============================] - 0s 2ms/step - loss: 3.5992 - accuracy: 0.7667 - val_loss: 3.5863 - val_accuracy: 0.7675\n",
      "Epoch 17/100\n",
      "225/225 [==============================] - 0s 2ms/step - loss: 3.5992 - accuracy: 0.7667 - val_loss: 3.5863 - val_accuracy: 0.7675\n",
      "Epoch 18/100\n",
      "225/225 [==============================] - 0s 2ms/step - loss: 3.5992 - accuracy: 0.7667 - val_loss: 3.5863 - val_accuracy: 0.7675\n",
      "Epoch 19/100\n",
      "225/225 [==============================] - 0s 2ms/step - loss: 3.5992 - accuracy: 0.7667 - val_loss: 3.5863 - val_accuracy: 0.7675\n",
      "Epoch 20/100\n",
      "225/225 [==============================] - 0s 2ms/step - loss: 3.5992 - accuracy: 0.7667 - val_loss: 3.5863 - val_accuracy: 0.7675\n",
      "Epoch 21/100\n",
      "225/225 [==============================] - 1s 2ms/step - loss: 3.5992 - accuracy: 0.7667 - val_loss: 3.5863 - val_accuracy: 0.7675\n",
      "Epoch 21: early stopping\n",
      "125/125 [==============================] - 0s 1ms/step - loss: 3.5709 - accuracy: 0.7685\n",
      "[CV] END activation_function=sigmoid, n_hidden=5, n_neurons=38; total time=  21.4s\n",
      "Epoch 1/100\n"
     ]
    },
    {
     "output_type": "stream",
     "name": "stderr",
     "text": [
      "/usr/local/lib/python3.7/dist-packages/keras/optimizer_v2/gradient_descent.py:102: UserWarning: The `lr` argument is deprecated, use `learning_rate` instead.\n",
      "  super(SGD, self).__init__(name, **kwargs)\n"
     ]
    },
    {
     "output_type": "stream",
     "name": "stdout",
     "text": [
      "225/225 [==============================] - 1s 4ms/step - loss: 11.6678 - accuracy: 0.2349 - val_loss: 11.7038 - val_accuracy: 0.2325\n",
      "Epoch 2/100\n",
      "225/225 [==============================] - 1s 4ms/step - loss: 11.6678 - accuracy: 0.2349 - val_loss: 11.7038 - val_accuracy: 0.2325\n",
      "Epoch 3/100\n",
      "225/225 [==============================] - 1s 3ms/step - loss: 11.6678 - accuracy: 0.2349 - val_loss: 11.7038 - val_accuracy: 0.2325\n",
      "Epoch 4/100\n",
      "225/225 [==============================] - 0s 2ms/step - loss: 11.6678 - accuracy: 0.2349 - val_loss: 11.7038 - val_accuracy: 0.2325\n",
      "Epoch 5/100\n",
      "225/225 [==============================] - 0s 2ms/step - loss: 11.6678 - accuracy: 0.2349 - val_loss: 11.7038 - val_accuracy: 0.2325\n",
      "Epoch 6/100\n",
      "225/225 [==============================] - 0s 2ms/step - loss: 11.6678 - accuracy: 0.2349 - val_loss: 11.7038 - val_accuracy: 0.2325\n",
      "Epoch 7/100\n",
      "225/225 [==============================] - 0s 2ms/step - loss: 11.6678 - accuracy: 0.2349 - val_loss: 11.7038 - val_accuracy: 0.2325\n",
      "Epoch 8/100\n",
      "225/225 [==============================] - 0s 2ms/step - loss: 11.6678 - accuracy: 0.2349 - val_loss: 11.7038 - val_accuracy: 0.2325\n",
      "Epoch 9/100\n",
      "225/225 [==============================] - 0s 2ms/step - loss: 11.6678 - accuracy: 0.2349 - val_loss: 11.7038 - val_accuracy: 0.2325\n",
      "Epoch 10/100\n",
      "225/225 [==============================] - 0s 2ms/step - loss: 11.6678 - accuracy: 0.2349 - val_loss: 11.7038 - val_accuracy: 0.2325\n",
      "Epoch 11/100\n",
      "225/225 [==============================] - 0s 2ms/step - loss: 11.6678 - accuracy: 0.2349 - val_loss: 11.7038 - val_accuracy: 0.2325\n",
      "Epoch 12/100\n",
      "225/225 [==============================] - 0s 2ms/step - loss: 11.6678 - accuracy: 0.2349 - val_loss: 11.7038 - val_accuracy: 0.2325\n",
      "Epoch 13/100\n",
      "225/225 [==============================] - 0s 2ms/step - loss: 11.6678 - accuracy: 0.2349 - val_loss: 11.7038 - val_accuracy: 0.2325\n",
      "Epoch 14/100\n",
      "225/225 [==============================] - 0s 2ms/step - loss: 11.6678 - accuracy: 0.2349 - val_loss: 11.7038 - val_accuracy: 0.2325\n",
      "Epoch 15/100\n",
      "225/225 [==============================] - 0s 2ms/step - loss: 11.6678 - accuracy: 0.2349 - val_loss: 11.7038 - val_accuracy: 0.2325\n",
      "Epoch 16/100\n",
      "225/225 [==============================] - 1s 2ms/step - loss: 11.6678 - accuracy: 0.2349 - val_loss: 11.7038 - val_accuracy: 0.2325\n",
      "Epoch 17/100\n",
      "225/225 [==============================] - 0s 2ms/step - loss: 11.6678 - accuracy: 0.2349 - val_loss: 11.7038 - val_accuracy: 0.2325\n",
      "Epoch 18/100\n",
      "225/225 [==============================] - 0s 2ms/step - loss: 11.6678 - accuracy: 0.2349 - val_loss: 11.7038 - val_accuracy: 0.2325\n",
      "Epoch 19/100\n",
      "225/225 [==============================] - 0s 2ms/step - loss: 11.6678 - accuracy: 0.2349 - val_loss: 11.7038 - val_accuracy: 0.2325\n",
      "Epoch 20/100\n",
      "225/225 [==============================] - 0s 2ms/step - loss: 11.6678 - accuracy: 0.2349 - val_loss: 11.7038 - val_accuracy: 0.2325\n",
      "Epoch 21/100\n",
      "225/225 [==============================] - 0s 2ms/step - loss: 11.6678 - accuracy: 0.2349 - val_loss: 11.7038 - val_accuracy: 0.2325\n",
      "Epoch 21: early stopping\n",
      "125/125 [==============================] - 0s 2ms/step - loss: 11.7610 - accuracy: 0.2288\n",
      "[CV] END activation_function=sigmoid, n_hidden=5, n_neurons=38; total time=  12.0s\n",
      "Epoch 1/100\n"
     ]
    },
    {
     "output_type": "stream",
     "name": "stderr",
     "text": [
      "/usr/local/lib/python3.7/dist-packages/keras/optimizer_v2/gradient_descent.py:102: UserWarning: The `lr` argument is deprecated, use `learning_rate` instead.\n",
      "  super(SGD, self).__init__(name, **kwargs)\n"
     ]
    },
    {
     "output_type": "stream",
     "name": "stdout",
     "text": [
      "225/225 [==============================] - 1s 3ms/step - loss: 3.5713 - accuracy: 0.7685 - val_loss: 3.3549 - val_accuracy: 0.7825\n",
      "Epoch 2/100\n",
      "225/225 [==============================] - 0s 2ms/step - loss: 3.5713 - accuracy: 0.7685 - val_loss: 3.3549 - val_accuracy: 0.7825\n",
      "Epoch 3/100\n",
      "225/225 [==============================] - 0s 2ms/step - loss: 3.5713 - accuracy: 0.7685 - val_loss: 3.3549 - val_accuracy: 0.7825\n",
      "Epoch 4/100\n",
      "225/225 [==============================] - 0s 2ms/step - loss: 3.5713 - accuracy: 0.7685 - val_loss: 3.3549 - val_accuracy: 0.7825\n",
      "Epoch 5/100\n",
      "225/225 [==============================] - 0s 2ms/step - loss: 3.5713 - accuracy: 0.7685 - val_loss: 3.3549 - val_accuracy: 0.7825\n",
      "Epoch 6/100\n",
      "225/225 [==============================] - 0s 2ms/step - loss: 3.5713 - accuracy: 0.7685 - val_loss: 3.3549 - val_accuracy: 0.7825\n",
      "Epoch 7/100\n",
      "225/225 [==============================] - 0s 2ms/step - loss: 3.5713 - accuracy: 0.7685 - val_loss: 3.3549 - val_accuracy: 0.7825\n",
      "Epoch 8/100\n",
      "225/225 [==============================] - 0s 2ms/step - loss: 3.5713 - accuracy: 0.7685 - val_loss: 3.3549 - val_accuracy: 0.7825\n",
      "Epoch 9/100\n",
      "225/225 [==============================] - 0s 2ms/step - loss: 3.5713 - accuracy: 0.7685 - val_loss: 3.3549 - val_accuracy: 0.7825\n",
      "Epoch 10/100\n",
      "225/225 [==============================] - 0s 2ms/step - loss: 3.5713 - accuracy: 0.7685 - val_loss: 3.3549 - val_accuracy: 0.7825\n",
      "Epoch 11/100\n",
      "225/225 [==============================] - 0s 2ms/step - loss: 3.5713 - accuracy: 0.7685 - val_loss: 3.3549 - val_accuracy: 0.7825\n",
      "Epoch 12/100\n",
      "225/225 [==============================] - 0s 2ms/step - loss: 3.5713 - accuracy: 0.7685 - val_loss: 3.3549 - val_accuracy: 0.7825\n",
      "Epoch 13/100\n",
      "225/225 [==============================] - 0s 2ms/step - loss: 3.5713 - accuracy: 0.7685 - val_loss: 3.3549 - val_accuracy: 0.7825\n",
      "Epoch 14/100\n",
      "225/225 [==============================] - 0s 2ms/step - loss: 3.5713 - accuracy: 0.7685 - val_loss: 3.3549 - val_accuracy: 0.7825\n",
      "Epoch 15/100\n",
      "225/225 [==============================] - 0s 2ms/step - loss: 3.5713 - accuracy: 0.7685 - val_loss: 3.3549 - val_accuracy: 0.7825\n",
      "Epoch 16/100\n",
      "225/225 [==============================] - 0s 2ms/step - loss: 3.5713 - accuracy: 0.7685 - val_loss: 3.3549 - val_accuracy: 0.7825\n",
      "Epoch 17/100\n",
      "225/225 [==============================] - 0s 2ms/step - loss: 3.5713 - accuracy: 0.7685 - val_loss: 3.3549 - val_accuracy: 0.7825\n",
      "Epoch 18/100\n",
      "225/225 [==============================] - 0s 2ms/step - loss: 3.5713 - accuracy: 0.7685 - val_loss: 3.3549 - val_accuracy: 0.7825\n",
      "Epoch 19/100\n",
      "225/225 [==============================] - 0s 2ms/step - loss: 3.5713 - accuracy: 0.7685 - val_loss: 3.3549 - val_accuracy: 0.7825\n",
      "Epoch 20/100\n",
      "225/225 [==============================] - 0s 2ms/step - loss: 3.5713 - accuracy: 0.7685 - val_loss: 3.3549 - val_accuracy: 0.7825\n",
      "Epoch 21/100\n",
      "225/225 [==============================] - 0s 2ms/step - loss: 3.5713 - accuracy: 0.7685 - val_loss: 3.3549 - val_accuracy: 0.7825\n",
      "Epoch 21: early stopping\n",
      "125/125 [==============================] - 0s 2ms/step - loss: 3.6673 - accuracy: 0.7623\n",
      "[CV] END activation_function=sigmoid, n_hidden=5, n_neurons=38; total time=  11.2s\n",
      "Epoch 1/100\n"
     ]
    },
    {
     "output_type": "stream",
     "name": "stderr",
     "text": [
      "/usr/local/lib/python3.7/dist-packages/keras/optimizer_v2/gradient_descent.py:102: UserWarning: The `lr` argument is deprecated, use `learning_rate` instead.\n",
      "  super(SGD, self).__init__(name, **kwargs)\n"
     ]
    },
    {
     "output_type": "stream",
     "name": "stdout",
     "text": [
      "225/225 [==============================] - 1s 2ms/step - loss: 11.6911 - accuracy: 0.2333 - val_loss: 11.7038 - val_accuracy: 0.2325\n",
      "Epoch 2/100\n",
      "225/225 [==============================] - 0s 2ms/step - loss: 11.6911 - accuracy: 0.2333 - val_loss: 11.7038 - val_accuracy: 0.2325\n",
      "Epoch 3/100\n",
      "225/225 [==============================] - 0s 2ms/step - loss: 11.6911 - accuracy: 0.2333 - val_loss: 11.7038 - val_accuracy: 0.2325\n",
      "Epoch 4/100\n",
      "225/225 [==============================] - 0s 2ms/step - loss: 11.6911 - accuracy: 0.2333 - val_loss: 11.7038 - val_accuracy: 0.2325\n",
      "Epoch 5/100\n",
      "225/225 [==============================] - 0s 2ms/step - loss: 11.6911 - accuracy: 0.2333 - val_loss: 11.7038 - val_accuracy: 0.2325\n",
      "Epoch 6/100\n",
      "225/225 [==============================] - 0s 2ms/step - loss: 11.6911 - accuracy: 0.2333 - val_loss: 11.7038 - val_accuracy: 0.2325\n",
      "Epoch 7/100\n",
      "225/225 [==============================] - 0s 2ms/step - loss: 11.6911 - accuracy: 0.2333 - val_loss: 11.7038 - val_accuracy: 0.2325\n",
      "Epoch 8/100\n",
      "225/225 [==============================] - 0s 2ms/step - loss: 11.6911 - accuracy: 0.2333 - val_loss: 11.7038 - val_accuracy: 0.2325\n",
      "Epoch 9/100\n",
      "225/225 [==============================] - 0s 2ms/step - loss: 11.6911 - accuracy: 0.2333 - val_loss: 11.7038 - val_accuracy: 0.2325\n",
      "Epoch 10/100\n",
      "225/225 [==============================] - 0s 2ms/step - loss: 11.6911 - accuracy: 0.2333 - val_loss: 11.7038 - val_accuracy: 0.2325\n",
      "Epoch 11/100\n",
      "225/225 [==============================] - 0s 2ms/step - loss: 11.6911 - accuracy: 0.2333 - val_loss: 11.7038 - val_accuracy: 0.2325\n",
      "Epoch 12/100\n",
      "225/225 [==============================] - 0s 2ms/step - loss: 11.6911 - accuracy: 0.2333 - val_loss: 11.7038 - val_accuracy: 0.2325\n",
      "Epoch 13/100\n",
      "225/225 [==============================] - 0s 2ms/step - loss: 11.6911 - accuracy: 0.2333 - val_loss: 11.7038 - val_accuracy: 0.2325\n",
      "Epoch 14/100\n",
      "225/225 [==============================] - 0s 2ms/step - loss: 11.6911 - accuracy: 0.2333 - val_loss: 11.7038 - val_accuracy: 0.2325\n",
      "Epoch 15/100\n",
      "225/225 [==============================] - 0s 2ms/step - loss: 11.6911 - accuracy: 0.2333 - val_loss: 11.7038 - val_accuracy: 0.2325\n",
      "Epoch 16/100\n",
      "225/225 [==============================] - 0s 2ms/step - loss: 11.6911 - accuracy: 0.2333 - val_loss: 11.7038 - val_accuracy: 0.2325\n",
      "Epoch 17/100\n",
      "225/225 [==============================] - 0s 2ms/step - loss: 11.6911 - accuracy: 0.2333 - val_loss: 11.7038 - val_accuracy: 0.2325\n",
      "Epoch 18/100\n",
      "225/225 [==============================] - 0s 2ms/step - loss: 11.6911 - accuracy: 0.2333 - val_loss: 11.7038 - val_accuracy: 0.2325\n",
      "Epoch 19/100\n",
      "225/225 [==============================] - 0s 2ms/step - loss: 11.6911 - accuracy: 0.2333 - val_loss: 11.7038 - val_accuracy: 0.2325\n",
      "Epoch 20/100\n",
      "225/225 [==============================] - 0s 2ms/step - loss: 11.6911 - accuracy: 0.2333 - val_loss: 11.7038 - val_accuracy: 0.2325\n",
      "Epoch 21/100\n",
      "225/225 [==============================] - 0s 2ms/step - loss: 11.6911 - accuracy: 0.2333 - val_loss: 11.7038 - val_accuracy: 0.2325\n",
      "Epoch 21: early stopping\n",
      "125/125 [==============================] - 0s 2ms/step - loss: 11.7190 - accuracy: 0.2315\n",
      "[CV] END activation_function=sigmoid, n_hidden=2, n_neurons=69; total time=  10.3s\n",
      "Epoch 1/100\n"
     ]
    },
    {
     "output_type": "stream",
     "name": "stderr",
     "text": [
      "/usr/local/lib/python3.7/dist-packages/keras/optimizer_v2/gradient_descent.py:102: UserWarning: The `lr` argument is deprecated, use `learning_rate` instead.\n",
      "  super(SGD, self).__init__(name, **kwargs)\n"
     ]
    },
    {
     "output_type": "stream",
     "name": "stdout",
     "text": [
      "225/225 [==============================] - 1s 3ms/step - loss: 3.6227 - accuracy: 0.7651 - val_loss: 3.5863 - val_accuracy: 0.7675\n",
      "Epoch 2/100\n",
      "225/225 [==============================] - 0s 2ms/step - loss: 3.6227 - accuracy: 0.7651 - val_loss: 3.5863 - val_accuracy: 0.7675\n",
      "Epoch 3/100\n",
      "225/225 [==============================] - 0s 2ms/step - loss: 3.6227 - accuracy: 0.7651 - val_loss: 3.5863 - val_accuracy: 0.7675\n",
      "Epoch 4/100\n",
      "225/225 [==============================] - 0s 2ms/step - loss: 3.6227 - accuracy: 0.7651 - val_loss: 3.5863 - val_accuracy: 0.7675\n",
      "Epoch 5/100\n",
      "225/225 [==============================] - 0s 2ms/step - loss: 3.6227 - accuracy: 0.7651 - val_loss: 3.5863 - val_accuracy: 0.7675\n",
      "Epoch 6/100\n",
      "225/225 [==============================] - 0s 2ms/step - loss: 3.6227 - accuracy: 0.7651 - val_loss: 3.5863 - val_accuracy: 0.7675\n",
      "Epoch 7/100\n",
      "225/225 [==============================] - 0s 2ms/step - loss: 3.6227 - accuracy: 0.7651 - val_loss: 3.5863 - val_accuracy: 0.7675\n",
      "Epoch 8/100\n",
      "225/225 [==============================] - 0s 2ms/step - loss: 3.6227 - accuracy: 0.7651 - val_loss: 3.5863 - val_accuracy: 0.7675\n",
      "Epoch 9/100\n",
      "225/225 [==============================] - 0s 2ms/step - loss: 3.6227 - accuracy: 0.7651 - val_loss: 3.5863 - val_accuracy: 0.7675\n",
      "Epoch 10/100\n",
      "225/225 [==============================] - 0s 2ms/step - loss: 3.6227 - accuracy: 0.7651 - val_loss: 3.5863 - val_accuracy: 0.7675\n",
      "Epoch 11/100\n",
      "225/225 [==============================] - 0s 2ms/step - loss: 3.6227 - accuracy: 0.7651 - val_loss: 3.5863 - val_accuracy: 0.7675\n",
      "Epoch 12/100\n",
      "225/225 [==============================] - 0s 2ms/step - loss: 3.6227 - accuracy: 0.7651 - val_loss: 3.5863 - val_accuracy: 0.7675\n",
      "Epoch 13/100\n",
      "225/225 [==============================] - 0s 2ms/step - loss: 3.6227 - accuracy: 0.7651 - val_loss: 3.5863 - val_accuracy: 0.7675\n",
      "Epoch 14/100\n",
      "225/225 [==============================] - 0s 2ms/step - loss: 3.6227 - accuracy: 0.7651 - val_loss: 3.5863 - val_accuracy: 0.7675\n",
      "Epoch 15/100\n",
      "225/225 [==============================] - 0s 2ms/step - loss: 3.6227 - accuracy: 0.7651 - val_loss: 3.5863 - val_accuracy: 0.7675\n",
      "Epoch 16/100\n",
      "225/225 [==============================] - 1s 2ms/step - loss: 3.6227 - accuracy: 0.7651 - val_loss: 3.5863 - val_accuracy: 0.7675\n",
      "Epoch 17/100\n",
      "225/225 [==============================] - 0s 2ms/step - loss: 3.6227 - accuracy: 0.7651 - val_loss: 3.5863 - val_accuracy: 0.7675\n",
      "Epoch 18/100\n",
      "225/225 [==============================] - 0s 2ms/step - loss: 3.6227 - accuracy: 0.7651 - val_loss: 3.5863 - val_accuracy: 0.7675\n",
      "Epoch 19/100\n",
      "225/225 [==============================] - 0s 2ms/step - loss: 3.6227 - accuracy: 0.7651 - val_loss: 3.5863 - val_accuracy: 0.7675\n",
      "Epoch 20/100\n",
      "225/225 [==============================] - 0s 2ms/step - loss: 3.6227 - accuracy: 0.7651 - val_loss: 3.5863 - val_accuracy: 0.7675\n",
      "Epoch 21/100\n",
      "225/225 [==============================] - 0s 2ms/step - loss: 3.6227 - accuracy: 0.7651 - val_loss: 3.5863 - val_accuracy: 0.7675\n",
      "Epoch 21: early stopping\n",
      "125/125 [==============================] - 0s 2ms/step - loss: 3.5285 - accuracy: 0.7713\n",
      "[CV] END activation_function=sigmoid, n_hidden=2, n_neurons=69; total time=  11.0s\n",
      "Epoch 1/100\n"
     ]
    },
    {
     "output_type": "stream",
     "name": "stderr",
     "text": [
      "/usr/local/lib/python3.7/dist-packages/keras/optimizer_v2/gradient_descent.py:102: UserWarning: The `lr` argument is deprecated, use `learning_rate` instead.\n",
      "  super(SGD, self).__init__(name, **kwargs)\n"
     ]
    },
    {
     "output_type": "stream",
     "name": "stdout",
     "text": [
      "225/225 [==============================] - 1s 3ms/step - loss: 0.5178 - accuracy: 0.7661 - val_loss: 0.4732 - val_accuracy: 0.7825\n",
      "Epoch 2/100\n",
      "225/225 [==============================] - 0s 2ms/step - loss: 0.4734 - accuracy: 0.7696 - val_loss: 0.4364 - val_accuracy: 0.7825\n",
      "Epoch 3/100\n",
      "225/225 [==============================] - 1s 2ms/step - loss: 0.4571 - accuracy: 0.7750 - val_loss: 0.4166 - val_accuracy: 0.7962\n",
      "Epoch 4/100\n",
      "225/225 [==============================] - 0s 2ms/step - loss: 10.7040 - accuracy: 0.2814 - val_loss: 11.9325 - val_accuracy: 0.2175\n",
      "Epoch 5/100\n",
      "225/225 [==============================] - 0s 2ms/step - loss: 11.7186 - accuracy: 0.2315 - val_loss: 11.9325 - val_accuracy: 0.2175\n",
      "Epoch 6/100\n",
      "225/225 [==============================] - 0s 2ms/step - loss: 11.7186 - accuracy: 0.2315 - val_loss: 11.9325 - val_accuracy: 0.2175\n",
      "Epoch 7/100\n",
      "225/225 [==============================] - 0s 2ms/step - loss: 11.7186 - accuracy: 0.2315 - val_loss: 11.9325 - val_accuracy: 0.2175\n",
      "Epoch 8/100\n",
      "225/225 [==============================] - 0s 2ms/step - loss: 11.7186 - accuracy: 0.2315 - val_loss: 11.9325 - val_accuracy: 0.2175\n",
      "Epoch 9/100\n",
      "225/225 [==============================] - 0s 2ms/step - loss: 11.7186 - accuracy: 0.2315 - val_loss: 11.9325 - val_accuracy: 0.2175\n",
      "Epoch 10/100\n",
      "225/225 [==============================] - 0s 2ms/step - loss: 11.7186 - accuracy: 0.2315 - val_loss: 11.9325 - val_accuracy: 0.2175\n",
      "Epoch 11/100\n",
      "225/225 [==============================] - 0s 2ms/step - loss: 11.7186 - accuracy: 0.2315 - val_loss: 11.9325 - val_accuracy: 0.2175\n",
      "Epoch 12/100\n",
      "225/225 [==============================] - 0s 2ms/step - loss: 11.7186 - accuracy: 0.2315 - val_loss: 11.9325 - val_accuracy: 0.2175\n",
      "Epoch 13/100\n",
      "225/225 [==============================] - 0s 2ms/step - loss: 11.7186 - accuracy: 0.2315 - val_loss: 11.9325 - val_accuracy: 0.2175\n",
      "Epoch 14/100\n",
      "225/225 [==============================] - 0s 2ms/step - loss: 11.7186 - accuracy: 0.2315 - val_loss: 11.9325 - val_accuracy: 0.2175\n",
      "Epoch 15/100\n",
      "225/225 [==============================] - 0s 2ms/step - loss: 11.7186 - accuracy: 0.2315 - val_loss: 11.9325 - val_accuracy: 0.2175\n",
      "Epoch 16/100\n",
      "225/225 [==============================] - 0s 2ms/step - loss: 11.7186 - accuracy: 0.2315 - val_loss: 11.9325 - val_accuracy: 0.2175\n",
      "Epoch 17/100\n",
      "225/225 [==============================] - 0s 2ms/step - loss: 11.7186 - accuracy: 0.2315 - val_loss: 11.9325 - val_accuracy: 0.2175\n",
      "Epoch 18/100\n",
      "225/225 [==============================] - 0s 2ms/step - loss: 11.7186 - accuracy: 0.2315 - val_loss: 11.9325 - val_accuracy: 0.2175\n",
      "Epoch 19/100\n",
      "225/225 [==============================] - 0s 2ms/step - loss: 11.7186 - accuracy: 0.2315 - val_loss: 11.9325 - val_accuracy: 0.2175\n",
      "Epoch 20/100\n",
      "225/225 [==============================] - 0s 2ms/step - loss: 11.7186 - accuracy: 0.2315 - val_loss: 11.9325 - val_accuracy: 0.2175\n",
      "Epoch 21/100\n",
      "225/225 [==============================] - 0s 2ms/step - loss: 11.7186 - accuracy: 0.2315 - val_loss: 11.9325 - val_accuracy: 0.2175\n",
      "Epoch 22/100\n",
      "225/225 [==============================] - 0s 2ms/step - loss: 11.7186 - accuracy: 0.2315 - val_loss: 11.9325 - val_accuracy: 0.2175\n",
      "Epoch 23/100\n",
      "225/225 [==============================] - 0s 2ms/step - loss: 11.7186 - accuracy: 0.2315 - val_loss: 11.9325 - val_accuracy: 0.2175\n",
      "Epoch 23: early stopping\n",
      "125/125 [==============================] - 0s 2ms/step - loss: 11.6237 - accuracy: 0.2377\n",
      "[CV] END activation_function=sigmoid, n_hidden=2, n_neurons=69; total time=  21.2s\n"
     ]
    },
    {
     "output_type": "stream",
     "name": "stderr",
     "text": [
      "/usr/local/lib/python3.7/dist-packages/keras/optimizer_v2/gradient_descent.py:102: UserWarning: The `lr` argument is deprecated, use `learning_rate` instead.\n",
      "  super(SGD, self).__init__(name, **kwargs)\n"
     ]
    },
    {
     "output_type": "stream",
     "name": "stdout",
     "text": [
      "Epoch 1/100\n",
      "225/225 [==============================] - 1s 3ms/step - loss: 3.5992 - accuracy: 0.7667 - val_loss: 3.5863 - val_accuracy: 0.7675\n",
      "Epoch 2/100\n",
      "225/225 [==============================] - 1s 2ms/step - loss: 3.5992 - accuracy: 0.7667 - val_loss: 3.5863 - val_accuracy: 0.7675\n",
      "Epoch 3/100\n",
      "225/225 [==============================] - 1s 2ms/step - loss: 3.5992 - accuracy: 0.7667 - val_loss: 3.5863 - val_accuracy: 0.7675\n",
      "Epoch 4/100\n",
      "225/225 [==============================] - 1s 2ms/step - loss: 3.5992 - accuracy: 0.7667 - val_loss: 3.5863 - val_accuracy: 0.7675\n",
      "Epoch 5/100\n",
      "225/225 [==============================] - 1s 2ms/step - loss: 3.5992 - accuracy: 0.7667 - val_loss: 3.5863 - val_accuracy: 0.7675\n",
      "Epoch 6/100\n",
      "225/225 [==============================] - 1s 2ms/step - loss: 3.5992 - accuracy: 0.7667 - val_loss: 3.5863 - val_accuracy: 0.7675\n",
      "Epoch 7/100\n",
      "225/225 [==============================] - 1s 2ms/step - loss: 3.5992 - accuracy: 0.7667 - val_loss: 3.5863 - val_accuracy: 0.7675\n",
      "Epoch 8/100\n",
      "225/225 [==============================] - 1s 2ms/step - loss: 3.5992 - accuracy: 0.7667 - val_loss: 3.5863 - val_accuracy: 0.7675\n",
      "Epoch 9/100\n",
      "225/225 [==============================] - 1s 2ms/step - loss: 3.5992 - accuracy: 0.7667 - val_loss: 3.5863 - val_accuracy: 0.7675\n",
      "Epoch 10/100\n",
      "225/225 [==============================] - 0s 2ms/step - loss: 3.5992 - accuracy: 0.7667 - val_loss: 3.5863 - val_accuracy: 0.7675\n",
      "Epoch 11/100\n",
      "225/225 [==============================] - 1s 2ms/step - loss: 3.5992 - accuracy: 0.7667 - val_loss: 3.5863 - val_accuracy: 0.7675\n",
      "Epoch 12/100\n",
      "225/225 [==============================] - 0s 2ms/step - loss: 3.5992 - accuracy: 0.7667 - val_loss: 3.5863 - val_accuracy: 0.7675\n",
      "Epoch 13/100\n",
      "225/225 [==============================] - 1s 2ms/step - loss: 3.5992 - accuracy: 0.7667 - val_loss: 3.5863 - val_accuracy: 0.7675\n",
      "Epoch 14/100\n",
      "225/225 [==============================] - 0s 2ms/step - loss: 3.5992 - accuracy: 0.7667 - val_loss: 3.5863 - val_accuracy: 0.7675\n",
      "Epoch 15/100\n",
      "225/225 [==============================] - 1s 2ms/step - loss: 3.5992 - accuracy: 0.7667 - val_loss: 3.5863 - val_accuracy: 0.7675\n",
      "Epoch 16/100\n",
      "225/225 [==============================] - 0s 2ms/step - loss: 3.5992 - accuracy: 0.7667 - val_loss: 3.5863 - val_accuracy: 0.7675\n",
      "Epoch 17/100\n",
      "225/225 [==============================] - 0s 2ms/step - loss: 3.5992 - accuracy: 0.7667 - val_loss: 3.5863 - val_accuracy: 0.7675\n",
      "Epoch 18/100\n",
      "225/225 [==============================] - 1s 2ms/step - loss: 3.5992 - accuracy: 0.7667 - val_loss: 3.5863 - val_accuracy: 0.7675\n",
      "Epoch 19/100\n",
      "225/225 [==============================] - 1s 2ms/step - loss: 3.5992 - accuracy: 0.7667 - val_loss: 3.5863 - val_accuracy: 0.7675\n",
      "Epoch 20/100\n",
      "225/225 [==============================] - 0s 2ms/step - loss: 3.5992 - accuracy: 0.7667 - val_loss: 3.5863 - val_accuracy: 0.7675\n",
      "Epoch 21/100\n",
      "225/225 [==============================] - 0s 2ms/step - loss: 3.5992 - accuracy: 0.7667 - val_loss: 3.5863 - val_accuracy: 0.7675\n",
      "Epoch 21: early stopping\n",
      "125/125 [==============================] - 0s 2ms/step - loss: 3.5709 - accuracy: 0.7685\n",
      "[CV] END activation_function=sigmoid, n_hidden=5, n_neurons=42; total time=  22.0s\n",
      "Epoch 1/100\n"
     ]
    },
    {
     "output_type": "stream",
     "name": "stderr",
     "text": [
      "/usr/local/lib/python3.7/dist-packages/keras/optimizer_v2/gradient_descent.py:102: UserWarning: The `lr` argument is deprecated, use `learning_rate` instead.\n",
      "  super(SGD, self).__init__(name, **kwargs)\n"
     ]
    },
    {
     "output_type": "stream",
     "name": "stdout",
     "text": [
      "225/225 [==============================] - 1s 3ms/step - loss: 3.6227 - accuracy: 0.7651 - val_loss: 3.5863 - val_accuracy: 0.7675\n",
      "Epoch 2/100\n",
      "225/225 [==============================] - 1s 2ms/step - loss: 3.6227 - accuracy: 0.7651 - val_loss: 3.5863 - val_accuracy: 0.7675\n",
      "Epoch 3/100\n",
      "225/225 [==============================] - 1s 2ms/step - loss: 3.6227 - accuracy: 0.7651 - val_loss: 3.5863 - val_accuracy: 0.7675\n",
      "Epoch 4/100\n",
      "225/225 [==============================] - 0s 2ms/step - loss: 3.6227 - accuracy: 0.7651 - val_loss: 3.5863 - val_accuracy: 0.7675\n",
      "Epoch 5/100\n",
      "225/225 [==============================] - 0s 2ms/step - loss: 3.6227 - accuracy: 0.7651 - val_loss: 3.5863 - val_accuracy: 0.7675\n",
      "Epoch 6/100\n",
      "225/225 [==============================] - 1s 2ms/step - loss: 3.6227 - accuracy: 0.7651 - val_loss: 3.5863 - val_accuracy: 0.7675\n",
      "Epoch 7/100\n",
      "225/225 [==============================] - 1s 2ms/step - loss: 3.6227 - accuracy: 0.7651 - val_loss: 3.5863 - val_accuracy: 0.7675\n",
      "Epoch 8/100\n",
      "225/225 [==============================] - 1s 2ms/step - loss: 3.6227 - accuracy: 0.7651 - val_loss: 3.5863 - val_accuracy: 0.7675\n",
      "Epoch 9/100\n",
      "225/225 [==============================] - 0s 2ms/step - loss: 3.6227 - accuracy: 0.7651 - val_loss: 3.5863 - val_accuracy: 0.7675\n",
      "Epoch 10/100\n",
      "225/225 [==============================] - 1s 2ms/step - loss: 3.6227 - accuracy: 0.7651 - val_loss: 3.5863 - val_accuracy: 0.7675\n",
      "Epoch 11/100\n",
      "225/225 [==============================] - 0s 2ms/step - loss: 3.6227 - accuracy: 0.7651 - val_loss: 3.5863 - val_accuracy: 0.7675\n",
      "Epoch 12/100\n",
      "225/225 [==============================] - 1s 2ms/step - loss: 3.6227 - accuracy: 0.7651 - val_loss: 3.5863 - val_accuracy: 0.7675\n",
      "Epoch 13/100\n",
      "225/225 [==============================] - 0s 2ms/step - loss: 3.6227 - accuracy: 0.7651 - val_loss: 3.5863 - val_accuracy: 0.7675\n",
      "Epoch 14/100\n",
      "225/225 [==============================] - 0s 2ms/step - loss: 3.6227 - accuracy: 0.7651 - val_loss: 3.5863 - val_accuracy: 0.7675\n",
      "Epoch 15/100\n",
      "225/225 [==============================] - 0s 2ms/step - loss: 3.6227 - accuracy: 0.7651 - val_loss: 3.5863 - val_accuracy: 0.7675\n",
      "Epoch 16/100\n",
      "225/225 [==============================] - 0s 2ms/step - loss: 3.6227 - accuracy: 0.7651 - val_loss: 3.5863 - val_accuracy: 0.7675\n",
      "Epoch 17/100\n",
      "225/225 [==============================] - 0s 2ms/step - loss: 3.6227 - accuracy: 0.7651 - val_loss: 3.5863 - val_accuracy: 0.7675\n",
      "Epoch 18/100\n",
      "225/225 [==============================] - 0s 2ms/step - loss: 3.6227 - accuracy: 0.7651 - val_loss: 3.5863 - val_accuracy: 0.7675\n",
      "Epoch 19/100\n",
      "225/225 [==============================] - 1s 2ms/step - loss: 3.6227 - accuracy: 0.7651 - val_loss: 3.5863 - val_accuracy: 0.7675\n",
      "Epoch 20/100\n",
      "225/225 [==============================] - 1s 2ms/step - loss: 3.6227 - accuracy: 0.7651 - val_loss: 3.5863 - val_accuracy: 0.7675\n",
      "Epoch 21/100\n",
      "225/225 [==============================] - 0s 2ms/step - loss: 3.6227 - accuracy: 0.7651 - val_loss: 3.5863 - val_accuracy: 0.7675\n",
      "Epoch 21: early stopping\n",
      "125/125 [==============================] - 0s 2ms/step - loss: 3.5285 - accuracy: 0.7713\n",
      "[CV] END activation_function=sigmoid, n_hidden=5, n_neurons=42; total time=  21.4s\n",
      "Epoch 1/100\n"
     ]
    },
    {
     "output_type": "stream",
     "name": "stderr",
     "text": [
      "/usr/local/lib/python3.7/dist-packages/keras/optimizer_v2/gradient_descent.py:102: UserWarning: The `lr` argument is deprecated, use `learning_rate` instead.\n",
      "  super(SGD, self).__init__(name, **kwargs)\n"
     ]
    },
    {
     "output_type": "stream",
     "name": "stdout",
     "text": [
      "225/225 [==============================] - 1s 3ms/step - loss: 11.7186 - accuracy: 0.2315 - val_loss: 11.9325 - val_accuracy: 0.2175\n",
      "Epoch 2/100\n",
      "225/225 [==============================] - 1s 2ms/step - loss: 11.7186 - accuracy: 0.2315 - val_loss: 11.9325 - val_accuracy: 0.2175\n",
      "Epoch 3/100\n",
      "225/225 [==============================] - 0s 2ms/step - loss: 11.7186 - accuracy: 0.2315 - val_loss: 11.9325 - val_accuracy: 0.2175\n",
      "Epoch 4/100\n",
      "225/225 [==============================] - 1s 2ms/step - loss: 11.7186 - accuracy: 0.2315 - val_loss: 11.9325 - val_accuracy: 0.2175\n",
      "Epoch 5/100\n",
      "225/225 [==============================] - 0s 2ms/step - loss: 11.7186 - accuracy: 0.2315 - val_loss: 11.9325 - val_accuracy: 0.2175\n",
      "Epoch 6/100\n",
      "225/225 [==============================] - 0s 2ms/step - loss: 11.7186 - accuracy: 0.2315 - val_loss: 11.9325 - val_accuracy: 0.2175\n",
      "Epoch 7/100\n",
      "225/225 [==============================] - 0s 2ms/step - loss: 11.7186 - accuracy: 0.2315 - val_loss: 11.9325 - val_accuracy: 0.2175\n",
      "Epoch 8/100\n",
      "225/225 [==============================] - 0s 2ms/step - loss: 11.7186 - accuracy: 0.2315 - val_loss: 11.9325 - val_accuracy: 0.2175\n",
      "Epoch 9/100\n",
      "225/225 [==============================] - 0s 2ms/step - loss: 11.7186 - accuracy: 0.2315 - val_loss: 11.9325 - val_accuracy: 0.2175\n",
      "Epoch 10/100\n",
      "225/225 [==============================] - 0s 2ms/step - loss: 11.7186 - accuracy: 0.2315 - val_loss: 11.9325 - val_accuracy: 0.2175\n",
      "Epoch 11/100\n",
      "225/225 [==============================] - 0s 2ms/step - loss: 11.7186 - accuracy: 0.2315 - val_loss: 11.9325 - val_accuracy: 0.2175\n",
      "Epoch 12/100\n",
      "225/225 [==============================] - 1s 2ms/step - loss: 11.7186 - accuracy: 0.2315 - val_loss: 11.9325 - val_accuracy: 0.2175\n",
      "Epoch 13/100\n",
      "225/225 [==============================] - 0s 2ms/step - loss: 11.7186 - accuracy: 0.2315 - val_loss: 11.9325 - val_accuracy: 0.2175\n",
      "Epoch 14/100\n",
      "225/225 [==============================] - 0s 2ms/step - loss: 11.7186 - accuracy: 0.2315 - val_loss: 11.9325 - val_accuracy: 0.2175\n",
      "Epoch 15/100\n",
      "225/225 [==============================] - 0s 2ms/step - loss: 11.7186 - accuracy: 0.2315 - val_loss: 11.9325 - val_accuracy: 0.2175\n",
      "Epoch 16/100\n",
      "225/225 [==============================] - 0s 2ms/step - loss: 11.7186 - accuracy: 0.2315 - val_loss: 11.9325 - val_accuracy: 0.2175\n",
      "Epoch 17/100\n",
      "225/225 [==============================] - 0s 2ms/step - loss: 11.7186 - accuracy: 0.2315 - val_loss: 11.9325 - val_accuracy: 0.2175\n",
      "Epoch 18/100\n",
      "225/225 [==============================] - 1s 2ms/step - loss: 11.7186 - accuracy: 0.2315 - val_loss: 11.9325 - val_accuracy: 0.2175\n",
      "Epoch 19/100\n",
      "225/225 [==============================] - 1s 2ms/step - loss: 11.7186 - accuracy: 0.2315 - val_loss: 11.9325 - val_accuracy: 0.2175\n",
      "Epoch 20/100\n",
      "225/225 [==============================] - 1s 2ms/step - loss: 11.7186 - accuracy: 0.2315 - val_loss: 11.9325 - val_accuracy: 0.2175\n",
      "Epoch 21/100\n",
      "225/225 [==============================] - 1s 2ms/step - loss: 11.7186 - accuracy: 0.2315 - val_loss: 11.9325 - val_accuracy: 0.2175\n",
      "Epoch 21: early stopping\n",
      "125/125 [==============================] - 0s 2ms/step - loss: 11.6237 - accuracy: 0.2377\n",
      "[CV] END activation_function=sigmoid, n_hidden=5, n_neurons=42; total time=  11.4s\n",
      "Epoch 1/100\n"
     ]
    },
    {
     "output_type": "stream",
     "name": "stderr",
     "text": [
      "/usr/local/lib/python3.7/dist-packages/keras/optimizer_v2/gradient_descent.py:102: UserWarning: The `lr` argument is deprecated, use `learning_rate` instead.\n",
      "  super(SGD, self).__init__(name, **kwargs)\n"
     ]
    },
    {
     "output_type": "stream",
     "name": "stdout",
     "text": [
      "225/225 [==============================] - 1s 3ms/step - loss: 0.5438 - accuracy: 0.7667 - val_loss: 0.5430 - val_accuracy: 0.7675\n",
      "Epoch 2/100\n",
      "225/225 [==============================] - 0s 2ms/step - loss: 0.5440 - accuracy: 0.7667 - val_loss: 0.5424 - val_accuracy: 0.7675\n",
      "Epoch 3/100\n",
      "225/225 [==============================] - 0s 2ms/step - loss: 0.5440 - accuracy: 0.7667 - val_loss: 0.5424 - val_accuracy: 0.7675\n",
      "Epoch 4/100\n",
      "225/225 [==============================] - 1s 2ms/step - loss: 0.5438 - accuracy: 0.7667 - val_loss: 0.5438 - val_accuracy: 0.7675\n",
      "Epoch 5/100\n",
      "225/225 [==============================] - 1s 2ms/step - loss: 0.5440 - accuracy: 0.7667 - val_loss: 0.5424 - val_accuracy: 0.7675\n",
      "Epoch 6/100\n",
      "225/225 [==============================] - 0s 2ms/step - loss: 0.5439 - accuracy: 0.7667 - val_loss: 0.5429 - val_accuracy: 0.7675\n",
      "Epoch 7/100\n",
      "225/225 [==============================] - 0s 2ms/step - loss: 0.5438 - accuracy: 0.7667 - val_loss: 0.5426 - val_accuracy: 0.7675\n",
      "Epoch 8/100\n",
      "225/225 [==============================] - 0s 2ms/step - loss: 0.5439 - accuracy: 0.7667 - val_loss: 0.5424 - val_accuracy: 0.7675\n",
      "Epoch 9/100\n",
      "225/225 [==============================] - 0s 2ms/step - loss: 0.5438 - accuracy: 0.7667 - val_loss: 0.5424 - val_accuracy: 0.7675\n",
      "Epoch 10/100\n",
      "225/225 [==============================] - 0s 2ms/step - loss: 0.5439 - accuracy: 0.7667 - val_loss: 0.5424 - val_accuracy: 0.7675\n",
      "Epoch 11/100\n",
      "225/225 [==============================] - 0s 2ms/step - loss: 0.5434 - accuracy: 0.7667 - val_loss: 0.5437 - val_accuracy: 0.7675\n",
      "Epoch 12/100\n",
      "225/225 [==============================] - 0s 2ms/step - loss: 0.5440 - accuracy: 0.7667 - val_loss: 0.5426 - val_accuracy: 0.7675\n",
      "Epoch 13/100\n",
      "225/225 [==============================] - 0s 2ms/step - loss: 0.5441 - accuracy: 0.7667 - val_loss: 0.5424 - val_accuracy: 0.7675\n",
      "Epoch 14/100\n",
      "225/225 [==============================] - 0s 2ms/step - loss: 0.5439 - accuracy: 0.7667 - val_loss: 0.5424 - val_accuracy: 0.7675\n",
      "Epoch 15/100\n",
      "225/225 [==============================] - 0s 2ms/step - loss: 0.5437 - accuracy: 0.7667 - val_loss: 0.5428 - val_accuracy: 0.7675\n",
      "Epoch 16/100\n",
      "225/225 [==============================] - 0s 2ms/step - loss: 0.5440 - accuracy: 0.7667 - val_loss: 0.5424 - val_accuracy: 0.7675\n",
      "Epoch 17/100\n",
      "225/225 [==============================] - 0s 2ms/step - loss: 0.5436 - accuracy: 0.7667 - val_loss: 0.5423 - val_accuracy: 0.7675\n",
      "Epoch 18/100\n",
      "225/225 [==============================] - 0s 2ms/step - loss: 0.5435 - accuracy: 0.7667 - val_loss: 0.5434 - val_accuracy: 0.7675\n",
      "Epoch 19/100\n",
      "225/225 [==============================] - 0s 2ms/step - loss: 0.5441 - accuracy: 0.7667 - val_loss: 0.5423 - val_accuracy: 0.7675\n",
      "Epoch 20/100\n",
      "225/225 [==============================] - 0s 2ms/step - loss: 0.5439 - accuracy: 0.7667 - val_loss: 0.5426 - val_accuracy: 0.7675\n",
      "Epoch 21/100\n",
      "225/225 [==============================] - 0s 2ms/step - loss: 0.5437 - accuracy: 0.7667 - val_loss: 0.5436 - val_accuracy: 0.7675\n",
      "Epoch 22/100\n",
      "225/225 [==============================] - 1s 2ms/step - loss: 0.5442 - accuracy: 0.7667 - val_loss: 0.5424 - val_accuracy: 0.7675\n",
      "Epoch 23/100\n",
      "225/225 [==============================] - 0s 2ms/step - loss: 0.5441 - accuracy: 0.7667 - val_loss: 0.5424 - val_accuracy: 0.7675\n",
      "Epoch 24/100\n",
      "225/225 [==============================] - 0s 2ms/step - loss: 0.5439 - accuracy: 0.7667 - val_loss: 0.5425 - val_accuracy: 0.7675\n",
      "Epoch 25/100\n",
      "225/225 [==============================] - 0s 2ms/step - loss: 0.5438 - accuracy: 0.7667 - val_loss: 0.5425 - val_accuracy: 0.7675\n",
      "Epoch 26/100\n",
      "225/225 [==============================] - 0s 2ms/step - loss: 0.5437 - accuracy: 0.7667 - val_loss: 0.5427 - val_accuracy: 0.7675\n",
      "Epoch 27/100\n",
      "225/225 [==============================] - 0s 2ms/step - loss: 0.5439 - accuracy: 0.7667 - val_loss: 0.5423 - val_accuracy: 0.7675\n",
      "Epoch 28/100\n",
      "225/225 [==============================] - 0s 2ms/step - loss: 0.5436 - accuracy: 0.7667 - val_loss: 0.5427 - val_accuracy: 0.7675\n",
      "Epoch 29/100\n",
      "225/225 [==============================] - 1s 2ms/step - loss: 0.5439 - accuracy: 0.7667 - val_loss: 0.5428 - val_accuracy: 0.7675\n",
      "Epoch 30/100\n",
      "225/225 [==============================] - 0s 2ms/step - loss: 0.5439 - accuracy: 0.7667 - val_loss: 0.5424 - val_accuracy: 0.7675\n",
      "Epoch 31/100\n",
      "225/225 [==============================] - 0s 2ms/step - loss: 0.5436 - accuracy: 0.7667 - val_loss: 0.5423 - val_accuracy: 0.7675\n",
      "Epoch 32/100\n",
      "225/225 [==============================] - 0s 2ms/step - loss: 0.5437 - accuracy: 0.7667 - val_loss: 0.5427 - val_accuracy: 0.7675\n",
      "Epoch 33/100\n",
      "225/225 [==============================] - 0s 2ms/step - loss: 0.5441 - accuracy: 0.7667 - val_loss: 0.5423 - val_accuracy: 0.7675\n",
      "Epoch 34/100\n",
      "225/225 [==============================] - 0s 2ms/step - loss: 0.5436 - accuracy: 0.7667 - val_loss: 0.5437 - val_accuracy: 0.7675\n",
      "Epoch 35/100\n",
      "225/225 [==============================] - 0s 2ms/step - loss: 0.5438 - accuracy: 0.7667 - val_loss: 0.5425 - val_accuracy: 0.7675\n",
      "Epoch 36/100\n",
      "225/225 [==============================] - 0s 2ms/step - loss: 0.5437 - accuracy: 0.7667 - val_loss: 0.5423 - val_accuracy: 0.7675\n",
      "Epoch 37/100\n",
      "225/225 [==============================] - 0s 2ms/step - loss: 0.5436 - accuracy: 0.7667 - val_loss: 0.5424 - val_accuracy: 0.7675\n",
      "Epoch 38/100\n",
      "225/225 [==============================] - 0s 2ms/step - loss: 0.5436 - accuracy: 0.7667 - val_loss: 0.5426 - val_accuracy: 0.7675\n",
      "Epoch 39/100\n",
      "225/225 [==============================] - 0s 2ms/step - loss: 0.5439 - accuracy: 0.7667 - val_loss: 0.5425 - val_accuracy: 0.7675\n",
      "Epoch 40/100\n",
      "225/225 [==============================] - 0s 2ms/step - loss: 0.5438 - accuracy: 0.7667 - val_loss: 0.5423 - val_accuracy: 0.7675\n",
      "Epoch 41/100\n",
      "225/225 [==============================] - 0s 2ms/step - loss: 0.5437 - accuracy: 0.7667 - val_loss: 0.5423 - val_accuracy: 0.7675\n",
      "Epoch 42/100\n",
      "225/225 [==============================] - 0s 2ms/step - loss: 0.5439 - accuracy: 0.7667 - val_loss: 0.5424 - val_accuracy: 0.7675\n",
      "Epoch 43/100\n",
      "225/225 [==============================] - 0s 2ms/step - loss: 0.5438 - accuracy: 0.7667 - val_loss: 0.5423 - val_accuracy: 0.7675\n",
      "Epoch 44/100\n",
      "225/225 [==============================] - 0s 2ms/step - loss: 0.5437 - accuracy: 0.7667 - val_loss: 0.5428 - val_accuracy: 0.7675\n",
      "Epoch 45/100\n",
      "225/225 [==============================] - 0s 2ms/step - loss: 0.5439 - accuracy: 0.7667 - val_loss: 0.5422 - val_accuracy: 0.7675\n",
      "Epoch 46/100\n",
      "225/225 [==============================] - 0s 2ms/step - loss: 0.5437 - accuracy: 0.7667 - val_loss: 0.5423 - val_accuracy: 0.7675\n",
      "Epoch 47/100\n",
      "225/225 [==============================] - 0s 2ms/step - loss: 0.5438 - accuracy: 0.7667 - val_loss: 0.5424 - val_accuracy: 0.7675\n",
      "Epoch 48/100\n",
      "225/225 [==============================] - 0s 2ms/step - loss: 0.5436 - accuracy: 0.7667 - val_loss: 0.5425 - val_accuracy: 0.7675\n",
      "Epoch 49/100\n",
      "225/225 [==============================] - 0s 2ms/step - loss: 0.5438 - accuracy: 0.7667 - val_loss: 0.5422 - val_accuracy: 0.7675\n",
      "Epoch 50/100\n",
      "225/225 [==============================] - 0s 2ms/step - loss: 0.5438 - accuracy: 0.7667 - val_loss: 0.5422 - val_accuracy: 0.7675\n",
      "Epoch 51/100\n",
      "225/225 [==============================] - 0s 2ms/step - loss: 0.5438 - accuracy: 0.7667 - val_loss: 0.5422 - val_accuracy: 0.7675\n",
      "Epoch 52/100\n",
      "225/225 [==============================] - 0s 2ms/step - loss: 0.5437 - accuracy: 0.7667 - val_loss: 0.5423 - val_accuracy: 0.7675\n",
      "Epoch 53/100\n",
      "225/225 [==============================] - 0s 2ms/step - loss: 0.5438 - accuracy: 0.7667 - val_loss: 0.5427 - val_accuracy: 0.7675\n",
      "Epoch 54/100\n",
      "225/225 [==============================] - 0s 2ms/step - loss: 0.5436 - accuracy: 0.7667 - val_loss: 0.5428 - val_accuracy: 0.7675\n",
      "Epoch 55/100\n",
      "225/225 [==============================] - 0s 2ms/step - loss: 0.5437 - accuracy: 0.7667 - val_loss: 0.5423 - val_accuracy: 0.7675\n",
      "Epoch 56/100\n",
      "225/225 [==============================] - 0s 2ms/step - loss: 0.5437 - accuracy: 0.7667 - val_loss: 0.5423 - val_accuracy: 0.7675\n",
      "Epoch 57/100\n",
      "225/225 [==============================] - 0s 2ms/step - loss: 0.5434 - accuracy: 0.7667 - val_loss: 0.5428 - val_accuracy: 0.7675\n",
      "Epoch 58/100\n",
      "225/225 [==============================] - 0s 2ms/step - loss: 0.5438 - accuracy: 0.7667 - val_loss: 0.5427 - val_accuracy: 0.7675\n",
      "Epoch 59/100\n",
      "225/225 [==============================] - 0s 2ms/step - loss: 0.5437 - accuracy: 0.7667 - val_loss: 0.5432 - val_accuracy: 0.7675\n",
      "Epoch 60/100\n",
      "225/225 [==============================] - 0s 2ms/step - loss: 0.5437 - accuracy: 0.7667 - val_loss: 0.5423 - val_accuracy: 0.7675\n",
      "Epoch 61/100\n",
      "225/225 [==============================] - 1s 2ms/step - loss: 0.5438 - accuracy: 0.7667 - val_loss: 0.5422 - val_accuracy: 0.7675\n",
      "Epoch 62/100\n",
      "225/225 [==============================] - 0s 2ms/step - loss: 0.5437 - accuracy: 0.7667 - val_loss: 0.5423 - val_accuracy: 0.7675\n",
      "Epoch 63/100\n",
      "225/225 [==============================] - 0s 2ms/step - loss: 0.5440 - accuracy: 0.7667 - val_loss: 0.5425 - val_accuracy: 0.7675\n",
      "Epoch 64/100\n",
      "225/225 [==============================] - 0s 2ms/step - loss: 0.5437 - accuracy: 0.7667 - val_loss: 0.5422 - val_accuracy: 0.7675\n",
      "Epoch 65/100\n",
      "225/225 [==============================] - 0s 2ms/step - loss: 0.5435 - accuracy: 0.7667 - val_loss: 0.5424 - val_accuracy: 0.7675\n",
      "Epoch 66/100\n",
      "225/225 [==============================] - 0s 2ms/step - loss: 0.5435 - accuracy: 0.7667 - val_loss: 0.5422 - val_accuracy: 0.7675\n",
      "Epoch 67/100\n",
      "225/225 [==============================] - 0s 2ms/step - loss: 0.5435 - accuracy: 0.7667 - val_loss: 0.5425 - val_accuracy: 0.7675\n",
      "Epoch 68/100\n",
      "225/225 [==============================] - 0s 2ms/step - loss: 0.5432 - accuracy: 0.7667 - val_loss: 0.5444 - val_accuracy: 0.7675\n",
      "Epoch 69/100\n",
      "225/225 [==============================] - 0s 2ms/step - loss: 0.5437 - accuracy: 0.7667 - val_loss: 0.5429 - val_accuracy: 0.7675\n",
      "Epoch 70/100\n",
      "225/225 [==============================] - 0s 2ms/step - loss: 0.5437 - accuracy: 0.7667 - val_loss: 0.5425 - val_accuracy: 0.7675\n",
      "Epoch 71/100\n",
      "225/225 [==============================] - 0s 2ms/step - loss: 0.5436 - accuracy: 0.7667 - val_loss: 0.5423 - val_accuracy: 0.7675\n",
      "Epoch 72/100\n",
      "225/225 [==============================] - 0s 2ms/step - loss: 0.5437 - accuracy: 0.7667 - val_loss: 0.5423 - val_accuracy: 0.7675\n",
      "Epoch 73/100\n",
      "225/225 [==============================] - 0s 2ms/step - loss: 0.5437 - accuracy: 0.7667 - val_loss: 0.5423 - val_accuracy: 0.7675\n",
      "Epoch 74/100\n",
      "225/225 [==============================] - 0s 2ms/step - loss: 0.5437 - accuracy: 0.7667 - val_loss: 0.5422 - val_accuracy: 0.7675\n",
      "Epoch 75/100\n",
      "225/225 [==============================] - 0s 2ms/step - loss: 0.5437 - accuracy: 0.7667 - val_loss: 0.5422 - val_accuracy: 0.7675\n",
      "Epoch 76/100\n",
      "225/225 [==============================] - 0s 2ms/step - loss: 0.5437 - accuracy: 0.7667 - val_loss: 0.5423 - val_accuracy: 0.7675\n",
      "Epoch 77/100\n",
      "225/225 [==============================] - 0s 2ms/step - loss: 0.5437 - accuracy: 0.7667 - val_loss: 0.5422 - val_accuracy: 0.7675\n",
      "Epoch 78/100\n",
      "225/225 [==============================] - 1s 2ms/step - loss: 0.5437 - accuracy: 0.7667 - val_loss: 0.5422 - val_accuracy: 0.7675\n",
      "Epoch 79/100\n",
      "225/225 [==============================] - 0s 2ms/step - loss: 0.5437 - accuracy: 0.7667 - val_loss: 0.5421 - val_accuracy: 0.7675\n",
      "Epoch 80/100\n",
      "225/225 [==============================] - 0s 2ms/step - loss: 0.5436 - accuracy: 0.7667 - val_loss: 0.5435 - val_accuracy: 0.7675\n",
      "Epoch 81/100\n",
      "225/225 [==============================] - 1s 2ms/step - loss: 0.5437 - accuracy: 0.7667 - val_loss: 0.5425 - val_accuracy: 0.7675\n",
      "Epoch 82/100\n",
      "225/225 [==============================] - 1s 2ms/step - loss: 0.5436 - accuracy: 0.7667 - val_loss: 0.5426 - val_accuracy: 0.7675\n",
      "Epoch 83/100\n",
      "225/225 [==============================] - 0s 2ms/step - loss: 0.5435 - accuracy: 0.7667 - val_loss: 0.5423 - val_accuracy: 0.7675\n",
      "Epoch 84/100\n",
      "225/225 [==============================] - 0s 2ms/step - loss: 0.5434 - accuracy: 0.7667 - val_loss: 0.5424 - val_accuracy: 0.7675\n",
      "Epoch 85/100\n",
      "225/225 [==============================] - 0s 2ms/step - loss: 0.5437 - accuracy: 0.7667 - val_loss: 0.5421 - val_accuracy: 0.7675\n",
      "Epoch 86/100\n",
      "225/225 [==============================] - 0s 2ms/step - loss: 0.5436 - accuracy: 0.7667 - val_loss: 0.5424 - val_accuracy: 0.7675\n",
      "Epoch 87/100\n",
      "225/225 [==============================] - 0s 2ms/step - loss: 0.5436 - accuracy: 0.7667 - val_loss: 0.5425 - val_accuracy: 0.7675\n",
      "Epoch 88/100\n",
      "225/225 [==============================] - 0s 2ms/step - loss: 0.5435 - accuracy: 0.7667 - val_loss: 0.5435 - val_accuracy: 0.7675\n",
      "Epoch 89/100\n",
      "225/225 [==============================] - 0s 2ms/step - loss: 0.5437 - accuracy: 0.7667 - val_loss: 0.5422 - val_accuracy: 0.7675\n",
      "Epoch 90/100\n",
      "225/225 [==============================] - 0s 2ms/step - loss: 0.5435 - accuracy: 0.7667 - val_loss: 0.5435 - val_accuracy: 0.7675\n",
      "Epoch 91/100\n",
      "225/225 [==============================] - 0s 2ms/step - loss: 0.5437 - accuracy: 0.7667 - val_loss: 0.5427 - val_accuracy: 0.7675\n",
      "Epoch 92/100\n",
      "225/225 [==============================] - 0s 2ms/step - loss: 0.5436 - accuracy: 0.7667 - val_loss: 0.5423 - val_accuracy: 0.7675\n",
      "Epoch 93/100\n",
      "225/225 [==============================] - 0s 2ms/step - loss: 0.5433 - accuracy: 0.7667 - val_loss: 0.5444 - val_accuracy: 0.7675\n",
      "Epoch 94/100\n",
      "225/225 [==============================] - 0s 2ms/step - loss: 0.5434 - accuracy: 0.7667 - val_loss: 0.5427 - val_accuracy: 0.7675\n",
      "Epoch 95/100\n",
      "225/225 [==============================] - 0s 2ms/step - loss: 0.5433 - accuracy: 0.7667 - val_loss: 0.5421 - val_accuracy: 0.7675\n",
      "Epoch 96/100\n",
      "225/225 [==============================] - 0s 2ms/step - loss: 0.5436 - accuracy: 0.7667 - val_loss: 0.5427 - val_accuracy: 0.7675\n",
      "Epoch 97/100\n",
      "225/225 [==============================] - 0s 2ms/step - loss: 0.5436 - accuracy: 0.7667 - val_loss: 0.5421 - val_accuracy: 0.7675\n",
      "Epoch 98/100\n",
      "225/225 [==============================] - 0s 2ms/step - loss: 0.5434 - accuracy: 0.7667 - val_loss: 0.5421 - val_accuracy: 0.7675\n",
      "Epoch 99/100\n",
      "225/225 [==============================] - 0s 2ms/step - loss: 0.5438 - accuracy: 0.7667 - val_loss: 0.5423 - val_accuracy: 0.7675\n",
      "Epoch 100/100\n",
      "225/225 [==============================] - 0s 2ms/step - loss: 0.5431 - accuracy: 0.7667 - val_loss: 0.5450 - val_accuracy: 0.7675\n",
      "125/125 [==============================] - 0s 2ms/step - loss: 0.5436 - accuracy: 0.7685\n",
      "[CV] END activation_function=sigmoid, n_hidden=5, n_neurons=7; total time=  47.9s\n",
      "Epoch 1/100\n"
     ]
    },
    {
     "output_type": "stream",
     "name": "stderr",
     "text": [
      "/usr/local/lib/python3.7/dist-packages/keras/optimizer_v2/gradient_descent.py:102: UserWarning: The `lr` argument is deprecated, use `learning_rate` instead.\n",
      "  super(SGD, self).__init__(name, **kwargs)\n"
     ]
    },
    {
     "output_type": "stream",
     "name": "stdout",
     "text": [
      "225/225 [==============================] - 1s 3ms/step - loss: 3.6227 - accuracy: 0.7651 - val_loss: 3.5863 - val_accuracy: 0.7675\n",
      "Epoch 2/100\n",
      "225/225 [==============================] - 0s 2ms/step - loss: 3.6227 - accuracy: 0.7651 - val_loss: 3.5863 - val_accuracy: 0.7675\n",
      "Epoch 3/100\n",
      "225/225 [==============================] - 0s 2ms/step - loss: 3.6227 - accuracy: 0.7651 - val_loss: 3.5863 - val_accuracy: 0.7675\n",
      "Epoch 4/100\n",
      "225/225 [==============================] - 0s 2ms/step - loss: 3.6227 - accuracy: 0.7651 - val_loss: 3.5863 - val_accuracy: 0.7675\n",
      "Epoch 5/100\n",
      "225/225 [==============================] - 1s 2ms/step - loss: 3.6227 - accuracy: 0.7651 - val_loss: 3.5863 - val_accuracy: 0.7675\n",
      "Epoch 6/100\n",
      "225/225 [==============================] - 0s 2ms/step - loss: 3.6227 - accuracy: 0.7651 - val_loss: 3.5863 - val_accuracy: 0.7675\n",
      "Epoch 7/100\n",
      "225/225 [==============================] - 0s 2ms/step - loss: 3.6227 - accuracy: 0.7651 - val_loss: 3.5863 - val_accuracy: 0.7675\n",
      "Epoch 8/100\n",
      "225/225 [==============================] - 0s 2ms/step - loss: 3.6227 - accuracy: 0.7651 - val_loss: 3.5863 - val_accuracy: 0.7675\n",
      "Epoch 9/100\n",
      "225/225 [==============================] - 0s 2ms/step - loss: 3.6227 - accuracy: 0.7651 - val_loss: 3.5863 - val_accuracy: 0.7675\n",
      "Epoch 10/100\n",
      "225/225 [==============================] - 0s 2ms/step - loss: 3.6227 - accuracy: 0.7651 - val_loss: 3.5863 - val_accuracy: 0.7675\n",
      "Epoch 11/100\n",
      "225/225 [==============================] - 0s 2ms/step - loss: 3.6227 - accuracy: 0.7651 - val_loss: 3.5863 - val_accuracy: 0.7675\n",
      "Epoch 12/100\n",
      "225/225 [==============================] - 0s 2ms/step - loss: 3.6227 - accuracy: 0.7651 - val_loss: 3.5863 - val_accuracy: 0.7675\n",
      "Epoch 13/100\n",
      "225/225 [==============================] - 0s 2ms/step - loss: 3.6227 - accuracy: 0.7651 - val_loss: 3.5863 - val_accuracy: 0.7675\n",
      "Epoch 14/100\n",
      "225/225 [==============================] - 0s 2ms/step - loss: 3.6227 - accuracy: 0.7651 - val_loss: 3.5863 - val_accuracy: 0.7675\n",
      "Epoch 15/100\n",
      "225/225 [==============================] - 1s 2ms/step - loss: 3.6227 - accuracy: 0.7651 - val_loss: 3.5863 - val_accuracy: 0.7675\n",
      "Epoch 16/100\n",
      "225/225 [==============================] - 0s 2ms/step - loss: 3.6227 - accuracy: 0.7651 - val_loss: 3.5863 - val_accuracy: 0.7675\n",
      "Epoch 17/100\n",
      "225/225 [==============================] - 0s 2ms/step - loss: 3.6227 - accuracy: 0.7651 - val_loss: 3.5863 - val_accuracy: 0.7675\n",
      "Epoch 18/100\n",
      "225/225 [==============================] - 0s 2ms/step - loss: 3.6227 - accuracy: 0.7651 - val_loss: 3.5863 - val_accuracy: 0.7675\n",
      "Epoch 19/100\n",
      "225/225 [==============================] - 0s 2ms/step - loss: 3.6227 - accuracy: 0.7651 - val_loss: 3.5863 - val_accuracy: 0.7675\n",
      "Epoch 20/100\n",
      "225/225 [==============================] - 0s 2ms/step - loss: 3.6227 - accuracy: 0.7651 - val_loss: 3.5863 - val_accuracy: 0.7675\n",
      "Epoch 21/100\n",
      "225/225 [==============================] - 0s 2ms/step - loss: 3.6227 - accuracy: 0.7651 - val_loss: 3.5863 - val_accuracy: 0.7675\n",
      "Epoch 21: early stopping\n",
      "125/125 [==============================] - 0s 2ms/step - loss: 3.5285 - accuracy: 0.7713\n",
      "[CV] END activation_function=sigmoid, n_hidden=5, n_neurons=7; total time=  11.1s\n",
      "Epoch 1/100\n"
     ]
    },
    {
     "output_type": "stream",
     "name": "stderr",
     "text": [
      "/usr/local/lib/python3.7/dist-packages/keras/optimizer_v2/gradient_descent.py:102: UserWarning: The `lr` argument is deprecated, use `learning_rate` instead.\n",
      "  super(SGD, self).__init__(name, **kwargs)\n"
     ]
    },
    {
     "output_type": "stream",
     "name": "stdout",
     "text": [
      "225/225 [==============================] - 1s 3ms/step - loss: 3.5713 - accuracy: 0.7685 - val_loss: 3.3549 - val_accuracy: 0.7825\n",
      "Epoch 2/100\n",
      "225/225 [==============================] - 0s 2ms/step - loss: 3.5713 - accuracy: 0.7685 - val_loss: 3.3549 - val_accuracy: 0.7825\n",
      "Epoch 3/100\n",
      "225/225 [==============================] - 0s 2ms/step - loss: 3.5713 - accuracy: 0.7685 - val_loss: 3.3549 - val_accuracy: 0.7825\n",
      "Epoch 4/100\n",
      "225/225 [==============================] - 0s 2ms/step - loss: 3.5713 - accuracy: 0.7685 - val_loss: 3.3549 - val_accuracy: 0.7825\n",
      "Epoch 5/100\n",
      "225/225 [==============================] - 0s 2ms/step - loss: 3.5713 - accuracy: 0.7685 - val_loss: 3.3549 - val_accuracy: 0.7825\n",
      "Epoch 6/100\n",
      "225/225 [==============================] - 0s 2ms/step - loss: 3.5713 - accuracy: 0.7685 - val_loss: 3.3549 - val_accuracy: 0.7825\n",
      "Epoch 7/100\n",
      "225/225 [==============================] - 0s 2ms/step - loss: 3.5713 - accuracy: 0.7685 - val_loss: 3.3549 - val_accuracy: 0.7825\n",
      "Epoch 8/100\n",
      "225/225 [==============================] - 0s 2ms/step - loss: 3.5713 - accuracy: 0.7685 - val_loss: 3.3549 - val_accuracy: 0.7825\n",
      "Epoch 9/100\n",
      "225/225 [==============================] - 1s 2ms/step - loss: 3.5713 - accuracy: 0.7685 - val_loss: 3.3549 - val_accuracy: 0.7825\n",
      "Epoch 10/100\n",
      "225/225 [==============================] - 0s 2ms/step - loss: 3.5713 - accuracy: 0.7685 - val_loss: 3.3549 - val_accuracy: 0.7825\n",
      "Epoch 11/100\n",
      "225/225 [==============================] - 0s 2ms/step - loss: 3.5713 - accuracy: 0.7685 - val_loss: 3.3549 - val_accuracy: 0.7825\n",
      "Epoch 12/100\n",
      "225/225 [==============================] - 0s 2ms/step - loss: 3.5713 - accuracy: 0.7685 - val_loss: 3.3549 - val_accuracy: 0.7825\n",
      "Epoch 13/100\n",
      "225/225 [==============================] - 1s 2ms/step - loss: 3.5713 - accuracy: 0.7685 - val_loss: 3.3549 - val_accuracy: 0.7825\n",
      "Epoch 14/100\n",
      "225/225 [==============================] - 0s 2ms/step - loss: 3.5713 - accuracy: 0.7685 - val_loss: 3.3549 - val_accuracy: 0.7825\n",
      "Epoch 15/100\n",
      "225/225 [==============================] - 0s 2ms/step - loss: 3.5713 - accuracy: 0.7685 - val_loss: 3.3549 - val_accuracy: 0.7825\n",
      "Epoch 16/100\n",
      "225/225 [==============================] - 0s 2ms/step - loss: 3.5713 - accuracy: 0.7685 - val_loss: 3.3549 - val_accuracy: 0.7825\n",
      "Epoch 17/100\n",
      "225/225 [==============================] - 1s 2ms/step - loss: 3.5713 - accuracy: 0.7685 - val_loss: 3.3549 - val_accuracy: 0.7825\n",
      "Epoch 18/100\n",
      "225/225 [==============================] - 0s 2ms/step - loss: 3.5713 - accuracy: 0.7685 - val_loss: 3.3549 - val_accuracy: 0.7825\n",
      "Epoch 19/100\n",
      "225/225 [==============================] - 0s 2ms/step - loss: 3.5713 - accuracy: 0.7685 - val_loss: 3.3549 - val_accuracy: 0.7825\n",
      "Epoch 20/100\n",
      "225/225 [==============================] - 0s 2ms/step - loss: 3.5713 - accuracy: 0.7685 - val_loss: 3.3549 - val_accuracy: 0.7825\n",
      "Epoch 21/100\n",
      "225/225 [==============================] - 0s 2ms/step - loss: 3.5713 - accuracy: 0.7685 - val_loss: 3.3549 - val_accuracy: 0.7825\n",
      "Epoch 21: early stopping\n",
      "125/125 [==============================] - 0s 2ms/step - loss: 3.6673 - accuracy: 0.7623\n",
      "[CV] END activation_function=sigmoid, n_hidden=5, n_neurons=7; total time=  21.4s\n",
      "Epoch 1/100\n"
     ]
    },
    {
     "output_type": "stream",
     "name": "stderr",
     "text": [
      "/usr/local/lib/python3.7/dist-packages/keras/optimizer_v2/gradient_descent.py:102: UserWarning: The `lr` argument is deprecated, use `learning_rate` instead.\n",
      "  super(SGD, self).__init__(name, **kwargs)\n"
     ]
    },
    {
     "output_type": "stream",
     "name": "stdout",
     "text": [
      "225/225 [==============================] - 1s 3ms/step - loss: 3.5992 - accuracy: 0.7667 - val_loss: 3.5863 - val_accuracy: 0.7675\n",
      "Epoch 2/100\n",
      "225/225 [==============================] - 0s 2ms/step - loss: 3.5992 - accuracy: 0.7667 - val_loss: 3.5863 - val_accuracy: 0.7675\n",
      "Epoch 3/100\n",
      "225/225 [==============================] - 0s 2ms/step - loss: 3.5992 - accuracy: 0.7667 - val_loss: 3.5863 - val_accuracy: 0.7675\n",
      "Epoch 4/100\n",
      "225/225 [==============================] - 0s 2ms/step - loss: 3.5992 - accuracy: 0.7667 - val_loss: 3.5863 - val_accuracy: 0.7675\n",
      "Epoch 5/100\n",
      "225/225 [==============================] - 0s 2ms/step - loss: 3.5992 - accuracy: 0.7667 - val_loss: 3.5863 - val_accuracy: 0.7675\n",
      "Epoch 6/100\n",
      "225/225 [==============================] - 0s 2ms/step - loss: 3.5992 - accuracy: 0.7667 - val_loss: 3.5863 - val_accuracy: 0.7675\n",
      "Epoch 7/100\n",
      "225/225 [==============================] - 0s 2ms/step - loss: 3.5992 - accuracy: 0.7667 - val_loss: 3.5863 - val_accuracy: 0.7675\n",
      "Epoch 8/100\n",
      "225/225 [==============================] - 0s 2ms/step - loss: 3.5992 - accuracy: 0.7667 - val_loss: 3.5863 - val_accuracy: 0.7675\n",
      "Epoch 9/100\n",
      "225/225 [==============================] - 0s 2ms/step - loss: 3.5992 - accuracy: 0.7667 - val_loss: 3.5863 - val_accuracy: 0.7675\n",
      "Epoch 10/100\n",
      "225/225 [==============================] - 0s 2ms/step - loss: 3.5992 - accuracy: 0.7667 - val_loss: 3.5863 - val_accuracy: 0.7675\n",
      "Epoch 11/100\n",
      "225/225 [==============================] - 0s 2ms/step - loss: 3.5992 - accuracy: 0.7667 - val_loss: 3.5863 - val_accuracy: 0.7675\n",
      "Epoch 12/100\n",
      "225/225 [==============================] - 0s 2ms/step - loss: 3.5992 - accuracy: 0.7667 - val_loss: 3.5863 - val_accuracy: 0.7675\n",
      "Epoch 13/100\n",
      "225/225 [==============================] - 0s 2ms/step - loss: 3.5992 - accuracy: 0.7667 - val_loss: 3.5863 - val_accuracy: 0.7675\n",
      "Epoch 14/100\n",
      "225/225 [==============================] - 0s 2ms/step - loss: 3.5992 - accuracy: 0.7667 - val_loss: 3.5863 - val_accuracy: 0.7675\n",
      "Epoch 15/100\n",
      "225/225 [==============================] - 0s 2ms/step - loss: 3.5992 - accuracy: 0.7667 - val_loss: 3.5863 - val_accuracy: 0.7675\n",
      "Epoch 16/100\n",
      "225/225 [==============================] - 0s 2ms/step - loss: 3.5992 - accuracy: 0.7667 - val_loss: 3.5863 - val_accuracy: 0.7675\n",
      "Epoch 17/100\n",
      "225/225 [==============================] - 1s 2ms/step - loss: 3.5992 - accuracy: 0.7667 - val_loss: 3.5863 - val_accuracy: 0.7675\n",
      "Epoch 18/100\n",
      "225/225 [==============================] - 0s 2ms/step - loss: 3.5992 - accuracy: 0.7667 - val_loss: 3.5863 - val_accuracy: 0.7675\n",
      "Epoch 19/100\n",
      "225/225 [==============================] - 0s 2ms/step - loss: 3.5992 - accuracy: 0.7667 - val_loss: 3.5863 - val_accuracy: 0.7675\n",
      "Epoch 20/100\n",
      "225/225 [==============================] - 0s 2ms/step - loss: 3.5992 - accuracy: 0.7667 - val_loss: 3.5863 - val_accuracy: 0.7675\n",
      "Epoch 21/100\n",
      "225/225 [==============================] - 1s 2ms/step - loss: 3.5992 - accuracy: 0.7667 - val_loss: 3.5863 - val_accuracy: 0.7675\n",
      "Epoch 21: early stopping\n",
      "125/125 [==============================] - 0s 2ms/step - loss: 3.5709 - accuracy: 0.7685\n",
      "[CV] END activation_function=sigmoid, n_hidden=4, n_neurons=55; total time=  11.2s\n",
      "Epoch 1/100\n"
     ]
    },
    {
     "output_type": "stream",
     "name": "stderr",
     "text": [
      "/usr/local/lib/python3.7/dist-packages/keras/optimizer_v2/gradient_descent.py:102: UserWarning: The `lr` argument is deprecated, use `learning_rate` instead.\n",
      "  super(SGD, self).__init__(name, **kwargs)\n"
     ]
    },
    {
     "output_type": "stream",
     "name": "stdout",
     "text": [
      "225/225 [==============================] - 1s 3ms/step - loss: 0.5462 - accuracy: 0.7651 - val_loss: 0.5410 - val_accuracy: 0.7675\n",
      "Epoch 2/100\n",
      "225/225 [==============================] - 0s 2ms/step - loss: 0.5465 - accuracy: 0.7651 - val_loss: 0.5425 - val_accuracy: 0.7675\n",
      "Epoch 3/100\n",
      "225/225 [==============================] - 0s 2ms/step - loss: 0.5460 - accuracy: 0.7651 - val_loss: 0.5401 - val_accuracy: 0.7675\n",
      "Epoch 4/100\n",
      "225/225 [==============================] - 0s 2ms/step - loss: 0.5455 - accuracy: 0.7651 - val_loss: 0.5428 - val_accuracy: 0.7675\n",
      "Epoch 5/100\n",
      "225/225 [==============================] - 0s 2ms/step - loss: 0.5454 - accuracy: 0.7651 - val_loss: 0.5475 - val_accuracy: 0.7675\n",
      "Epoch 6/100\n",
      "225/225 [==============================] - 1s 2ms/step - loss: 0.5453 - accuracy: 0.7651 - val_loss: 0.5416 - val_accuracy: 0.7675\n",
      "Epoch 7/100\n",
      "225/225 [==============================] - 0s 2ms/step - loss: 0.5436 - accuracy: 0.7651 - val_loss: 0.5389 - val_accuracy: 0.7675\n",
      "Epoch 8/100\n",
      "225/225 [==============================] - 0s 2ms/step - loss: 0.5444 - accuracy: 0.7651 - val_loss: 0.5413 - val_accuracy: 0.7675\n",
      "Epoch 9/100\n",
      "225/225 [==============================] - 0s 2ms/step - loss: 0.5456 - accuracy: 0.7651 - val_loss: 0.5381 - val_accuracy: 0.7675\n",
      "Epoch 10/100\n",
      "225/225 [==============================] - 0s 2ms/step - loss: 0.5439 - accuracy: 0.7651 - val_loss: 0.5450 - val_accuracy: 0.7675\n",
      "Epoch 11/100\n",
      "225/225 [==============================] - 0s 2ms/step - loss: 0.5425 - accuracy: 0.7651 - val_loss: 0.5408 - val_accuracy: 0.7675\n",
      "Epoch 12/100\n",
      "225/225 [==============================] - 1s 2ms/step - loss: 0.5431 - accuracy: 0.7651 - val_loss: 0.5376 - val_accuracy: 0.7675\n",
      "Epoch 13/100\n",
      "225/225 [==============================] - 0s 2ms/step - loss: 0.5424 - accuracy: 0.7651 - val_loss: 0.5439 - val_accuracy: 0.7675\n",
      "Epoch 14/100\n",
      "225/225 [==============================] - 0s 2ms/step - loss: 0.5419 - accuracy: 0.7651 - val_loss: 0.5363 - val_accuracy: 0.7675\n",
      "Epoch 15/100\n",
      "225/225 [==============================] - 1s 2ms/step - loss: 0.5408 - accuracy: 0.7651 - val_loss: 0.5362 - val_accuracy: 0.7675\n",
      "Epoch 16/100\n",
      "225/225 [==============================] - 1s 2ms/step - loss: 0.5406 - accuracy: 0.7651 - val_loss: 0.5391 - val_accuracy: 0.7675\n",
      "Epoch 17/100\n",
      "225/225 [==============================] - 1s 2ms/step - loss: 0.5407 - accuracy: 0.7651 - val_loss: 0.5403 - val_accuracy: 0.7675\n",
      "Epoch 18/100\n",
      "225/225 [==============================] - 0s 2ms/step - loss: 0.5396 - accuracy: 0.7651 - val_loss: 0.5417 - val_accuracy: 0.7675\n",
      "Epoch 19/100\n",
      "225/225 [==============================] - 0s 2ms/step - loss: 0.5406 - accuracy: 0.7651 - val_loss: 0.5336 - val_accuracy: 0.7675\n",
      "Epoch 20/100\n",
      "225/225 [==============================] - 0s 2ms/step - loss: 0.5380 - accuracy: 0.7651 - val_loss: 0.5334 - val_accuracy: 0.7675\n",
      "Epoch 21/100\n",
      "225/225 [==============================] - 0s 2ms/step - loss: 0.5372 - accuracy: 0.7651 - val_loss: 0.5380 - val_accuracy: 0.7675\n",
      "Epoch 22/100\n",
      "225/225 [==============================] - 0s 2ms/step - loss: 0.5376 - accuracy: 0.7651 - val_loss: 0.5381 - val_accuracy: 0.7675\n",
      "Epoch 23/100\n",
      "225/225 [==============================] - 0s 2ms/step - loss: 0.5378 - accuracy: 0.7651 - val_loss: 0.5312 - val_accuracy: 0.7675\n",
      "Epoch 24/100\n",
      "225/225 [==============================] - 1s 2ms/step - loss: 0.5360 - accuracy: 0.7651 - val_loss: 0.5309 - val_accuracy: 0.7675\n",
      "Epoch 25/100\n",
      "225/225 [==============================] - 0s 2ms/step - loss: 0.5355 - accuracy: 0.7651 - val_loss: 0.5307 - val_accuracy: 0.7675\n",
      "Epoch 26/100\n",
      "225/225 [==============================] - 0s 2ms/step - loss: 0.5342 - accuracy: 0.7651 - val_loss: 0.5447 - val_accuracy: 0.7675\n",
      "Epoch 27/100\n",
      "225/225 [==============================] - 0s 2ms/step - loss: 0.5343 - accuracy: 0.7651 - val_loss: 0.5281 - val_accuracy: 0.7675\n",
      "Epoch 28/100\n",
      "225/225 [==============================] - 0s 2ms/step - loss: 0.5323 - accuracy: 0.7651 - val_loss: 0.5271 - val_accuracy: 0.7675\n",
      "Epoch 29/100\n",
      "225/225 [==============================] - 0s 2ms/step - loss: 0.5319 - accuracy: 0.7651 - val_loss: 0.5323 - val_accuracy: 0.7675\n",
      "Epoch 30/100\n",
      "225/225 [==============================] - 0s 2ms/step - loss: 0.5287 - accuracy: 0.7651 - val_loss: 0.5280 - val_accuracy: 0.7675\n",
      "Epoch 31/100\n",
      "225/225 [==============================] - 1s 2ms/step - loss: 0.5298 - accuracy: 0.7651 - val_loss: 0.5252 - val_accuracy: 0.7675\n",
      "Epoch 32/100\n",
      "225/225 [==============================] - 0s 2ms/step - loss: 0.5281 - accuracy: 0.7651 - val_loss: 0.5239 - val_accuracy: 0.7675\n",
      "Epoch 33/100\n",
      "225/225 [==============================] - 1s 2ms/step - loss: 0.5281 - accuracy: 0.7651 - val_loss: 0.5224 - val_accuracy: 0.7675\n",
      "Epoch 34/100\n",
      "225/225 [==============================] - 0s 2ms/step - loss: 0.5249 - accuracy: 0.7651 - val_loss: 0.5216 - val_accuracy: 0.7675\n",
      "Epoch 35/100\n",
      "225/225 [==============================] - 0s 2ms/step - loss: 0.5237 - accuracy: 0.7651 - val_loss: 0.5193 - val_accuracy: 0.7675\n",
      "Epoch 36/100\n",
      "225/225 [==============================] - 1s 2ms/step - loss: 0.5209 - accuracy: 0.7651 - val_loss: 0.5173 - val_accuracy: 0.7675\n",
      "Epoch 37/100\n",
      "225/225 [==============================] - 1s 2ms/step - loss: 0.5202 - accuracy: 0.7651 - val_loss: 0.5154 - val_accuracy: 0.7675\n",
      "Epoch 38/100\n",
      "225/225 [==============================] - 0s 2ms/step - loss: 0.5177 - accuracy: 0.7651 - val_loss: 0.5153 - val_accuracy: 0.7675\n",
      "Epoch 39/100\n",
      "225/225 [==============================] - 1s 2ms/step - loss: 0.5164 - accuracy: 0.7651 - val_loss: 0.5126 - val_accuracy: 0.7675\n",
      "Epoch 40/100\n",
      "225/225 [==============================] - 1s 2ms/step - loss: 0.5134 - accuracy: 0.7651 - val_loss: 0.5100 - val_accuracy: 0.7675\n",
      "Epoch 41/100\n",
      "225/225 [==============================] - 1s 2ms/step - loss: 0.5104 - accuracy: 0.7651 - val_loss: 0.5096 - val_accuracy: 0.7675\n",
      "Epoch 42/100\n",
      "225/225 [==============================] - 1s 2ms/step - loss: 0.5094 - accuracy: 0.7651 - val_loss: 0.5052 - val_accuracy: 0.7675\n",
      "Epoch 43/100\n",
      "225/225 [==============================] - 0s 2ms/step - loss: 0.5058 - accuracy: 0.7651 - val_loss: 0.5045 - val_accuracy: 0.7675\n",
      "Epoch 44/100\n",
      "225/225 [==============================] - 1s 2ms/step - loss: 0.5018 - accuracy: 0.7651 - val_loss: 0.5023 - val_accuracy: 0.7675\n",
      "Epoch 45/100\n",
      "225/225 [==============================] - 0s 2ms/step - loss: 0.5000 - accuracy: 0.7651 - val_loss: 0.4947 - val_accuracy: 0.7675\n",
      "Epoch 46/100\n",
      "225/225 [==============================] - 1s 2ms/step - loss: 0.4959 - accuracy: 0.7651 - val_loss: 0.4922 - val_accuracy: 0.7675\n",
      "Epoch 47/100\n",
      "225/225 [==============================] - 0s 2ms/step - loss: 0.4914 - accuracy: 0.7651 - val_loss: 0.4908 - val_accuracy: 0.7675\n",
      "Epoch 48/100\n",
      "225/225 [==============================] - 0s 2ms/step - loss: 0.4874 - accuracy: 0.7651 - val_loss: 0.4832 - val_accuracy: 0.7675\n",
      "Epoch 49/100\n",
      "225/225 [==============================] - 1s 2ms/step - loss: 0.4825 - accuracy: 0.7651 - val_loss: 0.4787 - val_accuracy: 0.7675\n",
      "Epoch 50/100\n",
      "225/225 [==============================] - 0s 2ms/step - loss: 0.4764 - accuracy: 0.7651 - val_loss: 0.4786 - val_accuracy: 0.7675\n",
      "Epoch 51/100\n",
      "225/225 [==============================] - 0s 2ms/step - loss: 0.4737 - accuracy: 0.7651 - val_loss: 0.4684 - val_accuracy: 0.7675\n",
      "Epoch 52/100\n",
      "225/225 [==============================] - 0s 2ms/step - loss: 0.4704 - accuracy: 0.7651 - val_loss: 0.4626 - val_accuracy: 0.7675\n",
      "Epoch 53/100\n",
      "225/225 [==============================] - 0s 2ms/step - loss: 0.4638 - accuracy: 0.7646 - val_loss: 0.4570 - val_accuracy: 0.7675\n",
      "Epoch 54/100\n",
      "225/225 [==============================] - 1s 2ms/step - loss: 0.4558 - accuracy: 0.7654 - val_loss: 0.4516 - val_accuracy: 0.7675\n",
      "Epoch 55/100\n",
      "225/225 [==============================] - 1s 2ms/step - loss: 0.4500 - accuracy: 0.7671 - val_loss: 0.4461 - val_accuracy: 0.7675\n",
      "Epoch 56/100\n",
      "225/225 [==============================] - 1s 2ms/step - loss: 0.4544 - accuracy: 0.7643 - val_loss: 0.4435 - val_accuracy: 0.7675\n",
      "Epoch 57/100\n",
      "225/225 [==============================] - 0s 2ms/step - loss: 0.4482 - accuracy: 0.7678 - val_loss: 0.4502 - val_accuracy: 0.7675\n",
      "Epoch 58/100\n",
      "225/225 [==============================] - 0s 2ms/step - loss: 0.4363 - accuracy: 0.7725 - val_loss: 0.4322 - val_accuracy: 0.7675\n",
      "Epoch 59/100\n",
      "225/225 [==============================] - 0s 2ms/step - loss: 0.4450 - accuracy: 0.7682 - val_loss: 0.4278 - val_accuracy: 0.7675\n",
      "Epoch 60/100\n",
      "225/225 [==============================] - 0s 2ms/step - loss: 0.4314 - accuracy: 0.7814 - val_loss: 0.4220 - val_accuracy: 0.7713\n",
      "Epoch 61/100\n",
      "225/225 [==============================] - 1s 2ms/step - loss: 0.4415 - accuracy: 0.7864 - val_loss: 0.4296 - val_accuracy: 0.7688\n",
      "Epoch 62/100\n",
      "225/225 [==============================] - 1s 2ms/step - loss: 4.4147 - accuracy: 0.5931 - val_loss: 11.7038 - val_accuracy: 0.2325\n",
      "Epoch 63/100\n",
      "225/225 [==============================] - 1s 2ms/step - loss: 11.6678 - accuracy: 0.2349 - val_loss: 11.7038 - val_accuracy: 0.2325\n",
      "Epoch 64/100\n",
      "225/225 [==============================] - 0s 2ms/step - loss: 11.6678 - accuracy: 0.2349 - val_loss: 11.7038 - val_accuracy: 0.2325\n",
      "Epoch 65/100\n",
      "225/225 [==============================] - 0s 2ms/step - loss: 11.6678 - accuracy: 0.2349 - val_loss: 11.7038 - val_accuracy: 0.2325\n",
      "Epoch 66/100\n",
      "225/225 [==============================] - 0s 2ms/step - loss: 11.6678 - accuracy: 0.2349 - val_loss: 11.7038 - val_accuracy: 0.2325\n",
      "Epoch 67/100\n",
      "225/225 [==============================] - 0s 2ms/step - loss: 11.6678 - accuracy: 0.2349 - val_loss: 11.7038 - val_accuracy: 0.2325\n",
      "Epoch 68/100\n",
      "225/225 [==============================] - 0s 2ms/step - loss: 11.6678 - accuracy: 0.2349 - val_loss: 11.7038 - val_accuracy: 0.2325\n",
      "Epoch 69/100\n",
      "225/225 [==============================] - 0s 2ms/step - loss: 11.6678 - accuracy: 0.2349 - val_loss: 11.7038 - val_accuracy: 0.2325\n",
      "Epoch 70/100\n",
      "225/225 [==============================] - 0s 2ms/step - loss: 11.6678 - accuracy: 0.2349 - val_loss: 11.7038 - val_accuracy: 0.2325\n",
      "Epoch 71/100\n",
      "225/225 [==============================] - 0s 2ms/step - loss: 11.6678 - accuracy: 0.2349 - val_loss: 11.7038 - val_accuracy: 0.2325\n",
      "Epoch 72/100\n",
      "225/225 [==============================] - 1s 2ms/step - loss: 11.6678 - accuracy: 0.2349 - val_loss: 11.7038 - val_accuracy: 0.2325\n",
      "Epoch 73/100\n",
      "225/225 [==============================] - 1s 2ms/step - loss: 11.6678 - accuracy: 0.2349 - val_loss: 11.7038 - val_accuracy: 0.2325\n",
      "Epoch 74/100\n",
      "225/225 [==============================] - 0s 2ms/step - loss: 11.6678 - accuracy: 0.2349 - val_loss: 11.7038 - val_accuracy: 0.2325\n",
      "Epoch 75/100\n",
      "225/225 [==============================] - 0s 2ms/step - loss: 11.6678 - accuracy: 0.2349 - val_loss: 11.7038 - val_accuracy: 0.2325\n",
      "Epoch 76/100\n",
      "225/225 [==============================] - 1s 2ms/step - loss: 11.6678 - accuracy: 0.2349 - val_loss: 11.7038 - val_accuracy: 0.2325\n",
      "Epoch 77/100\n",
      "225/225 [==============================] - 0s 2ms/step - loss: 11.6678 - accuracy: 0.2349 - val_loss: 11.7038 - val_accuracy: 0.2325\n",
      "Epoch 78/100\n",
      "225/225 [==============================] - 0s 2ms/step - loss: 11.6678 - accuracy: 0.2349 - val_loss: 11.7038 - val_accuracy: 0.2325\n",
      "Epoch 79/100\n",
      "225/225 [==============================] - 0s 2ms/step - loss: 11.6678 - accuracy: 0.2349 - val_loss: 11.7038 - val_accuracy: 0.2325\n",
      "Epoch 80/100\n",
      "225/225 [==============================] - 1s 2ms/step - loss: 11.6678 - accuracy: 0.2349 - val_loss: 11.7038 - val_accuracy: 0.2325\n",
      "Epoch 80: early stopping\n",
      "125/125 [==============================] - 0s 2ms/step - loss: 11.7610 - accuracy: 0.2288\n",
      "[CV] END activation_function=sigmoid, n_hidden=4, n_neurons=55; total time=  41.7s\n",
      "Epoch 1/100\n"
     ]
    },
    {
     "output_type": "stream",
     "name": "stderr",
     "text": [
      "/usr/local/lib/python3.7/dist-packages/keras/optimizer_v2/gradient_descent.py:102: UserWarning: The `lr` argument is deprecated, use `learning_rate` instead.\n",
      "  super(SGD, self).__init__(name, **kwargs)\n"
     ]
    },
    {
     "output_type": "stream",
     "name": "stdout",
     "text": [
      "225/225 [==============================] - 1s 3ms/step - loss: 0.5468 - accuracy: 0.7632 - val_loss: 0.5231 - val_accuracy: 0.7825\n",
      "Epoch 2/100\n",
      "225/225 [==============================] - 1s 2ms/step - loss: 0.5425 - accuracy: 0.7685 - val_loss: 0.5247 - val_accuracy: 0.7825\n",
      "Epoch 3/100\n",
      "225/225 [==============================] - 0s 2ms/step - loss: 0.5427 - accuracy: 0.7685 - val_loss: 0.5295 - val_accuracy: 0.7825\n",
      "Epoch 4/100\n",
      "225/225 [==============================] - 1s 2ms/step - loss: 0.5429 - accuracy: 0.7685 - val_loss: 0.5321 - val_accuracy: 0.7825\n",
      "Epoch 5/100\n",
      "225/225 [==============================] - 1s 2ms/step - loss: 0.5421 - accuracy: 0.7685 - val_loss: 0.5269 - val_accuracy: 0.7825\n",
      "Epoch 6/100\n",
      "225/225 [==============================] - 0s 2ms/step - loss: 0.5415 - accuracy: 0.7685 - val_loss: 0.5216 - val_accuracy: 0.7825\n",
      "Epoch 7/100\n",
      "225/225 [==============================] - 0s 2ms/step - loss: 0.5414 - accuracy: 0.7685 - val_loss: 0.5240 - val_accuracy: 0.7825\n",
      "Epoch 8/100\n",
      "225/225 [==============================] - 0s 2ms/step - loss: 0.5407 - accuracy: 0.7685 - val_loss: 0.5269 - val_accuracy: 0.7825\n",
      "Epoch 9/100\n",
      "225/225 [==============================] - 0s 2ms/step - loss: 0.5413 - accuracy: 0.7685 - val_loss: 0.5220 - val_accuracy: 0.7825\n",
      "Epoch 10/100\n",
      "225/225 [==============================] - 1s 2ms/step - loss: 0.5406 - accuracy: 0.7685 - val_loss: 0.5208 - val_accuracy: 0.7825\n",
      "Epoch 11/100\n",
      "225/225 [==============================] - 1s 2ms/step - loss: 0.5409 - accuracy: 0.7685 - val_loss: 0.5261 - val_accuracy: 0.7825\n",
      "Epoch 12/100\n",
      "225/225 [==============================] - 0s 2ms/step - loss: 0.5398 - accuracy: 0.7685 - val_loss: 0.5202 - val_accuracy: 0.7825\n",
      "Epoch 13/100\n",
      "225/225 [==============================] - 1s 2ms/step - loss: 0.5399 - accuracy: 0.7685 - val_loss: 0.5207 - val_accuracy: 0.7825\n",
      "Epoch 14/100\n",
      "225/225 [==============================] - 0s 2ms/step - loss: 0.5396 - accuracy: 0.7685 - val_loss: 0.5218 - val_accuracy: 0.7825\n",
      "Epoch 15/100\n",
      "225/225 [==============================] - 1s 2ms/step - loss: 0.5396 - accuracy: 0.7685 - val_loss: 0.5266 - val_accuracy: 0.7825\n",
      "Epoch 16/100\n",
      "225/225 [==============================] - 0s 2ms/step - loss: 0.5394 - accuracy: 0.7685 - val_loss: 0.5291 - val_accuracy: 0.7825\n",
      "Epoch 17/100\n",
      "225/225 [==============================] - 0s 2ms/step - loss: 0.5396 - accuracy: 0.7685 - val_loss: 0.5292 - val_accuracy: 0.7825\n",
      "Epoch 18/100\n",
      "225/225 [==============================] - 0s 2ms/step - loss: 0.5393 - accuracy: 0.7685 - val_loss: 0.5201 - val_accuracy: 0.7825\n",
      "Epoch 19/100\n",
      "225/225 [==============================] - 0s 2ms/step - loss: 0.5384 - accuracy: 0.7685 - val_loss: 0.5187 - val_accuracy: 0.7825\n",
      "Epoch 20/100\n",
      "225/225 [==============================] - 0s 2ms/step - loss: 0.5388 - accuracy: 0.7685 - val_loss: 0.5190 - val_accuracy: 0.7825\n",
      "Epoch 21/100\n",
      "225/225 [==============================] - 1s 2ms/step - loss: 0.5375 - accuracy: 0.7685 - val_loss: 0.5199 - val_accuracy: 0.7825\n",
      "Epoch 22/100\n",
      "225/225 [==============================] - 0s 2ms/step - loss: 0.5369 - accuracy: 0.7685 - val_loss: 0.5348 - val_accuracy: 0.7825\n",
      "Epoch 23/100\n",
      "225/225 [==============================] - 0s 2ms/step - loss: 0.5367 - accuracy: 0.7685 - val_loss: 0.5178 - val_accuracy: 0.7825\n",
      "Epoch 24/100\n",
      "225/225 [==============================] - 0s 2ms/step - loss: 0.5368 - accuracy: 0.7685 - val_loss: 0.5172 - val_accuracy: 0.7825\n",
      "Epoch 25/100\n",
      "225/225 [==============================] - 0s 2ms/step - loss: 0.5356 - accuracy: 0.7685 - val_loss: 0.5349 - val_accuracy: 0.7825\n",
      "Epoch 26/100\n",
      "225/225 [==============================] - 0s 2ms/step - loss: 0.5365 - accuracy: 0.7685 - val_loss: 0.5157 - val_accuracy: 0.7825\n",
      "Epoch 27/100\n",
      "225/225 [==============================] - 1s 2ms/step - loss: 0.5353 - accuracy: 0.7685 - val_loss: 0.5156 - val_accuracy: 0.7825\n",
      "Epoch 28/100\n",
      "225/225 [==============================] - 0s 2ms/step - loss: 0.5346 - accuracy: 0.7685 - val_loss: 0.5173 - val_accuracy: 0.7825\n",
      "Epoch 29/100\n",
      "225/225 [==============================] - 1s 2ms/step - loss: 0.5349 - accuracy: 0.7685 - val_loss: 0.5144 - val_accuracy: 0.7825\n",
      "Epoch 30/100\n",
      "225/225 [==============================] - 1s 2ms/step - loss: 0.5332 - accuracy: 0.7685 - val_loss: 0.5149 - val_accuracy: 0.7825\n",
      "Epoch 31/100\n",
      "225/225 [==============================] - 1s 2ms/step - loss: 0.5336 - accuracy: 0.7685 - val_loss: 0.5133 - val_accuracy: 0.7825\n",
      "Epoch 32/100\n",
      "225/225 [==============================] - 0s 2ms/step - loss: 0.5330 - accuracy: 0.7685 - val_loss: 0.5127 - val_accuracy: 0.7825\n",
      "Epoch 33/100\n",
      "225/225 [==============================] - 0s 2ms/step - loss: 0.5320 - accuracy: 0.7685 - val_loss: 0.5120 - val_accuracy: 0.7825\n",
      "Epoch 34/100\n",
      "225/225 [==============================] - 0s 2ms/step - loss: 0.5324 - accuracy: 0.7685 - val_loss: 0.5133 - val_accuracy: 0.7825\n",
      "Epoch 35/100\n",
      "225/225 [==============================] - 1s 2ms/step - loss: 0.5313 - accuracy: 0.7685 - val_loss: 0.5126 - val_accuracy: 0.7825\n",
      "Epoch 36/100\n",
      "225/225 [==============================] - 0s 2ms/step - loss: 0.5302 - accuracy: 0.7685 - val_loss: 0.5152 - val_accuracy: 0.7825\n",
      "Epoch 37/100\n",
      "225/225 [==============================] - 1s 2ms/step - loss: 0.5289 - accuracy: 0.7685 - val_loss: 0.5105 - val_accuracy: 0.7825\n",
      "Epoch 38/100\n",
      "225/225 [==============================] - 0s 2ms/step - loss: 0.5287 - accuracy: 0.7685 - val_loss: 0.5083 - val_accuracy: 0.7825\n",
      "Epoch 39/100\n",
      "225/225 [==============================] - 1s 2ms/step - loss: 0.5274 - accuracy: 0.7685 - val_loss: 0.5116 - val_accuracy: 0.7825\n",
      "Epoch 40/100\n",
      "225/225 [==============================] - 0s 2ms/step - loss: 0.5264 - accuracy: 0.7685 - val_loss: 0.5121 - val_accuracy: 0.7825\n",
      "Epoch 41/100\n",
      "225/225 [==============================] - 0s 2ms/step - loss: 0.5254 - accuracy: 0.7685 - val_loss: 0.5062 - val_accuracy: 0.7825\n",
      "Epoch 42/100\n",
      "225/225 [==============================] - 0s 2ms/step - loss: 0.5252 - accuracy: 0.7685 - val_loss: 0.5093 - val_accuracy: 0.7825\n",
      "Epoch 43/100\n",
      "225/225 [==============================] - 0s 2ms/step - loss: 0.5235 - accuracy: 0.7685 - val_loss: 0.5157 - val_accuracy: 0.7825\n",
      "Epoch 44/100\n",
      "225/225 [==============================] - 1s 2ms/step - loss: 0.5213 - accuracy: 0.7685 - val_loss: 0.5013 - val_accuracy: 0.7825\n",
      "Epoch 45/100\n",
      "225/225 [==============================] - 1s 2ms/step - loss: 0.5198 - accuracy: 0.7685 - val_loss: 0.5010 - val_accuracy: 0.7825\n",
      "Epoch 46/100\n",
      "225/225 [==============================] - 0s 2ms/step - loss: 0.5184 - accuracy: 0.7685 - val_loss: 0.4986 - val_accuracy: 0.7825\n",
      "Epoch 47/100\n",
      "225/225 [==============================] - 0s 2ms/step - loss: 0.5164 - accuracy: 0.7685 - val_loss: 0.4966 - val_accuracy: 0.7825\n",
      "Epoch 48/100\n",
      "225/225 [==============================] - 0s 2ms/step - loss: 0.5155 - accuracy: 0.7685 - val_loss: 0.5031 - val_accuracy: 0.7825\n",
      "Epoch 49/100\n",
      "225/225 [==============================] - 0s 2ms/step - loss: 0.5127 - accuracy: 0.7685 - val_loss: 0.4924 - val_accuracy: 0.7825\n",
      "Epoch 50/100\n",
      "225/225 [==============================] - 0s 2ms/step - loss: 0.5104 - accuracy: 0.7685 - val_loss: 0.4909 - val_accuracy: 0.7825\n",
      "Epoch 51/100\n",
      "225/225 [==============================] - 1s 2ms/step - loss: 0.5099 - accuracy: 0.7685 - val_loss: 0.5040 - val_accuracy: 0.7825\n",
      "Epoch 52/100\n",
      "225/225 [==============================] - 1s 2ms/step - loss: 0.5068 - accuracy: 0.7685 - val_loss: 0.4863 - val_accuracy: 0.7825\n",
      "Epoch 53/100\n",
      "225/225 [==============================] - 0s 2ms/step - loss: 0.5034 - accuracy: 0.7685 - val_loss: 0.4821 - val_accuracy: 0.7825\n",
      "Epoch 54/100\n",
      "225/225 [==============================] - 0s 2ms/step - loss: 0.4993 - accuracy: 0.7685 - val_loss: 0.4789 - val_accuracy: 0.7825\n",
      "Epoch 55/100\n",
      "225/225 [==============================] - 0s 2ms/step - loss: 0.4963 - accuracy: 0.7685 - val_loss: 0.4778 - val_accuracy: 0.7825\n",
      "Epoch 56/100\n",
      "225/225 [==============================] - 0s 2ms/step - loss: 0.4933 - accuracy: 0.7685 - val_loss: 0.4742 - val_accuracy: 0.7825\n",
      "Epoch 57/100\n",
      "225/225 [==============================] - 0s 2ms/step - loss: 0.4895 - accuracy: 0.7685 - val_loss: 0.4714 - val_accuracy: 0.7825\n",
      "Epoch 58/100\n",
      "225/225 [==============================] - 0s 2ms/step - loss: 0.4852 - accuracy: 0.7685 - val_loss: 0.4641 - val_accuracy: 0.7825\n",
      "Epoch 59/100\n",
      "225/225 [==============================] - 0s 2ms/step - loss: 0.4809 - accuracy: 0.7685 - val_loss: 0.4591 - val_accuracy: 0.7825\n",
      "Epoch 60/100\n",
      "225/225 [==============================] - 1s 2ms/step - loss: 0.4757 - accuracy: 0.7685 - val_loss: 0.4526 - val_accuracy: 0.7825\n",
      "Epoch 61/100\n",
      "225/225 [==============================] - 1s 2ms/step - loss: 0.4693 - accuracy: 0.7685 - val_loss: 0.4488 - val_accuracy: 0.7825\n",
      "Epoch 62/100\n",
      "225/225 [==============================] - 1s 2ms/step - loss: 0.4646 - accuracy: 0.7685 - val_loss: 0.4406 - val_accuracy: 0.7825\n",
      "Epoch 63/100\n",
      "225/225 [==============================] - 1s 2ms/step - loss: 0.4601 - accuracy: 0.7688 - val_loss: 0.4363 - val_accuracy: 0.7825\n",
      "Epoch 64/100\n",
      "225/225 [==============================] - 1s 2ms/step - loss: 0.4532 - accuracy: 0.7685 - val_loss: 0.4276 - val_accuracy: 0.7825\n",
      "Epoch 65/100\n",
      "225/225 [==============================] - 1s 2ms/step - loss: 0.4460 - accuracy: 0.7685 - val_loss: 0.4198 - val_accuracy: 0.7825\n",
      "Epoch 66/100\n",
      "225/225 [==============================] - 1s 2ms/step - loss: 0.4469 - accuracy: 0.7653 - val_loss: 0.4239 - val_accuracy: 0.7825\n",
      "Epoch 67/100\n",
      "225/225 [==============================] - 1s 2ms/step - loss: 2.6484 - accuracy: 0.6615 - val_loss: 11.9325 - val_accuracy: 0.2175\n",
      "Epoch 68/100\n",
      "225/225 [==============================] - 1s 2ms/step - loss: 11.7186 - accuracy: 0.2315 - val_loss: 11.9325 - val_accuracy: 0.2175\n",
      "Epoch 69/100\n",
      "225/225 [==============================] - 1s 2ms/step - loss: 11.7186 - accuracy: 0.2315 - val_loss: 11.9325 - val_accuracy: 0.2175\n",
      "Epoch 70/100\n",
      "225/225 [==============================] - 0s 2ms/step - loss: 11.7186 - accuracy: 0.2315 - val_loss: 11.9325 - val_accuracy: 0.2175\n",
      "Epoch 71/100\n",
      "225/225 [==============================] - 0s 2ms/step - loss: 11.7186 - accuracy: 0.2315 - val_loss: 11.9325 - val_accuracy: 0.2175\n",
      "Epoch 72/100\n",
      "225/225 [==============================] - 1s 2ms/step - loss: 11.7186 - accuracy: 0.2315 - val_loss: 11.9325 - val_accuracy: 0.2175\n",
      "Epoch 73/100\n",
      "225/225 [==============================] - 1s 2ms/step - loss: 11.7186 - accuracy: 0.2315 - val_loss: 11.9325 - val_accuracy: 0.2175\n",
      "Epoch 74/100\n",
      "225/225 [==============================] - 0s 2ms/step - loss: 11.7186 - accuracy: 0.2315 - val_loss: 11.9325 - val_accuracy: 0.2175\n",
      "Epoch 75/100\n",
      "225/225 [==============================] - 0s 2ms/step - loss: 11.7186 - accuracy: 0.2315 - val_loss: 11.9325 - val_accuracy: 0.2175\n",
      "Epoch 76/100\n",
      "225/225 [==============================] - 0s 2ms/step - loss: 11.7186 - accuracy: 0.2315 - val_loss: 11.9325 - val_accuracy: 0.2175\n",
      "Epoch 77/100\n",
      "225/225 [==============================] - 0s 2ms/step - loss: 11.7186 - accuracy: 0.2315 - val_loss: 11.9325 - val_accuracy: 0.2175\n",
      "Epoch 78/100\n",
      "225/225 [==============================] - 1s 2ms/step - loss: 11.7186 - accuracy: 0.2315 - val_loss: 11.9325 - val_accuracy: 0.2175\n",
      "Epoch 79/100\n",
      "225/225 [==============================] - 1s 2ms/step - loss: 11.7186 - accuracy: 0.2315 - val_loss: 11.9325 - val_accuracy: 0.2175\n",
      "Epoch 80/100\n",
      "225/225 [==============================] - 1s 2ms/step - loss: 11.7186 - accuracy: 0.2315 - val_loss: 11.9325 - val_accuracy: 0.2175\n",
      "Epoch 81/100\n",
      "225/225 [==============================] - 0s 2ms/step - loss: 11.7186 - accuracy: 0.2315 - val_loss: 11.9325 - val_accuracy: 0.2175\n",
      "Epoch 82/100\n",
      "225/225 [==============================] - 1s 2ms/step - loss: 11.7186 - accuracy: 0.2315 - val_loss: 11.9325 - val_accuracy: 0.2175\n",
      "Epoch 83/100\n",
      "225/225 [==============================] - 0s 2ms/step - loss: 11.7186 - accuracy: 0.2315 - val_loss: 11.9325 - val_accuracy: 0.2175\n",
      "Epoch 84/100\n",
      "225/225 [==============================] - 0s 2ms/step - loss: 11.7186 - accuracy: 0.2315 - val_loss: 11.9325 - val_accuracy: 0.2175\n",
      "Epoch 85/100\n",
      "225/225 [==============================] - 0s 2ms/step - loss: 11.7186 - accuracy: 0.2315 - val_loss: 11.9325 - val_accuracy: 0.2175\n",
      "Epoch 85: early stopping\n",
      "125/125 [==============================] - 0s 2ms/step - loss: 11.6237 - accuracy: 0.2377\n",
      "[CV] END activation_function=sigmoid, n_hidden=4, n_neurons=55; total time=  43.4s\n",
      "Epoch 1/100\n"
     ]
    },
    {
     "output_type": "stream",
     "name": "stderr",
     "text": [
      "/usr/local/lib/python3.7/dist-packages/keras/optimizer_v2/gradient_descent.py:102: UserWarning: The `lr` argument is deprecated, use `learning_rate` instead.\n",
      "  super(SGD, self).__init__(name, **kwargs)\n"
     ]
    },
    {
     "output_type": "stream",
     "name": "stdout",
     "text": [
      "225/225 [==============================] - 1s 3ms/step - loss: 0.5663 - accuracy: 0.7915 - val_loss: 0.5045 - val_accuracy: 0.7825\n",
      "Epoch 2/100\n",
      "225/225 [==============================] - 0s 2ms/step - loss: 0.4797 - accuracy: 0.8069 - val_loss: 0.4798 - val_accuracy: 0.7962\n",
      "Epoch 3/100\n",
      "225/225 [==============================] - 0s 2ms/step - loss: 5.7158 - accuracy: 0.5450 - val_loss: 11.7038 - val_accuracy: 0.2325\n",
      "Epoch 4/100\n",
      "225/225 [==============================] - 0s 2ms/step - loss: 11.6911 - accuracy: 0.2333 - val_loss: 11.7038 - val_accuracy: 0.2325\n",
      "Epoch 5/100\n",
      "225/225 [==============================] - 0s 2ms/step - loss: 11.6911 - accuracy: 0.2333 - val_loss: 11.7038 - val_accuracy: 0.2325\n",
      "Epoch 6/100\n",
      "225/225 [==============================] - 0s 2ms/step - loss: 11.6911 - accuracy: 0.2333 - val_loss: 11.7038 - val_accuracy: 0.2325\n",
      "Epoch 7/100\n",
      "225/225 [==============================] - 0s 2ms/step - loss: 11.6911 - accuracy: 0.2333 - val_loss: 11.7038 - val_accuracy: 0.2325\n",
      "Epoch 8/100\n",
      "225/225 [==============================] - 0s 2ms/step - loss: 11.6911 - accuracy: 0.2333 - val_loss: 11.7038 - val_accuracy: 0.2325\n",
      "Epoch 9/100\n",
      "225/225 [==============================] - 0s 2ms/step - loss: 11.6911 - accuracy: 0.2333 - val_loss: 11.7038 - val_accuracy: 0.2325\n",
      "Epoch 10/100\n",
      "225/225 [==============================] - 0s 2ms/step - loss: 11.6911 - accuracy: 0.2333 - val_loss: 11.7038 - val_accuracy: 0.2325\n",
      "Epoch 11/100\n",
      "225/225 [==============================] - 0s 2ms/step - loss: 11.6911 - accuracy: 0.2333 - val_loss: 11.7038 - val_accuracy: 0.2325\n",
      "Epoch 12/100\n",
      "225/225 [==============================] - 0s 2ms/step - loss: 11.6911 - accuracy: 0.2333 - val_loss: 11.7038 - val_accuracy: 0.2325\n",
      "Epoch 13/100\n",
      "225/225 [==============================] - 0s 2ms/step - loss: 11.6911 - accuracy: 0.2333 - val_loss: 11.7038 - val_accuracy: 0.2325\n",
      "Epoch 14/100\n",
      "225/225 [==============================] - 0s 2ms/step - loss: 11.6911 - accuracy: 0.2333 - val_loss: 11.7038 - val_accuracy: 0.2325\n",
      "Epoch 15/100\n",
      "225/225 [==============================] - 0s 2ms/step - loss: 11.6911 - accuracy: 0.2333 - val_loss: 11.7038 - val_accuracy: 0.2325\n",
      "Epoch 16/100\n",
      "225/225 [==============================] - 0s 2ms/step - loss: 11.6911 - accuracy: 0.2333 - val_loss: 11.7038 - val_accuracy: 0.2325\n",
      "Epoch 17/100\n",
      "225/225 [==============================] - 0s 2ms/step - loss: 11.6911 - accuracy: 0.2333 - val_loss: 11.7038 - val_accuracy: 0.2325\n",
      "Epoch 18/100\n",
      "225/225 [==============================] - 0s 2ms/step - loss: 11.6911 - accuracy: 0.2333 - val_loss: 11.7038 - val_accuracy: 0.2325\n",
      "Epoch 19/100\n",
      "225/225 [==============================] - 0s 2ms/step - loss: 11.6911 - accuracy: 0.2333 - val_loss: 11.7038 - val_accuracy: 0.2325\n",
      "Epoch 20/100\n",
      "225/225 [==============================] - 0s 2ms/step - loss: 11.6911 - accuracy: 0.2333 - val_loss: 11.7038 - val_accuracy: 0.2325\n",
      "Epoch 21/100\n",
      "225/225 [==============================] - 0s 2ms/step - loss: 11.6911 - accuracy: 0.2333 - val_loss: 11.7038 - val_accuracy: 0.2325\n",
      "Epoch 22/100\n",
      "225/225 [==============================] - 0s 2ms/step - loss: 11.6911 - accuracy: 0.2333 - val_loss: 11.7038 - val_accuracy: 0.2325\n",
      "Epoch 22: early stopping\n",
      "125/125 [==============================] - 0s 1ms/step - loss: 11.7190 - accuracy: 0.2315\n",
      "[CV] END .activation_function=relu, n_hidden=3, n_neurons=23; total time=  11.1s\n",
      "Epoch 1/100\n"
     ]
    },
    {
     "output_type": "stream",
     "name": "stderr",
     "text": [
      "/usr/local/lib/python3.7/dist-packages/keras/optimizer_v2/gradient_descent.py:102: UserWarning: The `lr` argument is deprecated, use `learning_rate` instead.\n",
      "  super(SGD, self).__init__(name, **kwargs)\n"
     ]
    },
    {
     "output_type": "stream",
     "name": "stdout",
     "text": [
      "225/225 [==============================] - 1s 2ms/step - loss: 0.8276 - accuracy: 0.7401 - val_loss: 0.5558 - val_accuracy: 0.7738\n",
      "Epoch 2/100\n",
      "225/225 [==============================] - 0s 2ms/step - loss: 0.5785 - accuracy: 0.7997 - val_loss: 11.5918 - val_accuracy: 0.2325\n",
      "Epoch 3/100\n",
      "225/225 [==============================] - 0s 2ms/step - loss: 1.3782 - accuracy: 0.7000 - val_loss: 0.4505 - val_accuracy: 0.8213\n",
      "Epoch 4/100\n",
      "225/225 [==============================] - 0s 2ms/step - loss: 0.4260 - accuracy: 0.8229 - val_loss: 0.4493 - val_accuracy: 0.8263\n",
      "Epoch 5/100\n",
      "225/225 [==============================] - 0s 2ms/step - loss: 0.4039 - accuracy: 0.8336 - val_loss: 0.4267 - val_accuracy: 0.8275\n",
      "Epoch 6/100\n",
      "225/225 [==============================] - 0s 2ms/step - loss: 0.3942 - accuracy: 0.8376 - val_loss: 0.4113 - val_accuracy: 0.8350\n",
      "Epoch 7/100\n",
      "225/225 [==============================] - 0s 2ms/step - loss: 0.3898 - accuracy: 0.8382 - val_loss: 0.4051 - val_accuracy: 0.8363\n",
      "Epoch 8/100\n",
      "225/225 [==============================] - 0s 2ms/step - loss: 0.3831 - accuracy: 0.8386 - val_loss: 0.4029 - val_accuracy: 0.8363\n",
      "Epoch 9/100\n",
      "225/225 [==============================] - 0s 2ms/step - loss: 0.3783 - accuracy: 0.8403 - val_loss: 0.3980 - val_accuracy: 0.8250\n",
      "Epoch 10/100\n",
      "225/225 [==============================] - 0s 2ms/step - loss: 0.3742 - accuracy: 0.8415 - val_loss: 0.3956 - val_accuracy: 0.8263\n",
      "Epoch 11/100\n",
      "225/225 [==============================] - 0s 2ms/step - loss: 0.3712 - accuracy: 0.8429 - val_loss: 0.3955 - val_accuracy: 0.8250\n",
      "Epoch 12/100\n",
      "225/225 [==============================] - 0s 2ms/step - loss: 0.3698 - accuracy: 0.8442 - val_loss: 0.3935 - val_accuracy: 0.8250\n",
      "Epoch 13/100\n",
      "225/225 [==============================] - 0s 2ms/step - loss: 0.3752 - accuracy: 0.8410 - val_loss: 0.3941 - val_accuracy: 0.8300\n",
      "Epoch 14/100\n",
      "225/225 [==============================] - 0s 2ms/step - loss: 0.3680 - accuracy: 0.8424 - val_loss: 0.3929 - val_accuracy: 0.8250\n",
      "Epoch 15/100\n",
      "225/225 [==============================] - 0s 2ms/step - loss: 0.3630 - accuracy: 0.8447 - val_loss: 0.3903 - val_accuracy: 0.8263\n",
      "Epoch 16/100\n",
      "225/225 [==============================] - 0s 2ms/step - loss: 0.3599 - accuracy: 0.8474 - val_loss: 0.3903 - val_accuracy: 0.8250\n",
      "Epoch 17/100\n",
      "225/225 [==============================] - 0s 2ms/step - loss: 0.3578 - accuracy: 0.8478 - val_loss: 0.3925 - val_accuracy: 0.8250\n",
      "Epoch 18/100\n",
      "225/225 [==============================] - 0s 2ms/step - loss: 0.3676 - accuracy: 0.8431 - val_loss: 0.3952 - val_accuracy: 0.8363\n",
      "Epoch 19/100\n",
      "225/225 [==============================] - 0s 2ms/step - loss: 0.3606 - accuracy: 0.8469 - val_loss: 0.4097 - val_accuracy: 0.8288\n",
      "Epoch 20/100\n",
      "225/225 [==============================] - 0s 2ms/step - loss: 0.3590 - accuracy: 0.8490 - val_loss: 0.4039 - val_accuracy: 0.8325\n",
      "Epoch 21/100\n",
      "225/225 [==============================] - 0s 2ms/step - loss: 0.3553 - accuracy: 0.8504 - val_loss: 0.3874 - val_accuracy: 0.8238\n",
      "Epoch 22/100\n",
      "225/225 [==============================] - 0s 2ms/step - loss: 0.3517 - accuracy: 0.8497 - val_loss: 0.3860 - val_accuracy: 0.8288\n",
      "Epoch 23/100\n",
      "225/225 [==============================] - 1s 2ms/step - loss: 0.3523 - accuracy: 0.8497 - val_loss: 0.3868 - val_accuracy: 0.8325\n",
      "Epoch 24/100\n",
      "225/225 [==============================] - 0s 2ms/step - loss: 0.3498 - accuracy: 0.8494 - val_loss: 0.3871 - val_accuracy: 0.8263\n",
      "Epoch 25/100\n",
      "225/225 [==============================] - 0s 2ms/step - loss: 0.3483 - accuracy: 0.8501 - val_loss: 0.3883 - val_accuracy: 0.8263\n",
      "Epoch 26/100\n",
      "225/225 [==============================] - 0s 2ms/step - loss: 0.3477 - accuracy: 0.8494 - val_loss: 0.3902 - val_accuracy: 0.8325\n",
      "Epoch 27/100\n",
      "225/225 [==============================] - 0s 2ms/step - loss: 0.3469 - accuracy: 0.8507 - val_loss: 0.3867 - val_accuracy: 0.8275\n",
      "Epoch 28/100\n",
      "225/225 [==============================] - 0s 2ms/step - loss: 0.3454 - accuracy: 0.8499 - val_loss: 0.3855 - val_accuracy: 0.8288\n",
      "Epoch 29/100\n",
      "225/225 [==============================] - 0s 2ms/step - loss: 0.3447 - accuracy: 0.8510 - val_loss: 0.3891 - val_accuracy: 0.8275\n",
      "Epoch 30/100\n",
      "225/225 [==============================] - 0s 2ms/step - loss: 0.3439 - accuracy: 0.8514 - val_loss: 0.3872 - val_accuracy: 0.8275\n",
      "Epoch 31/100\n",
      "225/225 [==============================] - 0s 2ms/step - loss: 0.3429 - accuracy: 0.8511 - val_loss: 0.3865 - val_accuracy: 0.8263\n",
      "Epoch 32/100\n",
      "225/225 [==============================] - 0s 2ms/step - loss: 0.3417 - accuracy: 0.8515 - val_loss: 0.3882 - val_accuracy: 0.8275\n",
      "Epoch 33/100\n",
      "225/225 [==============================] - 1s 2ms/step - loss: 0.3413 - accuracy: 0.8528 - val_loss: 0.3905 - val_accuracy: 0.8288\n",
      "Epoch 34/100\n",
      "225/225 [==============================] - 0s 2ms/step - loss: 0.3405 - accuracy: 0.8532 - val_loss: 0.3875 - val_accuracy: 0.8300\n",
      "Epoch 35/100\n",
      "225/225 [==============================] - 0s 2ms/step - loss: 0.3395 - accuracy: 0.8531 - val_loss: 0.3875 - val_accuracy: 0.8300\n",
      "Epoch 36/100\n",
      "225/225 [==============================] - 0s 2ms/step - loss: 0.4101 - accuracy: 0.8192 - val_loss: 0.5564 - val_accuracy: 0.8100\n",
      "Epoch 37/100\n",
      "225/225 [==============================] - 0s 2ms/step - loss: 0.4125 - accuracy: 0.8429 - val_loss: 0.3939 - val_accuracy: 0.8375\n",
      "Epoch 38/100\n",
      "225/225 [==============================] - 0s 2ms/step - loss: 0.4317 - accuracy: 0.8035 - val_loss: 0.4108 - val_accuracy: 0.8213\n",
      "Epoch 39/100\n",
      "225/225 [==============================] - 0s 2ms/step - loss: 0.3688 - accuracy: 0.8428 - val_loss: 0.3922 - val_accuracy: 0.8288\n",
      "Epoch 40/100\n",
      "225/225 [==============================] - 0s 2ms/step - loss: 0.3571 - accuracy: 0.8487 - val_loss: 0.3965 - val_accuracy: 0.8388\n",
      "Epoch 41/100\n",
      "225/225 [==============================] - 0s 2ms/step - loss: 0.3540 - accuracy: 0.8503 - val_loss: 0.3885 - val_accuracy: 0.8338\n",
      "Epoch 42/100\n",
      "225/225 [==============================] - 0s 2ms/step - loss: 0.3493 - accuracy: 0.8504 - val_loss: 0.3900 - val_accuracy: 0.8350\n",
      "Epoch 43/100\n",
      "225/225 [==============================] - 0s 2ms/step - loss: 0.3459 - accuracy: 0.8511 - val_loss: 0.4081 - val_accuracy: 0.8313\n",
      "Epoch 44/100\n",
      "225/225 [==============================] - 0s 2ms/step - loss: 0.3425 - accuracy: 0.8522 - val_loss: 0.4078 - val_accuracy: 0.8338\n",
      "Epoch 45/100\n",
      "225/225 [==============================] - 0s 2ms/step - loss: 0.3423 - accuracy: 0.8518 - val_loss: 0.4166 - val_accuracy: 0.8375\n",
      "Epoch 46/100\n",
      "225/225 [==============================] - 0s 2ms/step - loss: 0.3529 - accuracy: 0.8522 - val_loss: 0.3886 - val_accuracy: 0.8363\n",
      "Epoch 47/100\n",
      "225/225 [==============================] - 0s 2ms/step - loss: 0.3414 - accuracy: 0.8519 - val_loss: 0.4014 - val_accuracy: 0.8338\n",
      "Epoch 48/100\n",
      "225/225 [==============================] - 0s 2ms/step - loss: 0.3382 - accuracy: 0.8537 - val_loss: 0.4034 - val_accuracy: 0.8325\n",
      "Epoch 48: early stopping\n",
      "125/125 [==============================] - 0s 2ms/step - loss: 0.3793 - accuracy: 0.8465\n",
      "[CV] END .activation_function=relu, n_hidden=3, n_neurons=23; total time=  23.1s\n",
      "Epoch 1/100\n"
     ]
    },
    {
     "output_type": "stream",
     "name": "stderr",
     "text": [
      "/usr/local/lib/python3.7/dist-packages/keras/optimizer_v2/gradient_descent.py:102: UserWarning: The `lr` argument is deprecated, use `learning_rate` instead.\n",
      "  super(SGD, self).__init__(name, **kwargs)\n"
     ]
    },
    {
     "output_type": "stream",
     "name": "stdout",
     "text": [
      "225/225 [==============================] - 1s 3ms/step - loss: 0.5356 - accuracy: 0.7792 - val_loss: 0.4481 - val_accuracy: 0.8000\n",
      "Epoch 2/100\n",
      "225/225 [==============================] - 0s 2ms/step - loss: 0.4505 - accuracy: 0.8090 - val_loss: 0.4245 - val_accuracy: 0.8125\n",
      "Epoch 3/100\n",
      "225/225 [==============================] - 0s 2ms/step - loss: 0.4555 - accuracy: 0.8112 - val_loss: 0.4415 - val_accuracy: 0.8138\n",
      "Epoch 4/100\n",
      "225/225 [==============================] - 0s 2ms/step - loss: 0.4384 - accuracy: 0.8214 - val_loss: 0.4144 - val_accuracy: 0.8213\n",
      "Epoch 5/100\n",
      "225/225 [==============================] - 0s 2ms/step - loss: 0.4622 - accuracy: 0.8115 - val_loss: 0.6027 - val_accuracy: 0.6913\n",
      "Epoch 6/100\n",
      "225/225 [==============================] - 0s 2ms/step - loss: 0.4439 - accuracy: 0.8204 - val_loss: 0.4417 - val_accuracy: 0.8238\n",
      "Epoch 7/100\n",
      "225/225 [==============================] - 0s 2ms/step - loss: 0.4083 - accuracy: 0.8314 - val_loss: 0.3837 - val_accuracy: 0.8275\n",
      "Epoch 8/100\n",
      "225/225 [==============================] - 1s 2ms/step - loss: 0.7214 - accuracy: 0.7969 - val_loss: 2.9891 - val_accuracy: 0.4300\n",
      "Epoch 9/100\n",
      "225/225 [==============================] - 0s 2ms/step - loss: 0.4880 - accuracy: 0.8242 - val_loss: 0.4033 - val_accuracy: 0.8325\n",
      "Epoch 10/100\n",
      "225/225 [==============================] - 1s 2ms/step - loss: 0.4085 - accuracy: 0.8375 - val_loss: 0.3983 - val_accuracy: 0.8350\n",
      "Epoch 11/100\n",
      "225/225 [==============================] - 0s 2ms/step - loss: 0.4005 - accuracy: 0.8363 - val_loss: 0.3896 - val_accuracy: 0.8313\n",
      "Epoch 12/100\n",
      "225/225 [==============================] - 1s 2ms/step - loss: 0.3857 - accuracy: 0.8414 - val_loss: 0.3744 - val_accuracy: 0.8438\n",
      "Epoch 13/100\n",
      "225/225 [==============================] - 0s 2ms/step - loss: 0.3795 - accuracy: 0.8424 - val_loss: 0.3695 - val_accuracy: 0.8363\n",
      "Epoch 14/100\n",
      "225/225 [==============================] - 0s 2ms/step - loss: 0.3694 - accuracy: 0.8438 - val_loss: 0.3785 - val_accuracy: 0.8350\n",
      "Epoch 15/100\n",
      "225/225 [==============================] - 0s 2ms/step - loss: 0.3694 - accuracy: 0.8436 - val_loss: 0.3775 - val_accuracy: 0.8388\n",
      "Epoch 16/100\n",
      "225/225 [==============================] - 0s 2ms/step - loss: 0.3614 - accuracy: 0.8449 - val_loss: 0.3800 - val_accuracy: 0.8413\n",
      "Epoch 17/100\n",
      "225/225 [==============================] - 0s 2ms/step - loss: 0.3610 - accuracy: 0.8457 - val_loss: 0.3889 - val_accuracy: 0.8425\n",
      "Epoch 18/100\n",
      "225/225 [==============================] - 0s 2ms/step - loss: 0.3671 - accuracy: 0.8456 - val_loss: 0.3638 - val_accuracy: 0.8425\n",
      "Epoch 19/100\n",
      "225/225 [==============================] - 0s 2ms/step - loss: 0.3563 - accuracy: 0.8464 - val_loss: 0.3813 - val_accuracy: 0.8400\n",
      "Epoch 20/100\n",
      "225/225 [==============================] - 0s 2ms/step - loss: 0.3524 - accuracy: 0.8472 - val_loss: 0.3645 - val_accuracy: 0.8450\n",
      "Epoch 21/100\n",
      "225/225 [==============================] - 1s 2ms/step - loss: 0.3499 - accuracy: 0.8497 - val_loss: 0.3900 - val_accuracy: 0.8425\n",
      "Epoch 22/100\n",
      "225/225 [==============================] - 0s 2ms/step - loss: 0.3474 - accuracy: 0.8499 - val_loss: 0.3747 - val_accuracy: 0.8450\n",
      "Epoch 23/100\n",
      "225/225 [==============================] - 0s 2ms/step - loss: 0.3455 - accuracy: 0.8486 - val_loss: 0.3811 - val_accuracy: 0.8438\n",
      "Epoch 24/100\n",
      "225/225 [==============================] - 0s 2ms/step - loss: 0.3435 - accuracy: 0.8500 - val_loss: 0.3750 - val_accuracy: 0.8450\n",
      "Epoch 25/100\n",
      "225/225 [==============================] - 1s 2ms/step - loss: 0.3420 - accuracy: 0.8507 - val_loss: 0.4149 - val_accuracy: 0.8450\n",
      "Epoch 26/100\n",
      "225/225 [==============================] - 0s 2ms/step - loss: 0.3404 - accuracy: 0.8511 - val_loss: 0.3730 - val_accuracy: 0.8462\n",
      "Epoch 27/100\n",
      "225/225 [==============================] - 1s 2ms/step - loss: 0.3388 - accuracy: 0.8511 - val_loss: 0.3779 - val_accuracy: 0.8462\n",
      "Epoch 28/100\n",
      "225/225 [==============================] - 0s 2ms/step - loss: 0.3387 - accuracy: 0.8514 - val_loss: 0.3729 - val_accuracy: 0.8512\n",
      "Epoch 29/100\n",
      "225/225 [==============================] - 1s 2ms/step - loss: 0.3371 - accuracy: 0.8526 - val_loss: 0.4265 - val_accuracy: 0.8512\n",
      "Epoch 30/100\n",
      "225/225 [==============================] - 0s 2ms/step - loss: 0.3371 - accuracy: 0.8526 - val_loss: 0.4124 - val_accuracy: 0.8525\n",
      "Epoch 31/100\n",
      "225/225 [==============================] - 0s 2ms/step - loss: 0.3348 - accuracy: 0.8540 - val_loss: 0.3965 - val_accuracy: 0.8525\n",
      "Epoch 32/100\n",
      "225/225 [==============================] - 0s 2ms/step - loss: 0.3341 - accuracy: 0.8529 - val_loss: 0.3723 - val_accuracy: 0.8450\n",
      "Epoch 33/100\n",
      "225/225 [==============================] - 0s 2ms/step - loss: 0.3326 - accuracy: 0.8529 - val_loss: 0.4120 - val_accuracy: 0.8512\n",
      "Epoch 34/100\n",
      "225/225 [==============================] - 0s 2ms/step - loss: 0.3318 - accuracy: 0.8526 - val_loss: 0.4115 - val_accuracy: 0.8550\n",
      "Epoch 35/100\n",
      "225/225 [==============================] - 1s 2ms/step - loss: 0.3304 - accuracy: 0.8550 - val_loss: 0.4141 - val_accuracy: 0.8537\n",
      "Epoch 36/100\n",
      "225/225 [==============================] - 0s 2ms/step - loss: 0.3293 - accuracy: 0.8546 - val_loss: 0.3928 - val_accuracy: 0.8537\n",
      "Epoch 37/100\n",
      "225/225 [==============================] - 0s 2ms/step - loss: 0.3281 - accuracy: 0.8546 - val_loss: 0.4100 - val_accuracy: 0.8512\n",
      "Epoch 38/100\n",
      "225/225 [==============================] - 0s 2ms/step - loss: 0.3277 - accuracy: 0.8558 - val_loss: 0.4094 - val_accuracy: 0.8512\n",
      "Epoch 38: early stopping\n",
      "125/125 [==============================] - 0s 2ms/step - loss: 0.4185 - accuracy: 0.8432\n",
      "[CV] END .activation_function=relu, n_hidden=3, n_neurons=23; total time=  21.3s\n",
      "Epoch 1/100\n"
     ]
    },
    {
     "output_type": "stream",
     "name": "stderr",
     "text": [
      "/usr/local/lib/python3.7/dist-packages/keras/optimizer_v2/gradient_descent.py:102: UserWarning: The `lr` argument is deprecated, use `learning_rate` instead.\n",
      "  super(SGD, self).__init__(name, **kwargs)\n"
     ]
    },
    {
     "output_type": "stream",
     "name": "stdout",
     "text": [
      "225/225 [==============================] - 1s 3ms/step - loss: 1.3966 - accuracy: 0.7797 - val_loss: 7.0281 - val_accuracy: 0.4900\n",
      "Epoch 2/100\n",
      "225/225 [==============================] - 1s 2ms/step - loss: 5.1134 - accuracy: 0.6154 - val_loss: 2.3844 - val_accuracy: 0.8025\n",
      "Epoch 3/100\n",
      "225/225 [==============================] - 0s 2ms/step - loss: 2.0653 - accuracy: 0.8112 - val_loss: 2.0491 - val_accuracy: 0.8100\n",
      "Epoch 4/100\n",
      "225/225 [==============================] - 0s 2ms/step - loss: 2.8751 - accuracy: 0.7611 - val_loss: 2.3037 - val_accuracy: 0.7950\n",
      "Epoch 5/100\n",
      "225/225 [==============================] - 0s 2ms/step - loss: 2.0396 - accuracy: 0.8106 - val_loss: 2.2232 - val_accuracy: 0.8087\n",
      "Epoch 6/100\n",
      "225/225 [==============================] - 0s 2ms/step - loss: 1.5281 - accuracy: 0.8285 - val_loss: 1.6345 - val_accuracy: 0.7825\n",
      "Epoch 7/100\n",
      "225/225 [==============================] - 0s 2ms/step - loss: 0.9749 - accuracy: 0.8211 - val_loss: 0.6291 - val_accuracy: 0.7850\n",
      "Epoch 8/100\n",
      "225/225 [==============================] - 0s 2ms/step - loss: 6.3423 - accuracy: 0.5601 - val_loss: 3.9684 - val_accuracy: 0.7375\n",
      "Epoch 9/100\n",
      "225/225 [==============================] - 0s 2ms/step - loss: 2.9027 - accuracy: 0.8083 - val_loss: 2.9824 - val_accuracy: 0.8025\n",
      "Epoch 10/100\n",
      "225/225 [==============================] - 0s 2ms/step - loss: 7.3872 - accuracy: 0.5153 - val_loss: 7.3335 - val_accuracy: 0.5200\n",
      "Epoch 11/100\n",
      "225/225 [==============================] - 0s 2ms/step - loss: 7.1063 - accuracy: 0.5340 - val_loss: 7.1821 - val_accuracy: 0.5300\n",
      "Epoch 12/100\n",
      "225/225 [==============================] - 0s 2ms/step - loss: 6.5675 - accuracy: 0.5696 - val_loss: 6.4356 - val_accuracy: 0.5775\n",
      "Epoch 13/100\n",
      "225/225 [==============================] - 0s 2ms/step - loss: 5.6426 - accuracy: 0.6296 - val_loss: 3.9743 - val_accuracy: 0.7400\n",
      "Epoch 14/100\n",
      "225/225 [==============================] - 0s 2ms/step - loss: 3.9289 - accuracy: 0.7424 - val_loss: 3.9052 - val_accuracy: 0.7400\n",
      "Epoch 15/100\n",
      "225/225 [==============================] - 0s 2ms/step - loss: 3.7867 - accuracy: 0.7521 - val_loss: 3.7862 - val_accuracy: 0.7513\n",
      "Epoch 16/100\n",
      "225/225 [==============================] - 0s 2ms/step - loss: 3.6838 - accuracy: 0.7582 - val_loss: 3.6903 - val_accuracy: 0.7588\n",
      "Epoch 17/100\n",
      "225/225 [==============================] - 0s 2ms/step - loss: 3.7059 - accuracy: 0.7565 - val_loss: 3.7850 - val_accuracy: 0.7525\n",
      "Epoch 18/100\n",
      "225/225 [==============================] - 0s 2ms/step - loss: 3.6674 - accuracy: 0.7590 - val_loss: 3.5385 - val_accuracy: 0.7675\n",
      "Epoch 19/100\n",
      "225/225 [==============================] - 0s 2ms/step - loss: 3.4297 - accuracy: 0.7753 - val_loss: 3.6165 - val_accuracy: 0.7625\n",
      "Epoch 20/100\n",
      "225/225 [==============================] - 0s 2ms/step - loss: 3.9551 - accuracy: 0.7407 - val_loss: 5.2142 - val_accuracy: 0.6575\n",
      "Epoch 21/100\n",
      "225/225 [==============================] - 0s 2ms/step - loss: 5.0055 - accuracy: 0.6717 - val_loss: 4.8715 - val_accuracy: 0.6800\n",
      "Epoch 22/100\n",
      "225/225 [==============================] - 0s 2ms/step - loss: 4.7873 - accuracy: 0.6862 - val_loss: 4.7943 - val_accuracy: 0.6862\n",
      "Epoch 23/100\n",
      "225/225 [==============================] - 0s 2ms/step - loss: 4.7531 - accuracy: 0.6888 - val_loss: 4.9085 - val_accuracy: 0.6787\n",
      "Epoch 24/100\n",
      "225/225 [==============================] - 1s 2ms/step - loss: 4.1289 - accuracy: 0.7290 - val_loss: 4.0689 - val_accuracy: 0.7337\n",
      "Epoch 25/100\n",
      "225/225 [==============================] - 0s 2ms/step - loss: 3.8874 - accuracy: 0.7450 - val_loss: 4.0316 - val_accuracy: 0.7362\n",
      "Epoch 26/100\n",
      "225/225 [==============================] - 1s 2ms/step - loss: 3.7106 - accuracy: 0.7565 - val_loss: 3.5257 - val_accuracy: 0.7663\n",
      "Epoch 27/100\n",
      "225/225 [==============================] - 1s 2ms/step - loss: 3.4956 - accuracy: 0.7713 - val_loss: 3.5194 - val_accuracy: 0.7700\n",
      "Epoch 27: early stopping\n",
      "125/125 [==============================] - 0s 2ms/step - loss: 3.5038 - accuracy: 0.7700\n",
      "[CV] END ..activation_function=elu, n_hidden=2, n_neurons=71; total time=  13.9s\n",
      "Epoch 1/100\n"
     ]
    },
    {
     "output_type": "stream",
     "name": "stderr",
     "text": [
      "/usr/local/lib/python3.7/dist-packages/keras/optimizer_v2/gradient_descent.py:102: UserWarning: The `lr` argument is deprecated, use `learning_rate` instead.\n",
      "  super(SGD, self).__init__(name, **kwargs)\n"
     ]
    },
    {
     "output_type": "stream",
     "name": "stdout",
     "text": [
      "225/225 [==============================] - 1s 3ms/step - loss: 2.8930 - accuracy: 0.7281 - val_loss: 3.5635 - val_accuracy: 0.7563\n",
      "Epoch 2/100\n",
      "225/225 [==============================] - 0s 2ms/step - loss: 4.5988 - accuracy: 0.6942 - val_loss: 3.5914 - val_accuracy: 0.7650\n",
      "Epoch 3/100\n",
      "225/225 [==============================] - 0s 2ms/step - loss: 3.6740 - accuracy: 0.7614 - val_loss: 3.6069 - val_accuracy: 0.7650\n",
      "Epoch 4/100\n",
      "225/225 [==============================] - 0s 2ms/step - loss: 3.6680 - accuracy: 0.7617 - val_loss: 3.6060 - val_accuracy: 0.7650\n",
      "Epoch 5/100\n",
      "225/225 [==============================] - 1s 2ms/step - loss: 3.6619 - accuracy: 0.7621 - val_loss: 3.6071 - val_accuracy: 0.7650\n",
      "Epoch 6/100\n",
      "225/225 [==============================] - 0s 2ms/step - loss: 3.4188 - accuracy: 0.7743 - val_loss: 3.2018 - val_accuracy: 0.7912\n",
      "Epoch 7/100\n",
      "225/225 [==============================] - 1s 2ms/step - loss: 3.9004 - accuracy: 0.7419 - val_loss: 3.7248 - val_accuracy: 0.7550\n",
      "Epoch 8/100\n",
      "225/225 [==============================] - 1s 2ms/step - loss: 3.6399 - accuracy: 0.7625 - val_loss: 3.5861 - val_accuracy: 0.7675\n",
      "Epoch 9/100\n",
      "225/225 [==============================] - 1s 2ms/step - loss: 3.6112 - accuracy: 0.7654 - val_loss: 3.5674 - val_accuracy: 0.7688\n",
      "Epoch 10/100\n",
      "225/225 [==============================] - 0s 2ms/step - loss: 3.5959 - accuracy: 0.7664 - val_loss: 3.5505 - val_accuracy: 0.7688\n",
      "Epoch 11/100\n",
      "225/225 [==============================] - 1s 2ms/step - loss: 3.5600 - accuracy: 0.7679 - val_loss: 3.4324 - val_accuracy: 0.7775\n",
      "Epoch 12/100\n",
      "225/225 [==============================] - 1s 2ms/step - loss: 3.5029 - accuracy: 0.7713 - val_loss: 3.4003 - val_accuracy: 0.7763\n",
      "Epoch 13/100\n",
      "225/225 [==============================] - 1s 2ms/step - loss: 3.4634 - accuracy: 0.7746 - val_loss: 3.3784 - val_accuracy: 0.7788\n",
      "Epoch 14/100\n",
      "225/225 [==============================] - 1s 2ms/step - loss: 3.4237 - accuracy: 0.7747 - val_loss: 3.4321 - val_accuracy: 0.7775\n",
      "Epoch 15/100\n",
      "225/225 [==============================] - 1s 2ms/step - loss: 3.5717 - accuracy: 0.7678 - val_loss: 3.4710 - val_accuracy: 0.7750\n",
      "Epoch 16/100\n",
      "225/225 [==============================] - 1s 2ms/step - loss: 3.4576 - accuracy: 0.7733 - val_loss: 3.2449 - val_accuracy: 0.7875\n",
      "Epoch 17/100\n",
      "225/225 [==============================] - 0s 2ms/step - loss: 3.4384 - accuracy: 0.7758 - val_loss: 3.3949 - val_accuracy: 0.7800\n",
      "Epoch 18/100\n",
      "225/225 [==============================] - 0s 2ms/step - loss: 3.4407 - accuracy: 0.7757 - val_loss: 3.3240 - val_accuracy: 0.7812\n",
      "Epoch 19/100\n",
      "225/225 [==============================] - 1s 3ms/step - loss: 3.3263 - accuracy: 0.7811 - val_loss: 3.2782 - val_accuracy: 0.7837\n",
      "Epoch 20/100\n",
      "225/225 [==============================] - 0s 2ms/step - loss: 3.2567 - accuracy: 0.7865 - val_loss: 3.1745 - val_accuracy: 0.7875\n",
      "Epoch 21/100\n",
      "225/225 [==============================] - 1s 2ms/step - loss: 3.2744 - accuracy: 0.7853 - val_loss: 3.2087 - val_accuracy: 0.7875\n",
      "Epoch 22/100\n",
      "225/225 [==============================] - 1s 2ms/step - loss: 3.2515 - accuracy: 0.7865 - val_loss: 3.2249 - val_accuracy: 0.7862\n",
      "Epoch 23/100\n",
      "225/225 [==============================] - 0s 2ms/step - loss: 3.1845 - accuracy: 0.7901 - val_loss: 3.1314 - val_accuracy: 0.7912\n",
      "Epoch 24/100\n",
      "225/225 [==============================] - 0s 2ms/step - loss: 3.1377 - accuracy: 0.7932 - val_loss: 3.2598 - val_accuracy: 0.7825\n",
      "Epoch 25/100\n",
      "225/225 [==============================] - 1s 2ms/step - loss: 3.1762 - accuracy: 0.7908 - val_loss: 3.1221 - val_accuracy: 0.7937\n",
      "Epoch 26/100\n",
      "225/225 [==============================] - 0s 2ms/step - loss: 3.1025 - accuracy: 0.7964 - val_loss: 3.0724 - val_accuracy: 0.7950\n",
      "Epoch 27/100\n",
      "225/225 [==============================] - 0s 2ms/step - loss: 3.0435 - accuracy: 0.8000 - val_loss: 3.0165 - val_accuracy: 0.7987\n",
      "Epoch 28/100\n",
      "225/225 [==============================] - 1s 2ms/step - loss: 2.9670 - accuracy: 0.8046 - val_loss: 2.9397 - val_accuracy: 0.8025\n",
      "Epoch 29/100\n",
      "225/225 [==============================] - 1s 2ms/step - loss: 3.0478 - accuracy: 0.8006 - val_loss: 3.4578 - val_accuracy: 0.7738\n",
      "Epoch 30/100\n",
      "225/225 [==============================] - 1s 2ms/step - loss: 3.4948 - accuracy: 0.7729 - val_loss: 3.4546 - val_accuracy: 0.7750\n",
      "Epoch 31/100\n",
      "225/225 [==============================] - 1s 2ms/step - loss: 3.4553 - accuracy: 0.7750 - val_loss: 3.3542 - val_accuracy: 0.7812\n",
      "Epoch 32/100\n",
      "225/225 [==============================] - 0s 2ms/step - loss: 3.3862 - accuracy: 0.7790 - val_loss: 3.3728 - val_accuracy: 0.7812\n",
      "Epoch 33/100\n",
      "225/225 [==============================] - 0s 2ms/step - loss: 3.3651 - accuracy: 0.7810 - val_loss: 3.2986 - val_accuracy: 0.7837\n",
      "Epoch 34/100\n",
      "225/225 [==============================] - 1s 2ms/step - loss: 3.3513 - accuracy: 0.7812 - val_loss: 3.3217 - val_accuracy: 0.7825\n",
      "Epoch 35/100\n",
      "225/225 [==============================] - 0s 2ms/step - loss: 3.3171 - accuracy: 0.7836 - val_loss: 3.3159 - val_accuracy: 0.7837\n",
      "Epoch 36/100\n",
      "225/225 [==============================] - 0s 2ms/step - loss: 3.2923 - accuracy: 0.7857 - val_loss: 3.1796 - val_accuracy: 0.7937\n",
      "Epoch 37/100\n",
      "225/225 [==============================] - 1s 2ms/step - loss: 3.2227 - accuracy: 0.7896 - val_loss: 3.2178 - val_accuracy: 0.7912\n",
      "Epoch 38/100\n",
      "225/225 [==============================] - 0s 2ms/step - loss: 3.1191 - accuracy: 0.7961 - val_loss: 2.9858 - val_accuracy: 0.8050\n",
      "Epoch 39/100\n",
      "225/225 [==============================] - 0s 2ms/step - loss: 3.0171 - accuracy: 0.8015 - val_loss: 2.9517 - val_accuracy: 0.8050\n",
      "Epoch 40/100\n",
      "225/225 [==============================] - 0s 2ms/step - loss: 3.0025 - accuracy: 0.8019 - val_loss: 3.0470 - val_accuracy: 0.7987\n",
      "Epoch 41/100\n",
      "225/225 [==============================] - 0s 2ms/step - loss: 2.9963 - accuracy: 0.8039 - val_loss: 2.9685 - val_accuracy: 0.8062\n",
      "Epoch 42/100\n",
      "225/225 [==============================] - 1s 2ms/step - loss: 3.3187 - accuracy: 0.7819 - val_loss: 3.4073 - val_accuracy: 0.7738\n",
      "Epoch 43/100\n",
      "225/225 [==============================] - 0s 2ms/step - loss: 3.1869 - accuracy: 0.7897 - val_loss: 3.2330 - val_accuracy: 0.7875\n",
      "Epoch 44/100\n",
      "225/225 [==============================] - 0s 2ms/step - loss: 3.1025 - accuracy: 0.7968 - val_loss: 3.2008 - val_accuracy: 0.7875\n",
      "Epoch 45/100\n",
      "225/225 [==============================] - 0s 2ms/step - loss: 3.0612 - accuracy: 0.7990 - val_loss: 2.8982 - val_accuracy: 0.8062\n",
      "Epoch 46/100\n",
      "225/225 [==============================] - 0s 2ms/step - loss: 2.8961 - accuracy: 0.8094 - val_loss: 2.8471 - val_accuracy: 0.8112\n",
      "Epoch 47/100\n",
      "225/225 [==============================] - 0s 2ms/step - loss: 2.8772 - accuracy: 0.8104 - val_loss: 2.8496 - val_accuracy: 0.8112\n",
      "Epoch 48/100\n",
      "225/225 [==============================] - 0s 2ms/step - loss: 2.9557 - accuracy: 0.8056 - val_loss: 3.4858 - val_accuracy: 0.7675\n",
      "Epoch 49/100\n",
      "225/225 [==============================] - 0s 2ms/step - loss: 3.2603 - accuracy: 0.7854 - val_loss: 3.1317 - val_accuracy: 0.7950\n",
      "Epoch 50/100\n",
      "225/225 [==============================] - 0s 2ms/step - loss: 2.9221 - accuracy: 0.8074 - val_loss: 2.8703 - val_accuracy: 0.8112\n",
      "Epoch 51/100\n",
      "225/225 [==============================] - 0s 2ms/step - loss: 2.8270 - accuracy: 0.8143 - val_loss: 2.8501 - val_accuracy: 0.8100\n",
      "Epoch 52/100\n",
      "225/225 [==============================] - 0s 2ms/step - loss: 2.8174 - accuracy: 0.8150 - val_loss: 2.8440 - val_accuracy: 0.8150\n",
      "Epoch 53/100\n",
      "225/225 [==============================] - 0s 2ms/step - loss: 2.7790 - accuracy: 0.8172 - val_loss: 2.9053 - val_accuracy: 0.8087\n",
      "Epoch 54/100\n",
      "225/225 [==============================] - 1s 2ms/step - loss: 2.7883 - accuracy: 0.8171 - val_loss: 2.8714 - val_accuracy: 0.8087\n",
      "Epoch 55/100\n",
      "225/225 [==============================] - 0s 2ms/step - loss: 2.8222 - accuracy: 0.8146 - val_loss: 2.9887 - val_accuracy: 0.8037\n",
      "Epoch 56/100\n",
      "225/225 [==============================] - 0s 2ms/step - loss: 2.8363 - accuracy: 0.8140 - val_loss: 3.0700 - val_accuracy: 0.7962\n",
      "Epoch 57/100\n",
      "225/225 [==============================] - 0s 2ms/step - loss: 2.8645 - accuracy: 0.8125 - val_loss: 2.9531 - val_accuracy: 0.8050\n",
      "Epoch 58/100\n",
      "225/225 [==============================] - 0s 2ms/step - loss: 2.8358 - accuracy: 0.8139 - val_loss: 3.0443 - val_accuracy: 0.8025\n",
      "Epoch 59/100\n",
      "225/225 [==============================] - 0s 2ms/step - loss: 2.8463 - accuracy: 0.8146 - val_loss: 2.9741 - val_accuracy: 0.8037\n",
      "Epoch 60/100\n",
      "225/225 [==============================] - 0s 2ms/step - loss: 2.8375 - accuracy: 0.8149 - val_loss: 2.9476 - val_accuracy: 0.8087\n",
      "Epoch 61/100\n",
      "225/225 [==============================] - 1s 2ms/step - loss: 2.7144 - accuracy: 0.8222 - val_loss: 2.7700 - val_accuracy: 0.8200\n",
      "Epoch 62/100\n",
      "225/225 [==============================] - 0s 2ms/step - loss: 2.6339 - accuracy: 0.8263 - val_loss: 2.6942 - val_accuracy: 0.8225\n",
      "Epoch 63/100\n",
      "225/225 [==============================] - 0s 2ms/step - loss: 2.6514 - accuracy: 0.8253 - val_loss: 2.6556 - val_accuracy: 0.8263\n",
      "Epoch 64/100\n",
      "225/225 [==============================] - 0s 2ms/step - loss: 2.6100 - accuracy: 0.8285 - val_loss: 2.6864 - val_accuracy: 0.8225\n",
      "Epoch 65/100\n",
      "225/225 [==============================] - 1s 2ms/step - loss: 2.5914 - accuracy: 0.8297 - val_loss: 2.7934 - val_accuracy: 0.8138\n",
      "Epoch 66/100\n",
      "225/225 [==============================] - 1s 2ms/step - loss: 2.6469 - accuracy: 0.8256 - val_loss: 2.8597 - val_accuracy: 0.8112\n",
      "Epoch 67/100\n",
      "225/225 [==============================] - 0s 2ms/step - loss: 2.7358 - accuracy: 0.8203 - val_loss: 2.9855 - val_accuracy: 0.8050\n",
      "Epoch 68/100\n",
      "225/225 [==============================] - 0s 2ms/step - loss: 2.7881 - accuracy: 0.8179 - val_loss: 2.9113 - val_accuracy: 0.8100\n",
      "Epoch 69/100\n",
      "225/225 [==============================] - 1s 2ms/step - loss: 2.7324 - accuracy: 0.8207 - val_loss: 2.7743 - val_accuracy: 0.8175\n",
      "Epoch 70/100\n",
      "225/225 [==============================] - 0s 2ms/step - loss: 2.7777 - accuracy: 0.8169 - val_loss: 3.0409 - val_accuracy: 0.7987\n",
      "Epoch 71/100\n",
      "225/225 [==============================] - 0s 2ms/step - loss: 2.8069 - accuracy: 0.8150 - val_loss: 2.9784 - val_accuracy: 0.8050\n",
      "Epoch 72/100\n",
      "225/225 [==============================] - 0s 2ms/step - loss: 2.8100 - accuracy: 0.8154 - val_loss: 2.8496 - val_accuracy: 0.8112\n",
      "Epoch 73/100\n",
      "225/225 [==============================] - 0s 2ms/step - loss: 2.6918 - accuracy: 0.8226 - val_loss: 2.7147 - val_accuracy: 0.8200\n",
      "Epoch 74/100\n",
      "225/225 [==============================] - 0s 2ms/step - loss: 2.5576 - accuracy: 0.8315 - val_loss: 2.5835 - val_accuracy: 0.8275\n",
      "Epoch 75/100\n",
      "225/225 [==============================] - 0s 2ms/step - loss: 2.5040 - accuracy: 0.8353 - val_loss: 2.6206 - val_accuracy: 0.8263\n",
      "Epoch 76/100\n",
      "225/225 [==============================] - 0s 2ms/step - loss: 2.6004 - accuracy: 0.8300 - val_loss: 2.6746 - val_accuracy: 0.8238\n",
      "Epoch 77/100\n",
      "225/225 [==============================] - 0s 2ms/step - loss: 2.5184 - accuracy: 0.8346 - val_loss: 2.9365 - val_accuracy: 0.8050\n",
      "Epoch 78/100\n",
      "225/225 [==============================] - 0s 2ms/step - loss: 2.4748 - accuracy: 0.8374 - val_loss: 2.7891 - val_accuracy: 0.8163\n",
      "Epoch 79/100\n",
      "225/225 [==============================] - 0s 2ms/step - loss: 2.4987 - accuracy: 0.8358 - val_loss: 2.7542 - val_accuracy: 0.8188\n",
      "Epoch 80/100\n",
      "225/225 [==============================] - 0s 2ms/step - loss: 2.5219 - accuracy: 0.8349 - val_loss: 2.6974 - val_accuracy: 0.8238\n",
      "Epoch 81/100\n",
      "225/225 [==============================] - 0s 2ms/step - loss: 2.6411 - accuracy: 0.8268 - val_loss: 2.6076 - val_accuracy: 0.8263\n",
      "Epoch 82/100\n",
      "225/225 [==============================] - 1s 2ms/step - loss: 2.5552 - accuracy: 0.8326 - val_loss: 2.6387 - val_accuracy: 0.8275\n",
      "Epoch 83/100\n",
      "225/225 [==============================] - 1s 2ms/step - loss: 2.9699 - accuracy: 0.8060 - val_loss: 3.6834 - val_accuracy: 0.7600\n",
      "Epoch 84/100\n",
      "225/225 [==============================] - 1s 2ms/step - loss: 3.6168 - accuracy: 0.7635 - val_loss: 3.6638 - val_accuracy: 0.7613\n",
      "Epoch 85/100\n",
      "225/225 [==============================] - 0s 2ms/step - loss: 3.6114 - accuracy: 0.7644 - val_loss: 3.6439 - val_accuracy: 0.7625\n",
      "Epoch 86/100\n",
      "225/225 [==============================] - 0s 2ms/step - loss: 3.6045 - accuracy: 0.7651 - val_loss: 3.6443 - val_accuracy: 0.7625\n",
      "Epoch 87/100\n",
      "225/225 [==============================] - 0s 2ms/step - loss: 3.7359 - accuracy: 0.7554 - val_loss: 4.1008 - val_accuracy: 0.7312\n",
      "Epoch 88/100\n",
      "225/225 [==============================] - 1s 2ms/step - loss: 3.7124 - accuracy: 0.7578 - val_loss: 3.5853 - val_accuracy: 0.7663\n",
      "Epoch 89/100\n",
      "225/225 [==============================] - 1s 2ms/step - loss: 3.5741 - accuracy: 0.7671 - val_loss: 3.5308 - val_accuracy: 0.7688\n",
      "Epoch 90/100\n",
      "225/225 [==============================] - 1s 2ms/step - loss: 3.5383 - accuracy: 0.7690 - val_loss: 3.5741 - val_accuracy: 0.7663\n",
      "Epoch 91/100\n",
      "225/225 [==============================] - 1s 2ms/step - loss: 3.4740 - accuracy: 0.7736 - val_loss: 3.5100 - val_accuracy: 0.7713\n",
      "Epoch 92/100\n",
      "225/225 [==============================] - 1s 2ms/step - loss: 3.4722 - accuracy: 0.7739 - val_loss: 3.4727 - val_accuracy: 0.7725\n",
      "Epoch 93/100\n",
      "225/225 [==============================] - 1s 2ms/step - loss: 3.4901 - accuracy: 0.7729 - val_loss: 3.5170 - val_accuracy: 0.7700\n",
      "Epoch 94/100\n",
      "225/225 [==============================] - 0s 2ms/step - loss: 3.5258 - accuracy: 0.7699 - val_loss: 3.5673 - val_accuracy: 0.7675\n",
      "Epoch 94: early stopping\n",
      "125/125 [==============================] - 0s 2ms/step - loss: 3.4635 - accuracy: 0.7747\n",
      "[CV] END ..activation_function=elu, n_hidden=2, n_neurons=71; total time= 1.4min\n",
      "Epoch 1/100\n"
     ]
    },
    {
     "output_type": "stream",
     "name": "stderr",
     "text": [
      "/usr/local/lib/python3.7/dist-packages/keras/optimizer_v2/gradient_descent.py:102: UserWarning: The `lr` argument is deprecated, use `learning_rate` instead.\n",
      "  super(SGD, self).__init__(name, **kwargs)\n"
     ]
    },
    {
     "output_type": "stream",
     "name": "stdout",
     "text": [
      "225/225 [==============================] - 1s 3ms/step - loss: 1.3723 - accuracy: 0.7986 - val_loss: 1.9865 - val_accuracy: 0.8225\n",
      "Epoch 2/100\n",
      "225/225 [==============================] - 0s 2ms/step - loss: 2.8346 - accuracy: 0.7778 - val_loss: 2.8098 - val_accuracy: 0.7738\n",
      "Epoch 3/100\n",
      "225/225 [==============================] - 0s 2ms/step - loss: 2.7266 - accuracy: 0.7947 - val_loss: 3.1393 - val_accuracy: 0.7900\n",
      "Epoch 4/100\n",
      "225/225 [==============================] - 0s 2ms/step - loss: 3.2245 - accuracy: 0.7821 - val_loss: 2.8063 - val_accuracy: 0.8025\n",
      "Epoch 5/100\n",
      "225/225 [==============================] - 1s 2ms/step - loss: 2.6960 - accuracy: 0.7997 - val_loss: 2.1598 - val_accuracy: 0.8363\n",
      "Epoch 6/100\n",
      "225/225 [==============================] - 1s 2ms/step - loss: 2.7844 - accuracy: 0.7983 - val_loss: 2.9037 - val_accuracy: 0.7975\n",
      "Epoch 7/100\n",
      "225/225 [==============================] - 0s 2ms/step - loss: 2.7328 - accuracy: 0.8003 - val_loss: 2.3766 - val_accuracy: 0.8250\n",
      "Epoch 8/100\n",
      "225/225 [==============================] - 0s 2ms/step - loss: 2.2728 - accuracy: 0.8276 - val_loss: 2.3486 - val_accuracy: 0.8300\n",
      "Epoch 9/100\n",
      "225/225 [==============================] - 0s 2ms/step - loss: 2.1785 - accuracy: 0.8346 - val_loss: 2.2690 - val_accuracy: 0.8350\n",
      "Epoch 10/100\n",
      "225/225 [==============================] - 0s 2ms/step - loss: 3.2949 - accuracy: 0.7689 - val_loss: 3.7337 - val_accuracy: 0.7475\n",
      "Epoch 11/100\n",
      "225/225 [==============================] - 1s 2ms/step - loss: 3.3411 - accuracy: 0.7676 - val_loss: 2.8805 - val_accuracy: 0.7937\n",
      "Epoch 12/100\n",
      "225/225 [==============================] - 0s 2ms/step - loss: 2.5922 - accuracy: 0.8122 - val_loss: 2.5698 - val_accuracy: 0.8163\n",
      "Epoch 13/100\n",
      "225/225 [==============================] - 1s 2ms/step - loss: 2.4133 - accuracy: 0.8240 - val_loss: 2.3676 - val_accuracy: 0.8338\n",
      "Epoch 14/100\n",
      "225/225 [==============================] - 1s 2ms/step - loss: 2.2976 - accuracy: 0.8325 - val_loss: 2.5940 - val_accuracy: 0.8175\n",
      "Epoch 15/100\n",
      "225/225 [==============================] - 1s 2ms/step - loss: 2.5972 - accuracy: 0.8169 - val_loss: 2.3015 - val_accuracy: 0.8313\n",
      "Epoch 16/100\n",
      "225/225 [==============================] - 0s 2ms/step - loss: 2.1937 - accuracy: 0.8339 - val_loss: 2.2280 - val_accuracy: 0.8425\n",
      "Epoch 17/100\n",
      "225/225 [==============================] - 0s 2ms/step - loss: 6.1442 - accuracy: 0.5868 - val_loss: 5.7811 - val_accuracy: 0.6200\n",
      "Epoch 18/100\n",
      "225/225 [==============================] - 0s 2ms/step - loss: 5.4834 - accuracy: 0.6392 - val_loss: 4.7153 - val_accuracy: 0.6888\n",
      "Epoch 19/100\n",
      "225/225 [==============================] - 0s 2ms/step - loss: 4.6353 - accuracy: 0.6936 - val_loss: 4.0779 - val_accuracy: 0.7337\n",
      "Epoch 20/100\n",
      "225/225 [==============================] - 0s 2ms/step - loss: 3.8826 - accuracy: 0.7453 - val_loss: 3.6424 - val_accuracy: 0.7613\n",
      "Epoch 21/100\n",
      "225/225 [==============================] - 0s 2ms/step - loss: 3.6037 - accuracy: 0.7640 - val_loss: 3.4140 - val_accuracy: 0.7763\n",
      "Epoch 21: early stopping\n",
      "125/125 [==============================] - 0s 2ms/step - loss: 3.6806 - accuracy: 0.7590\n",
      "[CV] END ..activation_function=elu, n_hidden=2, n_neurons=71; total time=  11.4s\n",
      "Epoch 1/100\n"
     ]
    },
    {
     "output_type": "stream",
     "name": "stderr",
     "text": [
      "/usr/local/lib/python3.7/dist-packages/keras/optimizer_v2/gradient_descent.py:102: UserWarning: The `lr` argument is deprecated, use `learning_rate` instead.\n",
      "  super(SGD, self).__init__(name, **kwargs)\n"
     ]
    },
    {
     "output_type": "stream",
     "name": "stdout",
     "text": [
      "225/225 [==============================] - 2s 6ms/step - loss: 0.4815 - accuracy: 0.7817 - val_loss: 0.4465 - val_accuracy: 0.7962\n",
      "Epoch 2/100\n",
      "225/225 [==============================] - 0s 2ms/step - loss: 0.4381 - accuracy: 0.7974 - val_loss: 0.4252 - val_accuracy: 0.7975\n",
      "Epoch 3/100\n",
      "225/225 [==============================] - 1s 2ms/step - loss: 0.4077 - accuracy: 0.8182 - val_loss: 0.4291 - val_accuracy: 0.8163\n",
      "Epoch 4/100\n",
      "225/225 [==============================] - 1s 2ms/step - loss: 0.3998 - accuracy: 0.8238 - val_loss: 0.4344 - val_accuracy: 0.8213\n",
      "Epoch 5/100\n",
      "225/225 [==============================] - 1s 2ms/step - loss: 0.3930 - accuracy: 0.8289 - val_loss: 0.4498 - val_accuracy: 0.8175\n",
      "Epoch 6/100\n",
      "225/225 [==============================] - 1s 2ms/step - loss: 0.3858 - accuracy: 0.8293 - val_loss: 0.4528 - val_accuracy: 0.8325\n",
      "Epoch 7/100\n",
      "225/225 [==============================] - 1s 2ms/step - loss: 0.3873 - accuracy: 0.8300 - val_loss: 0.4641 - val_accuracy: 0.8213\n",
      "Epoch 8/100\n",
      "225/225 [==============================] - 0s 2ms/step - loss: 0.3855 - accuracy: 0.8346 - val_loss: 0.4164 - val_accuracy: 0.8325\n",
      "Epoch 9/100\n",
      "225/225 [==============================] - 1s 2ms/step - loss: 0.3824 - accuracy: 0.8349 - val_loss: 0.4283 - val_accuracy: 0.8288\n",
      "Epoch 10/100\n",
      "225/225 [==============================] - 0s 2ms/step - loss: 0.3680 - accuracy: 0.8351 - val_loss: 0.4169 - val_accuracy: 0.8263\n",
      "Epoch 11/100\n",
      "225/225 [==============================] - 1s 2ms/step - loss: 0.3689 - accuracy: 0.8358 - val_loss: 0.4168 - val_accuracy: 0.8225\n",
      "Epoch 12/100\n",
      "225/225 [==============================] - 1s 2ms/step - loss: 2.3197 - accuracy: 0.7344 - val_loss: 11.7038 - val_accuracy: 0.2325\n",
      "Epoch 13/100\n",
      "225/225 [==============================] - 1s 2ms/step - loss: 11.6911 - accuracy: 0.2333 - val_loss: 11.7038 - val_accuracy: 0.2325\n",
      "Epoch 14/100\n",
      "225/225 [==============================] - 1s 2ms/step - loss: 11.6911 - accuracy: 0.2333 - val_loss: 11.7038 - val_accuracy: 0.2325\n",
      "Epoch 15/100\n",
      "225/225 [==============================] - 1s 2ms/step - loss: 11.6911 - accuracy: 0.2333 - val_loss: 11.7038 - val_accuracy: 0.2325\n",
      "Epoch 16/100\n",
      "225/225 [==============================] - 0s 2ms/step - loss: 11.6911 - accuracy: 0.2333 - val_loss: 11.7038 - val_accuracy: 0.2325\n",
      "Epoch 17/100\n",
      "225/225 [==============================] - 1s 2ms/step - loss: 11.6911 - accuracy: 0.2333 - val_loss: 11.7038 - val_accuracy: 0.2325\n",
      "Epoch 18/100\n",
      "225/225 [==============================] - 0s 2ms/step - loss: 11.6911 - accuracy: 0.2333 - val_loss: 11.7038 - val_accuracy: 0.2325\n",
      "Epoch 19/100\n",
      "225/225 [==============================] - 1s 3ms/step - loss: 11.6911 - accuracy: 0.2333 - val_loss: 11.7038 - val_accuracy: 0.2325\n",
      "Epoch 20/100\n",
      "225/225 [==============================] - 0s 2ms/step - loss: 11.6911 - accuracy: 0.2333 - val_loss: 11.7038 - val_accuracy: 0.2325\n",
      "Epoch 21/100\n",
      "225/225 [==============================] - 1s 2ms/step - loss: 11.6911 - accuracy: 0.2333 - val_loss: 11.7038 - val_accuracy: 0.2325\n",
      "Epoch 22/100\n",
      "225/225 [==============================] - 0s 2ms/step - loss: 11.6911 - accuracy: 0.2333 - val_loss: 11.7038 - val_accuracy: 0.2325\n",
      "Epoch 23/100\n",
      "225/225 [==============================] - 1s 2ms/step - loss: 11.6911 - accuracy: 0.2333 - val_loss: 11.7038 - val_accuracy: 0.2325\n",
      "Epoch 24/100\n",
      "225/225 [==============================] - 0s 2ms/step - loss: 11.6911 - accuracy: 0.2333 - val_loss: 11.7038 - val_accuracy: 0.2325\n",
      "Epoch 25/100\n",
      "225/225 [==============================] - 0s 2ms/step - loss: 11.6911 - accuracy: 0.2333 - val_loss: 11.7038 - val_accuracy: 0.2325\n",
      "Epoch 26/100\n",
      "225/225 [==============================] - 0s 2ms/step - loss: 11.6911 - accuracy: 0.2333 - val_loss: 11.7038 - val_accuracy: 0.2325\n",
      "Epoch 27/100\n",
      "225/225 [==============================] - 0s 2ms/step - loss: 11.6911 - accuracy: 0.2333 - val_loss: 11.7038 - val_accuracy: 0.2325\n",
      "Epoch 28/100\n",
      "225/225 [==============================] - 0s 2ms/step - loss: 11.6911 - accuracy: 0.2333 - val_loss: 11.7038 - val_accuracy: 0.2325\n",
      "Epoch 28: early stopping\n",
      "125/125 [==============================] - 0s 2ms/step - loss: 11.7190 - accuracy: 0.2315\n",
      "[CV] END .activation_function=relu, n_hidden=5, n_neurons=34; total time=  16.0s\n",
      "Epoch 1/100\n"
     ]
    },
    {
     "output_type": "stream",
     "name": "stderr",
     "text": [
      "/usr/local/lib/python3.7/dist-packages/keras/optimizer_v2/gradient_descent.py:102: UserWarning: The `lr` argument is deprecated, use `learning_rate` instead.\n",
      "  super(SGD, self).__init__(name, **kwargs)\n"
     ]
    },
    {
     "output_type": "stream",
     "name": "stdout",
     "text": [
      "225/225 [==============================] - 1s 3ms/step - loss: 0.4975 - accuracy: 0.7742 - val_loss: 0.4491 - val_accuracy: 0.7912\n",
      "Epoch 2/100\n",
      "225/225 [==============================] - 1s 2ms/step - loss: 0.4357 - accuracy: 0.8206 - val_loss: 0.4179 - val_accuracy: 0.8188\n",
      "Epoch 3/100\n",
      "225/225 [==============================] - 1s 2ms/step - loss: 0.4082 - accuracy: 0.8325 - val_loss: 0.4089 - val_accuracy: 0.8188\n",
      "Epoch 4/100\n",
      "225/225 [==============================] - 1s 2ms/step - loss: 0.4031 - accuracy: 0.8361 - val_loss: 0.4082 - val_accuracy: 0.8238\n",
      "Epoch 5/100\n",
      "225/225 [==============================] - 1s 2ms/step - loss: 0.3948 - accuracy: 0.8397 - val_loss: 0.4217 - val_accuracy: 0.8175\n",
      "Epoch 6/100\n",
      "225/225 [==============================] - 0s 2ms/step - loss: 0.3935 - accuracy: 0.8399 - val_loss: 0.4004 - val_accuracy: 0.8250\n",
      "Epoch 7/100\n",
      "225/225 [==============================] - 0s 2ms/step - loss: 0.3856 - accuracy: 0.8408 - val_loss: 0.4116 - val_accuracy: 0.8175\n",
      "Epoch 8/100\n",
      "225/225 [==============================] - 0s 2ms/step - loss: 0.3794 - accuracy: 0.8431 - val_loss: 0.4086 - val_accuracy: 0.8200\n",
      "Epoch 9/100\n",
      "225/225 [==============================] - 1s 2ms/step - loss: 0.3788 - accuracy: 0.8417 - val_loss: 0.4071 - val_accuracy: 0.8200\n",
      "Epoch 10/100\n",
      "225/225 [==============================] - 0s 2ms/step - loss: 0.3738 - accuracy: 0.8436 - val_loss: 0.4048 - val_accuracy: 0.8213\n",
      "Epoch 11/100\n",
      "225/225 [==============================] - 0s 2ms/step - loss: 0.3716 - accuracy: 0.8433 - val_loss: 0.4039 - val_accuracy: 0.8225\n",
      "Epoch 12/100\n",
      "225/225 [==============================] - 1s 2ms/step - loss: 0.3709 - accuracy: 0.8435 - val_loss: 0.4038 - val_accuracy: 0.8213\n",
      "Epoch 13/100\n",
      "225/225 [==============================] - 1s 2ms/step - loss: 0.3724 - accuracy: 0.8435 - val_loss: 0.4065 - val_accuracy: 0.8300\n",
      "Epoch 14/100\n",
      "225/225 [==============================] - 1s 2ms/step - loss: 0.3681 - accuracy: 0.8454 - val_loss: 0.4035 - val_accuracy: 0.8250\n",
      "Epoch 15/100\n",
      "225/225 [==============================] - 0s 2ms/step - loss: 0.3639 - accuracy: 0.8451 - val_loss: 0.4028 - val_accuracy: 0.8275\n",
      "Epoch 16/100\n",
      "225/225 [==============================] - 1s 2ms/step - loss: 0.3657 - accuracy: 0.8471 - val_loss: 0.4021 - val_accuracy: 0.8250\n",
      "Epoch 17/100\n",
      "225/225 [==============================] - 0s 2ms/step - loss: 0.3599 - accuracy: 0.8482 - val_loss: 0.4053 - val_accuracy: 0.8200\n",
      "Epoch 18/100\n",
      "225/225 [==============================] - 0s 2ms/step - loss: 0.3607 - accuracy: 0.8483 - val_loss: 0.3991 - val_accuracy: 0.8238\n",
      "Epoch 19/100\n",
      "225/225 [==============================] - 1s 2ms/step - loss: 0.3580 - accuracy: 0.8487 - val_loss: 0.4176 - val_accuracy: 0.8288\n",
      "Epoch 20/100\n",
      "225/225 [==============================] - 1s 2ms/step - loss: 0.3597 - accuracy: 0.8474 - val_loss: 0.4258 - val_accuracy: 0.8263\n",
      "Epoch 21/100\n",
      "225/225 [==============================] - 1s 2ms/step - loss: 0.3567 - accuracy: 0.8474 - val_loss: 0.4031 - val_accuracy: 0.8213\n",
      "Epoch 22/100\n",
      "225/225 [==============================] - 1s 2ms/step - loss: 0.3562 - accuracy: 0.8485 - val_loss: 0.3978 - val_accuracy: 0.8300\n",
      "Epoch 23/100\n",
      "225/225 [==============================] - 0s 2ms/step - loss: 0.3563 - accuracy: 0.8475 - val_loss: 0.4000 - val_accuracy: 0.8288\n",
      "Epoch 24/100\n",
      "225/225 [==============================] - 0s 2ms/step - loss: 0.3514 - accuracy: 0.8487 - val_loss: 0.4027 - val_accuracy: 0.8325\n",
      "Epoch 25/100\n",
      "225/225 [==============================] - 1s 2ms/step - loss: 0.3515 - accuracy: 0.8494 - val_loss: 0.4280 - val_accuracy: 0.8313\n",
      "Epoch 26/100\n",
      "225/225 [==============================] - 0s 2ms/step - loss: 0.3492 - accuracy: 0.8500 - val_loss: 0.4314 - val_accuracy: 0.8313\n",
      "Epoch 27/100\n",
      "225/225 [==============================] - 1s 2ms/step - loss: 0.3553 - accuracy: 0.8496 - val_loss: 0.4009 - val_accuracy: 0.8300\n",
      "Epoch 28/100\n",
      "225/225 [==============================] - 1s 2ms/step - loss: 0.3455 - accuracy: 0.8496 - val_loss: 0.4026 - val_accuracy: 0.8300\n",
      "Epoch 29/100\n",
      "225/225 [==============================] - 0s 2ms/step - loss: 0.3448 - accuracy: 0.8515 - val_loss: 0.4277 - val_accuracy: 0.8288\n",
      "Epoch 30/100\n",
      "225/225 [==============================] - 1s 2ms/step - loss: 0.3742 - accuracy: 0.8469 - val_loss: 0.4165 - val_accuracy: 0.8338\n",
      "Epoch 31/100\n",
      "225/225 [==============================] - 1s 2ms/step - loss: 0.3988 - accuracy: 0.8451 - val_loss: 0.4206 - val_accuracy: 0.8338\n",
      "Epoch 32/100\n",
      "225/225 [==============================] - 1s 2ms/step - loss: 0.3540 - accuracy: 0.8514 - val_loss: 0.4379 - val_accuracy: 0.8250\n",
      "Epoch 33/100\n",
      "225/225 [==============================] - 1s 2ms/step - loss: 0.3515 - accuracy: 0.8512 - val_loss: 0.4382 - val_accuracy: 0.8288\n",
      "Epoch 34/100\n",
      "225/225 [==============================] - 1s 2ms/step - loss: 0.3477 - accuracy: 0.8489 - val_loss: 0.4292 - val_accuracy: 0.8338\n",
      "Epoch 35/100\n",
      "225/225 [==============================] - 1s 2ms/step - loss: 0.5237 - accuracy: 0.8268 - val_loss: 0.4054 - val_accuracy: 0.8300\n",
      "Epoch 36/100\n",
      "225/225 [==============================] - 1s 2ms/step - loss: 0.3563 - accuracy: 0.8531 - val_loss: 0.4489 - val_accuracy: 0.8325\n",
      "Epoch 37/100\n",
      "225/225 [==============================] - 0s 2ms/step - loss: 0.3528 - accuracy: 0.8494 - val_loss: 0.4145 - val_accuracy: 0.8275\n",
      "Epoch 38/100\n",
      "225/225 [==============================] - 1s 2ms/step - loss: 0.3460 - accuracy: 0.8511 - val_loss: 0.4291 - val_accuracy: 0.8300\n",
      "Epoch 39/100\n",
      "225/225 [==============================] - 1s 2ms/step - loss: 0.3462 - accuracy: 0.8507 - val_loss: 0.4167 - val_accuracy: 0.8288\n",
      "Epoch 40/100\n",
      "225/225 [==============================] - 1s 2ms/step - loss: 0.3404 - accuracy: 0.8518 - val_loss: 0.4747 - val_accuracy: 0.8325\n",
      "Epoch 41/100\n",
      "225/225 [==============================] - 0s 2ms/step - loss: 0.3425 - accuracy: 0.8533 - val_loss: 0.4314 - val_accuracy: 0.8300\n",
      "Epoch 42/100\n",
      "225/225 [==============================] - 1s 2ms/step - loss: 0.3378 - accuracy: 0.8533 - val_loss: 0.4645 - val_accuracy: 0.8325\n",
      "Epoch 42: early stopping\n",
      "125/125 [==============================] - 0s 2ms/step - loss: 0.4175 - accuracy: 0.8485\n",
      "[CV] END .activation_function=relu, n_hidden=5, n_neurons=34; total time=  22.8s\n",
      "Epoch 1/100\n"
     ]
    },
    {
     "output_type": "stream",
     "name": "stderr",
     "text": [
      "/usr/local/lib/python3.7/dist-packages/keras/optimizer_v2/gradient_descent.py:102: UserWarning: The `lr` argument is deprecated, use `learning_rate` instead.\n",
      "  super(SGD, self).__init__(name, **kwargs)\n"
     ]
    },
    {
     "output_type": "stream",
     "name": "stdout",
     "text": [
      "225/225 [==============================] - 1s 3ms/step - loss: 0.5575 - accuracy: 0.7942 - val_loss: 0.4051 - val_accuracy: 0.8213\n",
      "Epoch 2/100\n",
      "225/225 [==============================] - 0s 2ms/step - loss: 0.4348 - accuracy: 0.8172 - val_loss: 0.3883 - val_accuracy: 0.8288\n",
      "Epoch 3/100\n",
      "225/225 [==============================] - 0s 2ms/step - loss: 0.4292 - accuracy: 0.8176 - val_loss: 0.3891 - val_accuracy: 0.8313\n",
      "Epoch 4/100\n",
      "225/225 [==============================] - 1s 2ms/step - loss: 2.8218 - accuracy: 0.7829 - val_loss: 3.3549 - val_accuracy: 0.7825\n",
      "Epoch 5/100\n",
      "225/225 [==============================] - 1s 3ms/step - loss: 3.5713 - accuracy: 0.7685 - val_loss: 3.3549 - val_accuracy: 0.7825\n",
      "Epoch 6/100\n",
      "225/225 [==============================] - 0s 2ms/step - loss: 3.5713 - accuracy: 0.7685 - val_loss: 3.3549 - val_accuracy: 0.7825\n",
      "Epoch 7/100\n",
      "225/225 [==============================] - 0s 2ms/step - loss: 3.5713 - accuracy: 0.7685 - val_loss: 3.3549 - val_accuracy: 0.7825\n",
      "Epoch 8/100\n",
      "225/225 [==============================] - 1s 2ms/step - loss: 3.5713 - accuracy: 0.7685 - val_loss: 3.3549 - val_accuracy: 0.7825\n",
      "Epoch 9/100\n",
      "225/225 [==============================] - 0s 2ms/step - loss: 3.5713 - accuracy: 0.7685 - val_loss: 3.3549 - val_accuracy: 0.7825\n",
      "Epoch 10/100\n",
      "225/225 [==============================] - 1s 2ms/step - loss: 3.5713 - accuracy: 0.7685 - val_loss: 3.3549 - val_accuracy: 0.7825\n",
      "Epoch 11/100\n",
      "225/225 [==============================] - 1s 2ms/step - loss: 3.5713 - accuracy: 0.7685 - val_loss: 3.3549 - val_accuracy: 0.7825\n",
      "Epoch 12/100\n",
      "225/225 [==============================] - 0s 2ms/step - loss: 3.5713 - accuracy: 0.7685 - val_loss: 3.3549 - val_accuracy: 0.7825\n",
      "Epoch 13/100\n",
      "225/225 [==============================] - 0s 2ms/step - loss: 3.5713 - accuracy: 0.7685 - val_loss: 3.3549 - val_accuracy: 0.7825\n",
      "Epoch 14/100\n",
      "225/225 [==============================] - 0s 2ms/step - loss: 3.5713 - accuracy: 0.7685 - val_loss: 3.3549 - val_accuracy: 0.7825\n",
      "Epoch 15/100\n",
      "225/225 [==============================] - 0s 2ms/step - loss: 3.5713 - accuracy: 0.7685 - val_loss: 3.3549 - val_accuracy: 0.7825\n",
      "Epoch 16/100\n",
      "225/225 [==============================] - 1s 2ms/step - loss: 3.5713 - accuracy: 0.7685 - val_loss: 3.3549 - val_accuracy: 0.7825\n",
      "Epoch 17/100\n",
      "225/225 [==============================] - 0s 2ms/step - loss: 3.5713 - accuracy: 0.7685 - val_loss: 3.3549 - val_accuracy: 0.7825\n",
      "Epoch 18/100\n",
      "225/225 [==============================] - 1s 2ms/step - loss: 3.5713 - accuracy: 0.7685 - val_loss: 3.3549 - val_accuracy: 0.7825\n",
      "Epoch 19/100\n",
      "225/225 [==============================] - 0s 2ms/step - loss: 3.5713 - accuracy: 0.7685 - val_loss: 3.3549 - val_accuracy: 0.7825\n",
      "Epoch 20/100\n",
      "225/225 [==============================] - 0s 2ms/step - loss: 3.5713 - accuracy: 0.7685 - val_loss: 3.3549 - val_accuracy: 0.7825\n",
      "Epoch 21/100\n",
      "225/225 [==============================] - 1s 2ms/step - loss: 3.5713 - accuracy: 0.7685 - val_loss: 3.3549 - val_accuracy: 0.7825\n",
      "Epoch 22/100\n",
      "225/225 [==============================] - 0s 2ms/step - loss: 3.5713 - accuracy: 0.7685 - val_loss: 3.3549 - val_accuracy: 0.7825\n",
      "Epoch 22: early stopping\n",
      "125/125 [==============================] - 0s 2ms/step - loss: 3.6673 - accuracy: 0.7623\n",
      "[CV] END .activation_function=relu, n_hidden=5, n_neurons=34; total time=  21.3s\n",
      "Epoch 1/100\n"
     ]
    },
    {
     "output_type": "stream",
     "name": "stderr",
     "text": [
      "/usr/local/lib/python3.7/dist-packages/keras/optimizer_v2/gradient_descent.py:102: UserWarning: The `lr` argument is deprecated, use `learning_rate` instead.\n",
      "  super(SGD, self).__init__(name, **kwargs)\n"
     ]
    },
    {
     "output_type": "stream",
     "name": "stdout",
     "text": [
      "225/225 [==============================] - 1s 3ms/step - loss: 0.6945 - accuracy: 0.8000 - val_loss: 0.5477 - val_accuracy: 0.8050\n",
      "Epoch 2/100\n",
      "225/225 [==============================] - 0s 2ms/step - loss: 0.4916 - accuracy: 0.8264 - val_loss: 0.5921 - val_accuracy: 0.8163\n",
      "Epoch 3/100\n",
      "225/225 [==============================] - 0s 2ms/step - loss: 0.5184 - accuracy: 0.8211 - val_loss: 0.5433 - val_accuracy: 0.8062\n",
      "Epoch 4/100\n",
      "225/225 [==============================] - 0s 2ms/step - loss: 0.4674 - accuracy: 0.8265 - val_loss: 0.5127 - val_accuracy: 0.8087\n",
      "Epoch 5/100\n",
      "225/225 [==============================] - 0s 2ms/step - loss: 0.4208 - accuracy: 0.8401 - val_loss: 0.5254 - val_accuracy: 0.8175\n",
      "Epoch 6/100\n",
      "225/225 [==============================] - 0s 2ms/step - loss: 0.4474 - accuracy: 0.8329 - val_loss: 0.5426 - val_accuracy: 0.8163\n",
      "Epoch 7/100\n",
      "225/225 [==============================] - 0s 2ms/step - loss: 0.4199 - accuracy: 0.8433 - val_loss: 0.4626 - val_accuracy: 0.8163\n",
      "Epoch 8/100\n",
      "225/225 [==============================] - 0s 2ms/step - loss: 0.4004 - accuracy: 0.8456 - val_loss: 0.4657 - val_accuracy: 0.8238\n",
      "Epoch 9/100\n",
      "225/225 [==============================] - 1s 3ms/step - loss: 0.3924 - accuracy: 0.8451 - val_loss: 0.4627 - val_accuracy: 0.8175\n",
      "Epoch 10/100\n",
      "225/225 [==============================] - 1s 3ms/step - loss: 0.3881 - accuracy: 0.8461 - val_loss: 0.5043 - val_accuracy: 0.8188\n",
      "Epoch 11/100\n",
      "225/225 [==============================] - 1s 4ms/step - loss: 0.3903 - accuracy: 0.8447 - val_loss: 0.4587 - val_accuracy: 0.8238\n",
      "Epoch 12/100\n",
      "225/225 [==============================] - 2s 7ms/step - loss: 0.3822 - accuracy: 0.8475 - val_loss: 0.4841 - val_accuracy: 0.8250\n",
      "Epoch 13/100\n",
      "225/225 [==============================] - 1s 4ms/step - loss: 0.3780 - accuracy: 0.8503 - val_loss: 0.4989 - val_accuracy: 0.8275\n",
      "Epoch 14/100\n",
      "225/225 [==============================] - 1s 2ms/step - loss: 0.3742 - accuracy: 0.8522 - val_loss: 0.5076 - val_accuracy: 0.8200\n",
      "Epoch 15/100\n",
      "225/225 [==============================] - 1s 2ms/step - loss: 0.3869 - accuracy: 0.8511 - val_loss: 1.8298 - val_accuracy: 0.7713\n",
      "Epoch 16/100\n",
      "225/225 [==============================] - 0s 2ms/step - loss: 0.4068 - accuracy: 0.8429 - val_loss: 0.4904 - val_accuracy: 0.8225\n",
      "Epoch 17/100\n",
      "225/225 [==============================] - 0s 2ms/step - loss: 0.3685 - accuracy: 0.8524 - val_loss: 0.5293 - val_accuracy: 0.8238\n",
      "Epoch 18/100\n",
      "225/225 [==============================] - 0s 2ms/step - loss: 0.3658 - accuracy: 0.8535 - val_loss: 0.5025 - val_accuracy: 0.8225\n",
      "Epoch 19/100\n",
      "225/225 [==============================] - 0s 2ms/step - loss: 0.3689 - accuracy: 0.8532 - val_loss: 0.4929 - val_accuracy: 0.8313\n",
      "Epoch 20/100\n",
      "225/225 [==============================] - 0s 2ms/step - loss: 0.3650 - accuracy: 0.8533 - val_loss: 0.5275 - val_accuracy: 0.8213\n",
      "Epoch 21/100\n",
      "225/225 [==============================] - 0s 2ms/step - loss: 0.3604 - accuracy: 0.8568 - val_loss: 0.5119 - val_accuracy: 0.8300\n",
      "Epoch 22/100\n",
      "225/225 [==============================] - 1s 2ms/step - loss: 0.3583 - accuracy: 0.8557 - val_loss: 0.5140 - val_accuracy: 0.8263\n",
      "Epoch 23/100\n",
      "225/225 [==============================] - 1s 2ms/step - loss: 0.3565 - accuracy: 0.8565 - val_loss: 0.5344 - val_accuracy: 0.8300\n",
      "Epoch 24/100\n",
      "225/225 [==============================] - 1s 2ms/step - loss: 0.3546 - accuracy: 0.8564 - val_loss: 0.5517 - val_accuracy: 0.8288\n",
      "Epoch 25/100\n",
      "225/225 [==============================] - 1s 2ms/step - loss: 0.3530 - accuracy: 0.8585 - val_loss: 0.5647 - val_accuracy: 0.8313\n",
      "Epoch 26/100\n",
      "225/225 [==============================] - 0s 2ms/step - loss: 0.3517 - accuracy: 0.8579 - val_loss: 0.6231 - val_accuracy: 0.8325\n",
      "Epoch 27/100\n",
      "225/225 [==============================] - 1s 2ms/step - loss: 0.3503 - accuracy: 0.8590 - val_loss: 0.5833 - val_accuracy: 0.8325\n",
      "Epoch 28/100\n",
      "225/225 [==============================] - 0s 2ms/step - loss: 0.3488 - accuracy: 0.8599 - val_loss: 0.5806 - val_accuracy: 0.8338\n",
      "Epoch 29/100\n",
      "225/225 [==============================] - 0s 2ms/step - loss: 0.3474 - accuracy: 0.8596 - val_loss: 0.6122 - val_accuracy: 0.8300\n",
      "Epoch 30/100\n",
      "225/225 [==============================] - 1s 2ms/step - loss: 0.3457 - accuracy: 0.8607 - val_loss: 0.6353 - val_accuracy: 0.8338\n",
      "Epoch 31/100\n",
      "225/225 [==============================] - 0s 2ms/step - loss: 0.3444 - accuracy: 0.8610 - val_loss: 0.6101 - val_accuracy: 0.8325\n",
      "Epoch 31: early stopping\n",
      "125/125 [==============================] - 0s 2ms/step - loss: 0.4780 - accuracy: 0.8475\n",
      "[CV] END .activation_function=relu, n_hidden=2, n_neurons=88; total time=  18.7s\n",
      "Epoch 1/100\n"
     ]
    },
    {
     "output_type": "stream",
     "name": "stderr",
     "text": [
      "/usr/local/lib/python3.7/dist-packages/keras/optimizer_v2/gradient_descent.py:102: UserWarning: The `lr` argument is deprecated, use `learning_rate` instead.\n",
      "  super(SGD, self).__init__(name, **kwargs)\n"
     ]
    },
    {
     "output_type": "stream",
     "name": "stdout",
     "text": [
      "225/225 [==============================] - 1s 3ms/step - loss: 2.2633 - accuracy: 0.7421 - val_loss: 0.7010 - val_accuracy: 0.7975\n",
      "Epoch 2/100\n",
      "225/225 [==============================] - 1s 2ms/step - loss: 0.9224 - accuracy: 0.7576 - val_loss: 0.6426 - val_accuracy: 0.8175\n",
      "Epoch 3/100\n",
      "225/225 [==============================] - 1s 2ms/step - loss: 0.5234 - accuracy: 0.8147 - val_loss: 0.6052 - val_accuracy: 0.8012\n",
      "Epoch 4/100\n",
      "225/225 [==============================] - 1s 2ms/step - loss: 0.5303 - accuracy: 0.8232 - val_loss: 0.5991 - val_accuracy: 0.8163\n",
      "Epoch 5/100\n",
      "225/225 [==============================] - 1s 2ms/step - loss: 0.6333 - accuracy: 0.7857 - val_loss: 0.5566 - val_accuracy: 0.8150\n",
      "Epoch 6/100\n",
      "225/225 [==============================] - 0s 2ms/step - loss: 0.4520 - accuracy: 0.8188 - val_loss: 0.4867 - val_accuracy: 0.8263\n",
      "Epoch 7/100\n",
      "225/225 [==============================] - 0s 2ms/step - loss: 0.4196 - accuracy: 0.8388 - val_loss: 0.4575 - val_accuracy: 0.8325\n",
      "Epoch 8/100\n",
      "225/225 [==============================] - 0s 2ms/step - loss: 0.4035 - accuracy: 0.8424 - val_loss: 0.4770 - val_accuracy: 0.8388\n",
      "Epoch 9/100\n",
      "225/225 [==============================] - 1s 2ms/step - loss: 0.4104 - accuracy: 0.8414 - val_loss: 0.4654 - val_accuracy: 0.8400\n",
      "Epoch 10/100\n",
      "225/225 [==============================] - 0s 2ms/step - loss: 1.7649 - accuracy: 0.7460 - val_loss: 2.5335 - val_accuracy: 0.6650\n",
      "Epoch 11/100\n",
      "225/225 [==============================] - 1s 3ms/step - loss: 0.7925 - accuracy: 0.7969 - val_loss: 0.5080 - val_accuracy: 0.8188\n",
      "Epoch 12/100\n",
      "225/225 [==============================] - 1s 2ms/step - loss: 0.4267 - accuracy: 0.8351 - val_loss: 0.4986 - val_accuracy: 0.8213\n",
      "Epoch 13/100\n",
      "225/225 [==============================] - 1s 2ms/step - loss: 0.4449 - accuracy: 0.8288 - val_loss: 0.4694 - val_accuracy: 0.8325\n",
      "Epoch 14/100\n",
      "225/225 [==============================] - 1s 2ms/step - loss: 0.4125 - accuracy: 0.8393 - val_loss: 0.4690 - val_accuracy: 0.8363\n",
      "Epoch 15/100\n",
      "225/225 [==============================] - 1s 2ms/step - loss: 0.3847 - accuracy: 0.8435 - val_loss: 0.4866 - val_accuracy: 0.8350\n",
      "Epoch 16/100\n",
      "225/225 [==============================] - 1s 2ms/step - loss: 0.3776 - accuracy: 0.8417 - val_loss: 0.4752 - val_accuracy: 0.8350\n",
      "Epoch 17/100\n",
      "225/225 [==============================] - 1s 2ms/step - loss: 0.3683 - accuracy: 0.8444 - val_loss: 0.5047 - val_accuracy: 0.8338\n",
      "Epoch 18/100\n",
      "225/225 [==============================] - 0s 2ms/step - loss: 0.3648 - accuracy: 0.8472 - val_loss: 0.5091 - val_accuracy: 0.8375\n",
      "Epoch 19/100\n",
      "225/225 [==============================] - 0s 2ms/step - loss: 0.3603 - accuracy: 0.8472 - val_loss: 0.5084 - val_accuracy: 0.8413\n",
      "Epoch 20/100\n",
      "225/225 [==============================] - 0s 2ms/step - loss: 0.3604 - accuracy: 0.8471 - val_loss: 0.5215 - val_accuracy: 0.8388\n",
      "Epoch 21/100\n",
      "225/225 [==============================] - 0s 2ms/step - loss: 0.3560 - accuracy: 0.8493 - val_loss: 0.5092 - val_accuracy: 0.8338\n",
      "Epoch 22/100\n",
      "225/225 [==============================] - 0s 2ms/step - loss: 0.3520 - accuracy: 0.8500 - val_loss: 0.5065 - val_accuracy: 0.8425\n",
      "Epoch 23/100\n",
      "225/225 [==============================] - 1s 2ms/step - loss: 0.3509 - accuracy: 0.8515 - val_loss: 0.5252 - val_accuracy: 0.8400\n",
      "Epoch 24/100\n",
      "225/225 [==============================] - 0s 2ms/step - loss: 0.3478 - accuracy: 0.8521 - val_loss: 0.5232 - val_accuracy: 0.8425\n",
      "Epoch 25/100\n",
      "225/225 [==============================] - 1s 2ms/step - loss: 0.3453 - accuracy: 0.8526 - val_loss: 0.5242 - val_accuracy: 0.8413\n",
      "Epoch 26/100\n",
      "225/225 [==============================] - 0s 2ms/step - loss: 0.3439 - accuracy: 0.8529 - val_loss: 0.5232 - val_accuracy: 0.8400\n",
      "Epoch 27/100\n",
      "225/225 [==============================] - 1s 2ms/step - loss: 0.3418 - accuracy: 0.8542 - val_loss: 0.5218 - val_accuracy: 0.8388\n",
      "Epoch 27: early stopping\n",
      "125/125 [==============================] - 0s 2ms/step - loss: 0.4519 - accuracy: 0.8475\n",
      "[CV] END .activation_function=relu, n_hidden=2, n_neurons=88; total time=  21.3s\n",
      "Epoch 1/100\n"
     ]
    },
    {
     "output_type": "stream",
     "name": "stderr",
     "text": [
      "/usr/local/lib/python3.7/dist-packages/keras/optimizer_v2/gradient_descent.py:102: UserWarning: The `lr` argument is deprecated, use `learning_rate` instead.\n",
      "  super(SGD, self).__init__(name, **kwargs)\n"
     ]
    },
    {
     "output_type": "stream",
     "name": "stdout",
     "text": [
      "225/225 [==============================] - 1s 3ms/step - loss: 0.5800 - accuracy: 0.7939 - val_loss: 0.4993 - val_accuracy: 0.8150\n",
      "Epoch 2/100\n",
      "225/225 [==============================] - 0s 2ms/step - loss: 0.4560 - accuracy: 0.8215 - val_loss: 0.4256 - val_accuracy: 0.8300\n",
      "Epoch 3/100\n",
      "225/225 [==============================] - 0s 2ms/step - loss: 0.5230 - accuracy: 0.8047 - val_loss: 0.3757 - val_accuracy: 0.8263\n",
      "Epoch 4/100\n",
      "225/225 [==============================] - 1s 2ms/step - loss: 0.4184 - accuracy: 0.8351 - val_loss: 0.3679 - val_accuracy: 0.8375\n",
      "Epoch 5/100\n",
      "225/225 [==============================] - 1s 2ms/step - loss: 0.3968 - accuracy: 0.8400 - val_loss: 0.4007 - val_accuracy: 0.8313\n",
      "Epoch 6/100\n",
      "225/225 [==============================] - 0s 2ms/step - loss: 7.5997 - accuracy: 0.4457 - val_loss: 11.9325 - val_accuracy: 0.2175\n",
      "Epoch 7/100\n",
      "225/225 [==============================] - 0s 2ms/step - loss: 11.7186 - accuracy: 0.2315 - val_loss: 11.9325 - val_accuracy: 0.2175\n",
      "Epoch 8/100\n",
      "225/225 [==============================] - 0s 2ms/step - loss: 11.7186 - accuracy: 0.2315 - val_loss: 11.9325 - val_accuracy: 0.2175\n",
      "Epoch 9/100\n",
      "225/225 [==============================] - 0s 2ms/step - loss: 11.7186 - accuracy: 0.2315 - val_loss: 11.9325 - val_accuracy: 0.2175\n",
      "Epoch 10/100\n",
      "225/225 [==============================] - 1s 2ms/step - loss: 11.7186 - accuracy: 0.2315 - val_loss: 11.9325 - val_accuracy: 0.2175\n",
      "Epoch 11/100\n",
      "225/225 [==============================] - 0s 2ms/step - loss: 11.7186 - accuracy: 0.2315 - val_loss: 11.9325 - val_accuracy: 0.2175\n",
      "Epoch 12/100\n",
      "225/225 [==============================] - 0s 2ms/step - loss: 11.7186 - accuracy: 0.2315 - val_loss: 11.9325 - val_accuracy: 0.2175\n",
      "Epoch 13/100\n",
      "225/225 [==============================] - 0s 2ms/step - loss: 11.7186 - accuracy: 0.2315 - val_loss: 11.9325 - val_accuracy: 0.2175\n",
      "Epoch 14/100\n",
      "225/225 [==============================] - 0s 2ms/step - loss: 11.7186 - accuracy: 0.2315 - val_loss: 11.9325 - val_accuracy: 0.2175\n",
      "Epoch 15/100\n",
      "225/225 [==============================] - 0s 2ms/step - loss: 11.7186 - accuracy: 0.2315 - val_loss: 11.9325 - val_accuracy: 0.2175\n",
      "Epoch 16/100\n",
      "225/225 [==============================] - 0s 2ms/step - loss: 11.7186 - accuracy: 0.2315 - val_loss: 11.9325 - val_accuracy: 0.2175\n",
      "Epoch 17/100\n",
      "225/225 [==============================] - 1s 2ms/step - loss: 11.7186 - accuracy: 0.2315 - val_loss: 11.9325 - val_accuracy: 0.2175\n",
      "Epoch 18/100\n",
      "225/225 [==============================] - 1s 2ms/step - loss: 11.7186 - accuracy: 0.2315 - val_loss: 11.9325 - val_accuracy: 0.2175\n",
      "Epoch 19/100\n",
      "225/225 [==============================] - 0s 2ms/step - loss: 11.7186 - accuracy: 0.2315 - val_loss: 11.9325 - val_accuracy: 0.2175\n",
      "Epoch 20/100\n",
      "225/225 [==============================] - 0s 2ms/step - loss: 11.7186 - accuracy: 0.2315 - val_loss: 11.9325 - val_accuracy: 0.2175\n",
      "Epoch 21/100\n",
      "225/225 [==============================] - 1s 2ms/step - loss: 11.7186 - accuracy: 0.2315 - val_loss: 11.9325 - val_accuracy: 0.2175\n",
      "Epoch 22/100\n",
      "225/225 [==============================] - 1s 2ms/step - loss: 11.7186 - accuracy: 0.2315 - val_loss: 11.9325 - val_accuracy: 0.2175\n",
      "Epoch 23/100\n",
      "225/225 [==============================] - 1s 2ms/step - loss: 11.7186 - accuracy: 0.2315 - val_loss: 11.9325 - val_accuracy: 0.2175\n",
      "Epoch 24/100\n",
      "225/225 [==============================] - 0s 2ms/step - loss: 11.7186 - accuracy: 0.2315 - val_loss: 11.9325 - val_accuracy: 0.2175\n",
      "Epoch 24: early stopping\n",
      "125/125 [==============================] - 0s 2ms/step - loss: 11.6237 - accuracy: 0.2377\n",
      "[CV] END .activation_function=relu, n_hidden=2, n_neurons=88; total time=  13.0s\n",
      "Epoch 1/100\n"
     ]
    },
    {
     "output_type": "stream",
     "name": "stderr",
     "text": [
      "/usr/local/lib/python3.7/dist-packages/keras/optimizer_v2/gradient_descent.py:102: UserWarning: The `lr` argument is deprecated, use `learning_rate` instead.\n",
      "  super(SGD, self).__init__(name, **kwargs)\n"
     ]
    },
    {
     "output_type": "stream",
     "name": "stdout",
     "text": [
      "225/225 [==============================] - 1s 3ms/step - loss: 3.5992 - accuracy: 0.7667 - val_loss: 3.5863 - val_accuracy: 0.7675\n",
      "Epoch 2/100\n",
      "225/225 [==============================] - 0s 2ms/step - loss: 3.5992 - accuracy: 0.7667 - val_loss: 3.5863 - val_accuracy: 0.7675\n",
      "Epoch 3/100\n",
      "225/225 [==============================] - 1s 2ms/step - loss: 3.5992 - accuracy: 0.7667 - val_loss: 3.5863 - val_accuracy: 0.7675\n",
      "Epoch 4/100\n",
      "225/225 [==============================] - 1s 2ms/step - loss: 3.5992 - accuracy: 0.7667 - val_loss: 3.5863 - val_accuracy: 0.7675\n",
      "Epoch 5/100\n",
      "225/225 [==============================] - 1s 2ms/step - loss: 3.5992 - accuracy: 0.7667 - val_loss: 3.5863 - val_accuracy: 0.7675\n",
      "Epoch 6/100\n",
      "225/225 [==============================] - 1s 2ms/step - loss: 3.5992 - accuracy: 0.7667 - val_loss: 3.5863 - val_accuracy: 0.7675\n",
      "Epoch 7/100\n",
      "225/225 [==============================] - 0s 2ms/step - loss: 3.5992 - accuracy: 0.7667 - val_loss: 3.5863 - val_accuracy: 0.7675\n",
      "Epoch 8/100\n",
      "225/225 [==============================] - 0s 2ms/step - loss: 3.5992 - accuracy: 0.7667 - val_loss: 3.5863 - val_accuracy: 0.7675\n",
      "Epoch 9/100\n",
      "225/225 [==============================] - 1s 2ms/step - loss: 3.5992 - accuracy: 0.7667 - val_loss: 3.5863 - val_accuracy: 0.7675\n",
      "Epoch 10/100\n",
      "225/225 [==============================] - 1s 2ms/step - loss: 3.5992 - accuracy: 0.7667 - val_loss: 3.5863 - val_accuracy: 0.7675\n",
      "Epoch 11/100\n",
      "225/225 [==============================] - 1s 2ms/step - loss: 3.5992 - accuracy: 0.7667 - val_loss: 3.5863 - val_accuracy: 0.7675\n",
      "Epoch 12/100\n",
      "225/225 [==============================] - 1s 2ms/step - loss: 3.5992 - accuracy: 0.7667 - val_loss: 3.5863 - val_accuracy: 0.7675\n",
      "Epoch 13/100\n",
      "225/225 [==============================] - 1s 2ms/step - loss: 3.5992 - accuracy: 0.7667 - val_loss: 3.5863 - val_accuracy: 0.7675\n",
      "Epoch 14/100\n",
      "225/225 [==============================] - 1s 2ms/step - loss: 3.5992 - accuracy: 0.7667 - val_loss: 3.5863 - val_accuracy: 0.7675\n",
      "Epoch 15/100\n",
      "225/225 [==============================] - 0s 2ms/step - loss: 3.5992 - accuracy: 0.7667 - val_loss: 3.5863 - val_accuracy: 0.7675\n",
      "Epoch 16/100\n",
      "225/225 [==============================] - 0s 2ms/step - loss: 3.5992 - accuracy: 0.7667 - val_loss: 3.5863 - val_accuracy: 0.7675\n",
      "Epoch 17/100\n",
      "225/225 [==============================] - 0s 2ms/step - loss: 3.5992 - accuracy: 0.7667 - val_loss: 3.5863 - val_accuracy: 0.7675\n",
      "Epoch 18/100\n",
      "225/225 [==============================] - 1s 2ms/step - loss: 3.5992 - accuracy: 0.7667 - val_loss: 3.5863 - val_accuracy: 0.7675\n",
      "Epoch 19/100\n",
      "225/225 [==============================] - 1s 2ms/step - loss: 3.5992 - accuracy: 0.7667 - val_loss: 3.5863 - val_accuracy: 0.7675\n",
      "Epoch 20/100\n",
      "225/225 [==============================] - 1s 2ms/step - loss: 3.5992 - accuracy: 0.7667 - val_loss: 3.5863 - val_accuracy: 0.7675\n",
      "Epoch 21/100\n",
      "225/225 [==============================] - 1s 2ms/step - loss: 3.5992 - accuracy: 0.7667 - val_loss: 3.5863 - val_accuracy: 0.7675\n",
      "Epoch 21: early stopping\n",
      "125/125 [==============================] - 0s 2ms/step - loss: 3.5709 - accuracy: 0.7685\n",
      "[CV] END activation_function=sigmoid, n_hidden=5, n_neurons=35; total time=  12.0s\n",
      "Epoch 1/100\n"
     ]
    },
    {
     "output_type": "stream",
     "name": "stderr",
     "text": [
      "/usr/local/lib/python3.7/dist-packages/keras/optimizer_v2/gradient_descent.py:102: UserWarning: The `lr` argument is deprecated, use `learning_rate` instead.\n",
      "  super(SGD, self).__init__(name, **kwargs)\n"
     ]
    },
    {
     "output_type": "stream",
     "name": "stdout",
     "text": [
      "225/225 [==============================] - 1s 3ms/step - loss: 0.5462 - accuracy: 0.7651 - val_loss: 0.5421 - val_accuracy: 0.7675\n",
      "Epoch 2/100\n",
      "225/225 [==============================] - 0s 2ms/step - loss: 0.5466 - accuracy: 0.7651 - val_loss: 0.5436 - val_accuracy: 0.7675\n",
      "Epoch 3/100\n",
      "225/225 [==============================] - 0s 2ms/step - loss: 0.5464 - accuracy: 0.7651 - val_loss: 0.5420 - val_accuracy: 0.7675\n",
      "Epoch 4/100\n",
      "225/225 [==============================] - 0s 2ms/step - loss: 0.5462 - accuracy: 0.7651 - val_loss: 0.5451 - val_accuracy: 0.7675\n",
      "Epoch 5/100\n",
      "225/225 [==============================] - 0s 2ms/step - loss: 0.5463 - accuracy: 0.7651 - val_loss: 0.5461 - val_accuracy: 0.7675\n",
      "Epoch 6/100\n",
      "225/225 [==============================] - 0s 2ms/step - loss: 0.5467 - accuracy: 0.7651 - val_loss: 0.5442 - val_accuracy: 0.7675\n",
      "Epoch 7/100\n",
      "225/225 [==============================] - 1s 2ms/step - loss: 0.5458 - accuracy: 0.7651 - val_loss: 0.5422 - val_accuracy: 0.7675\n",
      "Epoch 8/100\n",
      "225/225 [==============================] - 0s 2ms/step - loss: 0.5465 - accuracy: 0.7651 - val_loss: 0.5444 - val_accuracy: 0.7675\n",
      "Epoch 9/100\n",
      "225/225 [==============================] - 0s 2ms/step - loss: 0.5476 - accuracy: 0.7651 - val_loss: 0.5420 - val_accuracy: 0.7675\n",
      "Epoch 10/100\n",
      "225/225 [==============================] - 1s 2ms/step - loss: 0.5467 - accuracy: 0.7651 - val_loss: 0.5467 - val_accuracy: 0.7675\n",
      "Epoch 11/100\n",
      "225/225 [==============================] - 1s 2ms/step - loss: 0.5461 - accuracy: 0.7651 - val_loss: 0.5444 - val_accuracy: 0.7675\n",
      "Epoch 12/100\n",
      "225/225 [==============================] - 1s 2ms/step - loss: 0.5468 - accuracy: 0.7651 - val_loss: 0.5424 - val_accuracy: 0.7675\n",
      "Epoch 13/100\n",
      "225/225 [==============================] - 0s 2ms/step - loss: 0.5465 - accuracy: 0.7651 - val_loss: 0.5476 - val_accuracy: 0.7675\n",
      "Epoch 14/100\n",
      "225/225 [==============================] - 1s 2ms/step - loss: 0.5465 - accuracy: 0.7651 - val_loss: 0.5419 - val_accuracy: 0.7675\n",
      "Epoch 15/100\n",
      "225/225 [==============================] - 0s 2ms/step - loss: 0.5461 - accuracy: 0.7651 - val_loss: 0.5421 - val_accuracy: 0.7675\n",
      "Epoch 16/100\n",
      "225/225 [==============================] - 0s 2ms/step - loss: 0.5462 - accuracy: 0.7651 - val_loss: 0.5447 - val_accuracy: 0.7675\n",
      "Epoch 17/100\n",
      "225/225 [==============================] - 0s 2ms/step - loss: 0.5464 - accuracy: 0.7651 - val_loss: 0.5478 - val_accuracy: 0.7675\n",
      "Epoch 18/100\n",
      "225/225 [==============================] - 0s 2ms/step - loss: 0.5459 - accuracy: 0.7651 - val_loss: 0.5466 - val_accuracy: 0.7675\n",
      "Epoch 19/100\n",
      "225/225 [==============================] - 1s 2ms/step - loss: 0.5472 - accuracy: 0.7651 - val_loss: 0.5418 - val_accuracy: 0.7675\n",
      "Epoch 20/100\n",
      "225/225 [==============================] - 0s 2ms/step - loss: 0.5459 - accuracy: 0.7651 - val_loss: 0.5421 - val_accuracy: 0.7675\n",
      "Epoch 21/100\n",
      "225/225 [==============================] - 0s 2ms/step - loss: 0.5456 - accuracy: 0.7651 - val_loss: 0.5470 - val_accuracy: 0.7675\n",
      "Epoch 22/100\n",
      "225/225 [==============================] - 0s 2ms/step - loss: 0.5463 - accuracy: 0.7651 - val_loss: 0.5440 - val_accuracy: 0.7675\n",
      "Epoch 23/100\n",
      "225/225 [==============================] - 0s 2ms/step - loss: 0.5470 - accuracy: 0.7651 - val_loss: 0.5420 - val_accuracy: 0.7675\n",
      "Epoch 24/100\n",
      "225/225 [==============================] - 1s 2ms/step - loss: 0.5463 - accuracy: 0.7651 - val_loss: 0.5422 - val_accuracy: 0.7675\n",
      "Epoch 25/100\n",
      "225/225 [==============================] - 1s 2ms/step - loss: 0.5466 - accuracy: 0.7651 - val_loss: 0.5424 - val_accuracy: 0.7675\n",
      "Epoch 26/100\n",
      "225/225 [==============================] - 1s 2ms/step - loss: 0.5463 - accuracy: 0.7651 - val_loss: 0.5480 - val_accuracy: 0.7675\n",
      "Epoch 27/100\n",
      "225/225 [==============================] - 1s 2ms/step - loss: 0.5468 - accuracy: 0.7651 - val_loss: 0.5419 - val_accuracy: 0.7675\n",
      "Epoch 28/100\n",
      "225/225 [==============================] - 0s 2ms/step - loss: 0.5460 - accuracy: 0.7651 - val_loss: 0.5417 - val_accuracy: 0.7675\n",
      "Epoch 29/100\n",
      "225/225 [==============================] - 0s 2ms/step - loss: 0.5465 - accuracy: 0.7651 - val_loss: 0.5440 - val_accuracy: 0.7675\n",
      "Epoch 30/100\n",
      "225/225 [==============================] - 1s 2ms/step - loss: 0.5447 - accuracy: 0.7651 - val_loss: 0.5443 - val_accuracy: 0.7675\n",
      "Epoch 31/100\n",
      "225/225 [==============================] - 1s 3ms/step - loss: 0.5463 - accuracy: 0.7651 - val_loss: 0.5420 - val_accuracy: 0.7675\n",
      "Epoch 32/100\n",
      "225/225 [==============================] - 1s 2ms/step - loss: 0.5459 - accuracy: 0.7651 - val_loss: 0.5429 - val_accuracy: 0.7675\n",
      "Epoch 33/100\n",
      "225/225 [==============================] - 1s 2ms/step - loss: 0.5470 - accuracy: 0.7651 - val_loss: 0.5418 - val_accuracy: 0.7675\n",
      "Epoch 34/100\n",
      "225/225 [==============================] - 1s 2ms/step - loss: 0.5459 - accuracy: 0.7651 - val_loss: 0.5421 - val_accuracy: 0.7675\n",
      "Epoch 35/100\n",
      "225/225 [==============================] - 1s 2ms/step - loss: 0.5461 - accuracy: 0.7651 - val_loss: 0.5417 - val_accuracy: 0.7675\n",
      "Epoch 36/100\n",
      "225/225 [==============================] - 1s 2ms/step - loss: 0.5453 - accuracy: 0.7651 - val_loss: 0.5418 - val_accuracy: 0.7675\n",
      "Epoch 37/100\n",
      "225/225 [==============================] - 0s 2ms/step - loss: 0.5462 - accuracy: 0.7651 - val_loss: 0.5418 - val_accuracy: 0.7675\n",
      "Epoch 38/100\n",
      "225/225 [==============================] - 0s 2ms/step - loss: 0.5458 - accuracy: 0.7651 - val_loss: 0.5418 - val_accuracy: 0.7675\n",
      "Epoch 39/100\n",
      "225/225 [==============================] - 0s 2ms/step - loss: 0.5462 - accuracy: 0.7651 - val_loss: 0.5420 - val_accuracy: 0.7675\n",
      "Epoch 40/100\n",
      "225/225 [==============================] - 0s 2ms/step - loss: 0.5456 - accuracy: 0.7651 - val_loss: 0.5421 - val_accuracy: 0.7675\n",
      "Epoch 41/100\n",
      "225/225 [==============================] - 1s 2ms/step - loss: 0.5452 - accuracy: 0.7651 - val_loss: 0.5428 - val_accuracy: 0.7675\n",
      "Epoch 42/100\n",
      "225/225 [==============================] - 1s 2ms/step - loss: 0.5462 - accuracy: 0.7651 - val_loss: 0.5421 - val_accuracy: 0.7675\n",
      "Epoch 43/100\n",
      "225/225 [==============================] - 1s 3ms/step - loss: 0.5459 - accuracy: 0.7651 - val_loss: 0.5437 - val_accuracy: 0.7675\n",
      "Epoch 44/100\n",
      "225/225 [==============================] - 0s 2ms/step - loss: 0.5455 - accuracy: 0.7651 - val_loss: 0.5443 - val_accuracy: 0.7675\n",
      "Epoch 45/100\n",
      "225/225 [==============================] - 1s 2ms/step - loss: 0.5462 - accuracy: 0.7651 - val_loss: 0.5415 - val_accuracy: 0.7675\n",
      "Epoch 46/100\n",
      "225/225 [==============================] - 0s 2ms/step - loss: 0.5462 - accuracy: 0.7651 - val_loss: 0.5418 - val_accuracy: 0.7675\n",
      "Epoch 47/100\n",
      "225/225 [==============================] - 1s 2ms/step - loss: 0.5461 - accuracy: 0.7651 - val_loss: 0.5432 - val_accuracy: 0.7675\n",
      "Epoch 48/100\n",
      "225/225 [==============================] - 0s 2ms/step - loss: 0.5462 - accuracy: 0.7651 - val_loss: 0.5419 - val_accuracy: 0.7675\n",
      "Epoch 49/100\n",
      "225/225 [==============================] - 0s 2ms/step - loss: 0.5461 - accuracy: 0.7651 - val_loss: 0.5416 - val_accuracy: 0.7675\n",
      "Epoch 50/100\n",
      "225/225 [==============================] - 0s 2ms/step - loss: 0.5452 - accuracy: 0.7651 - val_loss: 0.5435 - val_accuracy: 0.7675\n",
      "Epoch 51/100\n",
      "225/225 [==============================] - 1s 2ms/step - loss: 0.5460 - accuracy: 0.7651 - val_loss: 0.5419 - val_accuracy: 0.7675\n",
      "Epoch 52/100\n",
      "225/225 [==============================] - 1s 2ms/step - loss: 0.5461 - accuracy: 0.7651 - val_loss: 0.5414 - val_accuracy: 0.7675\n",
      "Epoch 53/100\n",
      "225/225 [==============================] - 1s 3ms/step - loss: 0.5461 - accuracy: 0.7651 - val_loss: 0.5417 - val_accuracy: 0.7675\n",
      "Epoch 54/100\n",
      "225/225 [==============================] - 0s 2ms/step - loss: 0.5452 - accuracy: 0.7651 - val_loss: 0.5424 - val_accuracy: 0.7675\n",
      "Epoch 55/100\n",
      "225/225 [==============================] - 1s 2ms/step - loss: 0.5455 - accuracy: 0.7651 - val_loss: 0.5413 - val_accuracy: 0.7675\n",
      "Epoch 56/100\n",
      "225/225 [==============================] - 0s 2ms/step - loss: 0.5457 - accuracy: 0.7651 - val_loss: 0.5432 - val_accuracy: 0.7675\n",
      "Epoch 57/100\n",
      "225/225 [==============================] - 1s 2ms/step - loss: 0.5459 - accuracy: 0.7651 - val_loss: 0.5452 - val_accuracy: 0.7675\n",
      "Epoch 58/100\n",
      "225/225 [==============================] - 1s 2ms/step - loss: 0.5460 - accuracy: 0.7651 - val_loss: 0.5414 - val_accuracy: 0.7675\n",
      "Epoch 59/100\n",
      "225/225 [==============================] - 0s 2ms/step - loss: 0.5457 - accuracy: 0.7651 - val_loss: 0.5452 - val_accuracy: 0.7675\n",
      "Epoch 60/100\n",
      "225/225 [==============================] - 0s 2ms/step - loss: 0.5455 - accuracy: 0.7651 - val_loss: 0.5412 - val_accuracy: 0.7675\n",
      "Epoch 61/100\n",
      "225/225 [==============================] - 1s 2ms/step - loss: 0.5462 - accuracy: 0.7651 - val_loss: 0.5416 - val_accuracy: 0.7675\n",
      "Epoch 62/100\n",
      "225/225 [==============================] - 0s 2ms/step - loss: 0.5460 - accuracy: 0.7651 - val_loss: 0.5414 - val_accuracy: 0.7675\n",
      "Epoch 63/100\n",
      "225/225 [==============================] - 1s 2ms/step - loss: 0.5451 - accuracy: 0.7651 - val_loss: 0.5417 - val_accuracy: 0.7675\n",
      "Epoch 64/100\n",
      "225/225 [==============================] - 0s 2ms/step - loss: 0.5461 - accuracy: 0.7651 - val_loss: 0.5413 - val_accuracy: 0.7675\n",
      "Epoch 65/100\n",
      "225/225 [==============================] - 1s 5ms/step - loss: 0.5447 - accuracy: 0.7651 - val_loss: 0.5415 - val_accuracy: 0.7675\n",
      "Epoch 66/100\n",
      "225/225 [==============================] - 1s 6ms/step - loss: 0.5455 - accuracy: 0.7651 - val_loss: 0.5411 - val_accuracy: 0.7675\n",
      "Epoch 67/100\n",
      "225/225 [==============================] - 1s 3ms/step - loss: 0.5456 - accuracy: 0.7651 - val_loss: 0.5414 - val_accuracy: 0.7675\n",
      "Epoch 68/100\n",
      "225/225 [==============================] - 1s 4ms/step - loss: 0.5452 - accuracy: 0.7651 - val_loss: 0.5449 - val_accuracy: 0.7675\n",
      "Epoch 69/100\n",
      "225/225 [==============================] - 1s 2ms/step - loss: 0.5457 - accuracy: 0.7651 - val_loss: 0.5428 - val_accuracy: 0.7675\n",
      "Epoch 70/100\n",
      "225/225 [==============================] - 1s 2ms/step - loss: 0.5464 - accuracy: 0.7651 - val_loss: 0.5411 - val_accuracy: 0.7675\n",
      "Epoch 71/100\n",
      "225/225 [==============================] - 1s 2ms/step - loss: 0.5447 - accuracy: 0.7651 - val_loss: 0.5417 - val_accuracy: 0.7675\n",
      "Epoch 72/100\n",
      "225/225 [==============================] - 0s 2ms/step - loss: 0.5452 - accuracy: 0.7651 - val_loss: 0.5428 - val_accuracy: 0.7675\n",
      "Epoch 73/100\n",
      "225/225 [==============================] - 1s 3ms/step - loss: 0.5451 - accuracy: 0.7651 - val_loss: 0.5425 - val_accuracy: 0.7675\n",
      "Epoch 74/100\n",
      "225/225 [==============================] - 1s 4ms/step - loss: 0.5446 - accuracy: 0.7651 - val_loss: 0.5588 - val_accuracy: 0.7675\n",
      "Epoch 75/100\n",
      "225/225 [==============================] - 1s 3ms/step - loss: 0.5454 - accuracy: 0.7651 - val_loss: 0.5437 - val_accuracy: 0.7675\n",
      "Epoch 76/100\n",
      "225/225 [==============================] - 1s 3ms/step - loss: 0.5442 - accuracy: 0.7651 - val_loss: 0.5464 - val_accuracy: 0.7675\n",
      "Epoch 77/100\n",
      "225/225 [==============================] - 1s 2ms/step - loss: 0.5458 - accuracy: 0.7651 - val_loss: 0.5411 - val_accuracy: 0.7675\n",
      "Epoch 78/100\n",
      "225/225 [==============================] - 1s 2ms/step - loss: 0.5448 - accuracy: 0.7651 - val_loss: 0.5421 - val_accuracy: 0.7675\n",
      "Epoch 79/100\n",
      "225/225 [==============================] - 1s 2ms/step - loss: 0.5451 - accuracy: 0.7651 - val_loss: 0.5424 - val_accuracy: 0.7675\n",
      "Epoch 80/100\n",
      "225/225 [==============================] - 1s 2ms/step - loss: 0.5450 - accuracy: 0.7651 - val_loss: 0.5441 - val_accuracy: 0.7675\n",
      "Epoch 81/100\n",
      "225/225 [==============================] - 1s 2ms/step - loss: 0.5454 - accuracy: 0.7651 - val_loss: 0.5411 - val_accuracy: 0.7675\n",
      "Epoch 82/100\n",
      "225/225 [==============================] - 0s 2ms/step - loss: 0.5451 - accuracy: 0.7651 - val_loss: 0.5454 - val_accuracy: 0.7675\n",
      "Epoch 83/100\n",
      "225/225 [==============================] - 1s 2ms/step - loss: 0.5449 - accuracy: 0.7651 - val_loss: 0.5440 - val_accuracy: 0.7675\n",
      "Epoch 84/100\n",
      "225/225 [==============================] - 1s 2ms/step - loss: 0.5450 - accuracy: 0.7651 - val_loss: 0.5409 - val_accuracy: 0.7675\n",
      "Epoch 85/100\n",
      "225/225 [==============================] - 1s 2ms/step - loss: 0.5451 - accuracy: 0.7651 - val_loss: 0.5410 - val_accuracy: 0.7675\n",
      "Epoch 86/100\n",
      "225/225 [==============================] - 1s 2ms/step - loss: 0.5457 - accuracy: 0.7651 - val_loss: 0.5421 - val_accuracy: 0.7675\n",
      "Epoch 87/100\n",
      "225/225 [==============================] - 0s 2ms/step - loss: 0.5443 - accuracy: 0.7651 - val_loss: 0.5419 - val_accuracy: 0.7675\n",
      "Epoch 88/100\n",
      "225/225 [==============================] - 1s 2ms/step - loss: 0.5449 - accuracy: 0.7651 - val_loss: 0.5420 - val_accuracy: 0.7675\n",
      "Epoch 89/100\n",
      "225/225 [==============================] - 1s 3ms/step - loss: 0.5452 - accuracy: 0.7651 - val_loss: 0.5410 - val_accuracy: 0.7675\n",
      "Epoch 90/100\n",
      "225/225 [==============================] - 0s 2ms/step - loss: 0.5450 - accuracy: 0.7651 - val_loss: 0.5412 - val_accuracy: 0.7675\n",
      "Epoch 91/100\n",
      "225/225 [==============================] - 1s 2ms/step - loss: 0.5458 - accuracy: 0.7651 - val_loss: 0.5454 - val_accuracy: 0.7675\n",
      "Epoch 92/100\n",
      "225/225 [==============================] - 0s 2ms/step - loss: 0.5449 - accuracy: 0.7651 - val_loss: 0.5416 - val_accuracy: 0.7675\n",
      "Epoch 93/100\n",
      "225/225 [==============================] - 0s 2ms/step - loss: 0.5450 - accuracy: 0.7651 - val_loss: 0.5458 - val_accuracy: 0.7675\n",
      "Epoch 94/100\n",
      "225/225 [==============================] - 1s 2ms/step - loss: 0.5446 - accuracy: 0.7651 - val_loss: 0.5404 - val_accuracy: 0.7675\n",
      "Epoch 95/100\n",
      "225/225 [==============================] - 0s 2ms/step - loss: 0.5442 - accuracy: 0.7651 - val_loss: 0.5406 - val_accuracy: 0.7675\n",
      "Epoch 96/100\n",
      "225/225 [==============================] - 1s 2ms/step - loss: 0.5450 - accuracy: 0.7651 - val_loss: 0.5448 - val_accuracy: 0.7675\n",
      "Epoch 97/100\n",
      "225/225 [==============================] - 0s 2ms/step - loss: 0.5449 - accuracy: 0.7651 - val_loss: 0.5408 - val_accuracy: 0.7675\n",
      "Epoch 98/100\n",
      "225/225 [==============================] - 0s 2ms/step - loss: 0.5445 - accuracy: 0.7651 - val_loss: 0.5404 - val_accuracy: 0.7675\n",
      "Epoch 99/100\n",
      "225/225 [==============================] - 0s 2ms/step - loss: 0.5451 - accuracy: 0.7651 - val_loss: 0.5403 - val_accuracy: 0.7675\n",
      "Epoch 100/100\n",
      "225/225 [==============================] - 1s 2ms/step - loss: 0.5451 - accuracy: 0.7651 - val_loss: 0.5442 - val_accuracy: 0.7675\n",
      "125/125 [==============================] - 0s 2ms/step - loss: 0.5387 - accuracy: 0.7713\n",
      "[CV] END activation_function=sigmoid, n_hidden=5, n_neurons=35; total time= 1.4min\n",
      "Epoch 1/100\n"
     ]
    },
    {
     "output_type": "stream",
     "name": "stderr",
     "text": [
      "/usr/local/lib/python3.7/dist-packages/keras/optimizer_v2/gradient_descent.py:102: UserWarning: The `lr` argument is deprecated, use `learning_rate` instead.\n",
      "  super(SGD, self).__init__(name, **kwargs)\n"
     ]
    },
    {
     "output_type": "stream",
     "name": "stdout",
     "text": [
      "225/225 [==============================] - 1s 3ms/step - loss: 0.5424 - accuracy: 0.7685 - val_loss: 0.5239 - val_accuracy: 0.7825\n",
      "Epoch 2/100\n",
      "225/225 [==============================] - 1s 3ms/step - loss: 0.5426 - accuracy: 0.7685 - val_loss: 0.5249 - val_accuracy: 0.7825\n",
      "Epoch 3/100\n",
      "225/225 [==============================] - 1s 2ms/step - loss: 0.5429 - accuracy: 0.7685 - val_loss: 0.5276 - val_accuracy: 0.7825\n",
      "Epoch 4/100\n",
      "225/225 [==============================] - 0s 2ms/step - loss: 0.5429 - accuracy: 0.7685 - val_loss: 0.5323 - val_accuracy: 0.7825\n",
      "Epoch 5/100\n",
      "225/225 [==============================] - 0s 2ms/step - loss: 0.5424 - accuracy: 0.7685 - val_loss: 0.5261 - val_accuracy: 0.7825\n",
      "Epoch 6/100\n",
      "225/225 [==============================] - 1s 2ms/step - loss: 0.5423 - accuracy: 0.7685 - val_loss: 0.5233 - val_accuracy: 0.7825\n",
      "Epoch 7/100\n",
      "225/225 [==============================] - 0s 2ms/step - loss: 0.5423 - accuracy: 0.7685 - val_loss: 0.5249 - val_accuracy: 0.7825\n",
      "Epoch 8/100\n",
      "225/225 [==============================] - 0s 2ms/step - loss: 0.5420 - accuracy: 0.7685 - val_loss: 0.5275 - val_accuracy: 0.7825\n",
      "Epoch 9/100\n",
      "225/225 [==============================] - 0s 2ms/step - loss: 0.5426 - accuracy: 0.7685 - val_loss: 0.5242 - val_accuracy: 0.7825\n",
      "Epoch 10/100\n",
      "225/225 [==============================] - 0s 2ms/step - loss: 0.5422 - accuracy: 0.7685 - val_loss: 0.5234 - val_accuracy: 0.7825\n",
      "Epoch 11/100\n",
      "225/225 [==============================] - 0s 2ms/step - loss: 0.5425 - accuracy: 0.7685 - val_loss: 0.5273 - val_accuracy: 0.7825\n",
      "Epoch 12/100\n",
      "225/225 [==============================] - 1s 2ms/step - loss: 0.5419 - accuracy: 0.7685 - val_loss: 0.5232 - val_accuracy: 0.7825\n",
      "Epoch 13/100\n",
      "225/225 [==============================] - 1s 2ms/step - loss: 0.5422 - accuracy: 0.7685 - val_loss: 0.5233 - val_accuracy: 0.7825\n",
      "Epoch 14/100\n",
      "225/225 [==============================] - 0s 2ms/step - loss: 0.5420 - accuracy: 0.7685 - val_loss: 0.5239 - val_accuracy: 0.7825\n",
      "Epoch 15/100\n",
      "225/225 [==============================] - 0s 2ms/step - loss: 0.5421 - accuracy: 0.7685 - val_loss: 0.5260 - val_accuracy: 0.7825\n",
      "Epoch 16/100\n",
      "225/225 [==============================] - 1s 2ms/step - loss: 0.5423 - accuracy: 0.7685 - val_loss: 0.5322 - val_accuracy: 0.7825\n",
      "Epoch 17/100\n",
      "225/225 [==============================] - 1s 2ms/step - loss: 0.5427 - accuracy: 0.7685 - val_loss: 0.5317 - val_accuracy: 0.7825\n",
      "Epoch 18/100\n",
      "225/225 [==============================] - 1s 2ms/step - loss: 0.5424 - accuracy: 0.7685 - val_loss: 0.5241 - val_accuracy: 0.7825\n",
      "Epoch 19/100\n",
      "225/225 [==============================] - 1s 2ms/step - loss: 0.5422 - accuracy: 0.7685 - val_loss: 0.5232 - val_accuracy: 0.7825\n",
      "Epoch 20/100\n",
      "225/225 [==============================] - 1s 2ms/step - loss: 0.5426 - accuracy: 0.7685 - val_loss: 0.5246 - val_accuracy: 0.7825\n",
      "Epoch 21/100\n",
      "225/225 [==============================] - 0s 2ms/step - loss: 0.5419 - accuracy: 0.7685 - val_loss: 0.5251 - val_accuracy: 0.7825\n",
      "Epoch 22/100\n",
      "225/225 [==============================] - 0s 2ms/step - loss: 0.5417 - accuracy: 0.7685 - val_loss: 0.5332 - val_accuracy: 0.7825\n",
      "Epoch 23/100\n",
      "225/225 [==============================] - 1s 2ms/step - loss: 0.5418 - accuracy: 0.7685 - val_loss: 0.5232 - val_accuracy: 0.7825\n",
      "Epoch 24/100\n",
      "225/225 [==============================] - 1s 2ms/step - loss: 0.5422 - accuracy: 0.7685 - val_loss: 0.5235 - val_accuracy: 0.7825\n",
      "Epoch 25/100\n",
      "225/225 [==============================] - 1s 2ms/step - loss: 0.5416 - accuracy: 0.7685 - val_loss: 0.5376 - val_accuracy: 0.7825\n",
      "Epoch 26/100\n",
      "225/225 [==============================] - 1s 2ms/step - loss: 0.5427 - accuracy: 0.7685 - val_loss: 0.5231 - val_accuracy: 0.7825\n",
      "Epoch 27/100\n",
      "225/225 [==============================] - 1s 2ms/step - loss: 0.5421 - accuracy: 0.7685 - val_loss: 0.5229 - val_accuracy: 0.7825\n",
      "Epoch 28/100\n",
      "225/225 [==============================] - 1s 2ms/step - loss: 0.5419 - accuracy: 0.7685 - val_loss: 0.5253 - val_accuracy: 0.7825\n",
      "Epoch 29/100\n",
      "225/225 [==============================] - 1s 2ms/step - loss: 0.5424 - accuracy: 0.7685 - val_loss: 0.5232 - val_accuracy: 0.7825\n",
      "Epoch 30/100\n",
      "225/225 [==============================] - 0s 2ms/step - loss: 0.5413 - accuracy: 0.7685 - val_loss: 0.5236 - val_accuracy: 0.7825\n",
      "Epoch 31/100\n",
      "225/225 [==============================] - 0s 2ms/step - loss: 0.5420 - accuracy: 0.7685 - val_loss: 0.5229 - val_accuracy: 0.7825\n",
      "Epoch 32/100\n",
      "225/225 [==============================] - 0s 2ms/step - loss: 0.5420 - accuracy: 0.7685 - val_loss: 0.5230 - val_accuracy: 0.7825\n",
      "Epoch 33/100\n",
      "225/225 [==============================] - 1s 2ms/step - loss: 0.5418 - accuracy: 0.7685 - val_loss: 0.5230 - val_accuracy: 0.7825\n",
      "Epoch 34/100\n",
      "225/225 [==============================] - 0s 2ms/step - loss: 0.5427 - accuracy: 0.7685 - val_loss: 0.5239 - val_accuracy: 0.7825\n",
      "Epoch 35/100\n",
      "225/225 [==============================] - 1s 2ms/step - loss: 0.5423 - accuracy: 0.7685 - val_loss: 0.5248 - val_accuracy: 0.7825\n",
      "Epoch 36/100\n",
      "225/225 [==============================] - 1s 2ms/step - loss: 0.5420 - accuracy: 0.7685 - val_loss: 0.5261 - val_accuracy: 0.7825\n",
      "Epoch 37/100\n",
      "225/225 [==============================] - 1s 2ms/step - loss: 0.5416 - accuracy: 0.7685 - val_loss: 0.5247 - val_accuracy: 0.7825\n",
      "Epoch 38/100\n",
      "225/225 [==============================] - 0s 2ms/step - loss: 0.5421 - accuracy: 0.7685 - val_loss: 0.5232 - val_accuracy: 0.7825\n",
      "Epoch 39/100\n",
      "225/225 [==============================] - 1s 2ms/step - loss: 0.5419 - accuracy: 0.7685 - val_loss: 0.5246 - val_accuracy: 0.7825\n",
      "Epoch 40/100\n",
      "225/225 [==============================] - 0s 2ms/step - loss: 0.5419 - accuracy: 0.7685 - val_loss: 0.5246 - val_accuracy: 0.7825\n",
      "Epoch 41/100\n",
      "225/225 [==============================] - 0s 2ms/step - loss: 0.5419 - accuracy: 0.7685 - val_loss: 0.5229 - val_accuracy: 0.7825\n",
      "Epoch 42/100\n",
      "225/225 [==============================] - 0s 2ms/step - loss: 0.5425 - accuracy: 0.7685 - val_loss: 0.5263 - val_accuracy: 0.7825\n",
      "Epoch 43/100\n",
      "225/225 [==============================] - 1s 2ms/step - loss: 0.5420 - accuracy: 0.7685 - val_loss: 0.5316 - val_accuracy: 0.7825\n",
      "Epoch 44/100\n",
      "225/225 [==============================] - 0s 2ms/step - loss: 0.5418 - accuracy: 0.7685 - val_loss: 0.5227 - val_accuracy: 0.7825\n",
      "Epoch 45/100\n",
      "225/225 [==============================] - 1s 2ms/step - loss: 0.5413 - accuracy: 0.7685 - val_loss: 0.5250 - val_accuracy: 0.7825\n",
      "Epoch 46/100\n",
      "225/225 [==============================] - 1s 2ms/step - loss: 0.5416 - accuracy: 0.7685 - val_loss: 0.5233 - val_accuracy: 0.7825\n",
      "Epoch 47/100\n",
      "225/225 [==============================] - 1s 2ms/step - loss: 0.5413 - accuracy: 0.7685 - val_loss: 0.5228 - val_accuracy: 0.7825\n",
      "Epoch 48/100\n",
      "225/225 [==============================] - 1s 2ms/step - loss: 0.5420 - accuracy: 0.7685 - val_loss: 0.5290 - val_accuracy: 0.7825\n",
      "Epoch 49/100\n",
      "225/225 [==============================] - 1s 2ms/step - loss: 0.5414 - accuracy: 0.7685 - val_loss: 0.5226 - val_accuracy: 0.7825\n",
      "Epoch 50/100\n",
      "225/225 [==============================] - 1s 2ms/step - loss: 0.5409 - accuracy: 0.7685 - val_loss: 0.5232 - val_accuracy: 0.7825\n",
      "Epoch 51/100\n",
      "225/225 [==============================] - 0s 2ms/step - loss: 0.5427 - accuracy: 0.7685 - val_loss: 0.5321 - val_accuracy: 0.7825\n",
      "Epoch 52/100\n",
      "225/225 [==============================] - 0s 2ms/step - loss: 0.5422 - accuracy: 0.7685 - val_loss: 0.5230 - val_accuracy: 0.7825\n",
      "Epoch 53/100\n",
      "225/225 [==============================] - 1s 2ms/step - loss: 0.5415 - accuracy: 0.7685 - val_loss: 0.5225 - val_accuracy: 0.7825\n",
      "Epoch 54/100\n",
      "225/225 [==============================] - 0s 2ms/step - loss: 0.5409 - accuracy: 0.7685 - val_loss: 0.5229 - val_accuracy: 0.7825\n",
      "Epoch 55/100\n",
      "225/225 [==============================] - 1s 2ms/step - loss: 0.5409 - accuracy: 0.7685 - val_loss: 0.5259 - val_accuracy: 0.7825\n",
      "Epoch 56/100\n",
      "225/225 [==============================] - 0s 2ms/step - loss: 0.5417 - accuracy: 0.7685 - val_loss: 0.5230 - val_accuracy: 0.7825\n",
      "Epoch 57/100\n",
      "225/225 [==============================] - 1s 2ms/step - loss: 0.5417 - accuracy: 0.7685 - val_loss: 0.5234 - val_accuracy: 0.7825\n",
      "Epoch 58/100\n",
      "225/225 [==============================] - 1s 2ms/step - loss: 0.5416 - accuracy: 0.7685 - val_loss: 0.5256 - val_accuracy: 0.7825\n",
      "Epoch 59/100\n",
      "225/225 [==============================] - 1s 2ms/step - loss: 0.5417 - accuracy: 0.7685 - val_loss: 0.5229 - val_accuracy: 0.7825\n",
      "Epoch 60/100\n",
      "225/225 [==============================] - 1s 2ms/step - loss: 0.5416 - accuracy: 0.7685 - val_loss: 0.5224 - val_accuracy: 0.7825\n",
      "Epoch 61/100\n",
      "225/225 [==============================] - 1s 2ms/step - loss: 0.5409 - accuracy: 0.7685 - val_loss: 0.5243 - val_accuracy: 0.7825\n",
      "Epoch 62/100\n",
      "225/225 [==============================] - 0s 2ms/step - loss: 0.5418 - accuracy: 0.7685 - val_loss: 0.5228 - val_accuracy: 0.7825\n",
      "Epoch 63/100\n",
      "225/225 [==============================] - 1s 2ms/step - loss: 0.5412 - accuracy: 0.7685 - val_loss: 0.5252 - val_accuracy: 0.7825\n",
      "Epoch 64/100\n",
      "225/225 [==============================] - 1s 2ms/step - loss: 0.5413 - accuracy: 0.7685 - val_loss: 0.5234 - val_accuracy: 0.7825\n",
      "Epoch 65/100\n",
      "225/225 [==============================] - 1s 2ms/step - loss: 0.5418 - accuracy: 0.7685 - val_loss: 0.5226 - val_accuracy: 0.7825\n",
      "Epoch 66/100\n",
      "225/225 [==============================] - 1s 2ms/step - loss: 0.5416 - accuracy: 0.7685 - val_loss: 0.5239 - val_accuracy: 0.7825\n",
      "Epoch 67/100\n",
      "225/225 [==============================] - 0s 2ms/step - loss: 0.5416 - accuracy: 0.7685 - val_loss: 0.5241 - val_accuracy: 0.7825\n",
      "Epoch 68/100\n",
      "225/225 [==============================] - 0s 2ms/step - loss: 0.5415 - accuracy: 0.7685 - val_loss: 0.5228 - val_accuracy: 0.7825\n",
      "Epoch 69/100\n",
      "225/225 [==============================] - 1s 2ms/step - loss: 0.5415 - accuracy: 0.7685 - val_loss: 0.5237 - val_accuracy: 0.7825\n",
      "Epoch 70/100\n",
      "225/225 [==============================] - 0s 2ms/step - loss: 0.5418 - accuracy: 0.7685 - val_loss: 0.5261 - val_accuracy: 0.7825\n",
      "Epoch 71/100\n",
      "225/225 [==============================] - 0s 2ms/step - loss: 0.5410 - accuracy: 0.7685 - val_loss: 0.5247 - val_accuracy: 0.7825\n",
      "Epoch 72/100\n",
      "225/225 [==============================] - 0s 2ms/step - loss: 0.5410 - accuracy: 0.7685 - val_loss: 0.5220 - val_accuracy: 0.7825\n",
      "Epoch 73/100\n",
      "225/225 [==============================] - 1s 2ms/step - loss: 0.5410 - accuracy: 0.7685 - val_loss: 0.5224 - val_accuracy: 0.7825\n",
      "Epoch 74/100\n",
      "225/225 [==============================] - 1s 2ms/step - loss: 0.5407 - accuracy: 0.7685 - val_loss: 0.5220 - val_accuracy: 0.7825\n",
      "Epoch 75/100\n",
      "225/225 [==============================] - 1s 2ms/step - loss: 0.5412 - accuracy: 0.7685 - val_loss: 0.5239 - val_accuracy: 0.7825\n",
      "Epoch 76/100\n",
      "225/225 [==============================] - 0s 2ms/step - loss: 0.5401 - accuracy: 0.7685 - val_loss: 0.5268 - val_accuracy: 0.7825\n",
      "Epoch 77/100\n",
      "225/225 [==============================] - 0s 2ms/step - loss: 0.5411 - accuracy: 0.7685 - val_loss: 0.5225 - val_accuracy: 0.7825\n",
      "Epoch 78/100\n",
      "225/225 [==============================] - 0s 2ms/step - loss: 0.5410 - accuracy: 0.7685 - val_loss: 0.5280 - val_accuracy: 0.7825\n",
      "Epoch 79/100\n",
      "225/225 [==============================] - 0s 2ms/step - loss: 0.5419 - accuracy: 0.7685 - val_loss: 0.5264 - val_accuracy: 0.7825\n",
      "Epoch 80/100\n",
      "225/225 [==============================] - 1s 2ms/step - loss: 0.5413 - accuracy: 0.7685 - val_loss: 0.5221 - val_accuracy: 0.7825\n",
      "Epoch 81/100\n",
      "225/225 [==============================] - 1s 2ms/step - loss: 0.5417 - accuracy: 0.7685 - val_loss: 0.5219 - val_accuracy: 0.7825\n",
      "Epoch 82/100\n",
      "225/225 [==============================] - 1s 2ms/step - loss: 0.5419 - accuracy: 0.7685 - val_loss: 0.5251 - val_accuracy: 0.7825\n",
      "Epoch 83/100\n",
      "225/225 [==============================] - 1s 2ms/step - loss: 0.5407 - accuracy: 0.7685 - val_loss: 0.5249 - val_accuracy: 0.7825\n",
      "Epoch 84/100\n",
      "225/225 [==============================] - 1s 2ms/step - loss: 0.5410 - accuracy: 0.7685 - val_loss: 0.5239 - val_accuracy: 0.7825\n",
      "Epoch 85/100\n",
      "225/225 [==============================] - 1s 2ms/step - loss: 0.5405 - accuracy: 0.7685 - val_loss: 0.5217 - val_accuracy: 0.7825\n",
      "Epoch 86/100\n",
      "225/225 [==============================] - 1s 2ms/step - loss: 0.5412 - accuracy: 0.7685 - val_loss: 0.5244 - val_accuracy: 0.7825\n",
      "Epoch 87/100\n",
      "225/225 [==============================] - 1s 2ms/step - loss: 0.5404 - accuracy: 0.7685 - val_loss: 0.5216 - val_accuracy: 0.7825\n",
      "Epoch 88/100\n",
      "225/225 [==============================] - 0s 2ms/step - loss: 0.5409 - accuracy: 0.7685 - val_loss: 0.5226 - val_accuracy: 0.7825\n",
      "Epoch 89/100\n",
      "225/225 [==============================] - 1s 2ms/step - loss: 0.5408 - accuracy: 0.7685 - val_loss: 0.5221 - val_accuracy: 0.7825\n",
      "Epoch 90/100\n",
      "225/225 [==============================] - 1s 2ms/step - loss: 0.5409 - accuracy: 0.7685 - val_loss: 0.5242 - val_accuracy: 0.7825\n",
      "Epoch 91/100\n",
      "225/225 [==============================] - 1s 2ms/step - loss: 0.5405 - accuracy: 0.7685 - val_loss: 0.5321 - val_accuracy: 0.7825\n",
      "Epoch 92/100\n",
      "225/225 [==============================] - 1s 2ms/step - loss: 0.5417 - accuracy: 0.7685 - val_loss: 0.5220 - val_accuracy: 0.7825\n",
      "Epoch 93/100\n",
      "225/225 [==============================] - 1s 3ms/step - loss: 0.5408 - accuracy: 0.7685 - val_loss: 0.5300 - val_accuracy: 0.7825\n",
      "Epoch 94/100\n",
      "225/225 [==============================] - 1s 2ms/step - loss: 0.5409 - accuracy: 0.7685 - val_loss: 0.5231 - val_accuracy: 0.7825\n",
      "Epoch 95/100\n",
      "225/225 [==============================] - 1s 2ms/step - loss: 0.5403 - accuracy: 0.7685 - val_loss: 0.5215 - val_accuracy: 0.7825\n",
      "Epoch 96/100\n",
      "225/225 [==============================] - 1s 3ms/step - loss: 0.5406 - accuracy: 0.7685 - val_loss: 0.5224 - val_accuracy: 0.7825\n",
      "Epoch 97/100\n",
      "225/225 [==============================] - 1s 3ms/step - loss: 0.5407 - accuracy: 0.7685 - val_loss: 0.5217 - val_accuracy: 0.7825\n",
      "Epoch 98/100\n",
      "225/225 [==============================] - 1s 3ms/step - loss: 0.5404 - accuracy: 0.7685 - val_loss: 0.5213 - val_accuracy: 0.7825\n",
      "Epoch 99/100\n",
      "225/225 [==============================] - 1s 2ms/step - loss: 0.5405 - accuracy: 0.7685 - val_loss: 0.5212 - val_accuracy: 0.7825\n",
      "Epoch 100/100\n",
      "225/225 [==============================] - 1s 2ms/step - loss: 0.5404 - accuracy: 0.7685 - val_loss: 0.5210 - val_accuracy: 0.7825\n",
      "125/125 [==============================] - 0s 2ms/step - loss: 0.5471 - accuracy: 0.7623\n",
      "[CV] END activation_function=sigmoid, n_hidden=5, n_neurons=35; total time=  53.1s\n",
      "Epoch 1/100\n",
      "338/338 [==============================] - 1s 3ms/step - loss: 3.5706 - accuracy: 0.6901 - val_loss: 6.2197 - val_accuracy: 0.5883\n",
      "Epoch 2/100\n",
      "338/338 [==============================] - 1s 2ms/step - loss: 4.9941 - accuracy: 0.6620 - val_loss: 2.8113 - val_accuracy: 0.8125\n",
      "Epoch 3/100\n",
      "338/338 [==============================] - 1s 2ms/step - loss: 3.5652 - accuracy: 0.7590 - val_loss: 2.8287 - val_accuracy: 0.8100\n",
      "Epoch 4/100\n",
      "338/338 [==============================] - 1s 2ms/step - loss: 2.8118 - accuracy: 0.8100 - val_loss: 3.2693 - val_accuracy: 0.7833\n",
      "Epoch 5/100\n",
      "338/338 [==============================] - 1s 2ms/step - loss: 2.8146 - accuracy: 0.8132 - val_loss: 2.8577 - val_accuracy: 0.8092\n",
      "Epoch 6/100\n",
      "338/338 [==============================] - 1s 2ms/step - loss: 2.8949 - accuracy: 0.8060 - val_loss: 2.7557 - val_accuracy: 0.8158\n",
      "Epoch 7/100\n",
      "338/338 [==============================] - 1s 2ms/step - loss: 3.0467 - accuracy: 0.7967 - val_loss: 3.9809 - val_accuracy: 0.7358\n",
      "Epoch 8/100\n",
      "338/338 [==============================] - 1s 2ms/step - loss: 3.4740 - accuracy: 0.7698 - val_loss: 3.2475 - val_accuracy: 0.7833\n",
      "Epoch 9/100\n",
      "338/338 [==============================] - 1s 2ms/step - loss: 3.0531 - accuracy: 0.7980 - val_loss: 3.0162 - val_accuracy: 0.8017\n",
      "Epoch 10/100\n",
      "338/338 [==============================] - 1s 2ms/step - loss: 2.7665 - accuracy: 0.8160 - val_loss: 2.7482 - val_accuracy: 0.8175\n",
      "Epoch 11/100\n",
      "338/338 [==============================] - 1s 2ms/step - loss: 3.7069 - accuracy: 0.7559 - val_loss: 5.6960 - val_accuracy: 0.6242\n",
      "Epoch 12/100\n",
      "338/338 [==============================] - 1s 2ms/step - loss: 3.9734 - accuracy: 0.7389 - val_loss: 3.5206 - val_accuracy: 0.7708\n",
      "Epoch 13/100\n",
      "338/338 [==============================] - 1s 2ms/step - loss: 3.3212 - accuracy: 0.7830 - val_loss: 3.4092 - val_accuracy: 0.7750\n",
      "Epoch 14/100\n",
      "338/338 [==============================] - 1s 2ms/step - loss: 3.3053 - accuracy: 0.7842 - val_loss: 3.3809 - val_accuracy: 0.7783\n",
      "Epoch 15/100\n",
      "338/338 [==============================] - 1s 2ms/step - loss: 3.3019 - accuracy: 0.7844 - val_loss: 3.4445 - val_accuracy: 0.7742\n",
      "Epoch 16/100\n",
      "338/338 [==============================] - 1s 2ms/step - loss: 3.2938 - accuracy: 0.7853 - val_loss: 3.4607 - val_accuracy: 0.7725\n",
      "Epoch 17/100\n",
      "338/338 [==============================] - 1s 2ms/step - loss: 4.7732 - accuracy: 0.6873 - val_loss: 5.5739 - val_accuracy: 0.6350\n",
      "Epoch 18/100\n",
      "338/338 [==============================] - 1s 2ms/step - loss: 5.5208 - accuracy: 0.6383 - val_loss: 5.5612 - val_accuracy: 0.6358\n",
      "Epoch 19/100\n",
      "338/338 [==============================] - 1s 2ms/step - loss: 5.5068 - accuracy: 0.6392 - val_loss: 5.5358 - val_accuracy: 0.6375\n",
      "Epoch 20/100\n",
      "338/338 [==============================] - 1s 2ms/step - loss: 5.4483 - accuracy: 0.6430 - val_loss: 5.3960 - val_accuracy: 0.6467\n",
      "Epoch 21/100\n",
      "338/338 [==============================] - 1s 2ms/step - loss: 5.4207 - accuracy: 0.6449 - val_loss: 5.3960 - val_accuracy: 0.6467\n",
      "Epoch 22/100\n",
      "338/338 [==============================] - 1s 2ms/step - loss: 5.4097 - accuracy: 0.6455 - val_loss: 5.3586 - val_accuracy: 0.6483\n",
      "Epoch 23/100\n",
      "338/338 [==============================] - 1s 2ms/step - loss: 5.3631 - accuracy: 0.6486 - val_loss: 5.3072 - val_accuracy: 0.6525\n",
      "Epoch 24/100\n",
      "338/338 [==============================] - 1s 2ms/step - loss: 5.3628 - accuracy: 0.6488 - val_loss: 5.3072 - val_accuracy: 0.6525\n",
      "Epoch 25/100\n",
      "338/338 [==============================] - 1s 2ms/step - loss: 5.3628 - accuracy: 0.6488 - val_loss: 5.3072 - val_accuracy: 0.6525\n",
      "Epoch 26/100\n",
      "338/338 [==============================] - 1s 2ms/step - loss: 5.3628 - accuracy: 0.6488 - val_loss: 5.3072 - val_accuracy: 0.6525\n",
      "Epoch 27/100\n",
      "338/338 [==============================] - 1s 2ms/step - loss: 5.3628 - accuracy: 0.6488 - val_loss: 5.3072 - val_accuracy: 0.6525\n",
      "Epoch 28/100\n",
      "338/338 [==============================] - 1s 2ms/step - loss: 5.3628 - accuracy: 0.6488 - val_loss: 5.3072 - val_accuracy: 0.6525\n",
      "Epoch 29/100\n",
      "338/338 [==============================] - 1s 2ms/step - loss: 5.3628 - accuracy: 0.6488 - val_loss: 5.3072 - val_accuracy: 0.6525\n",
      "Epoch 30/100\n",
      "338/338 [==============================] - 1s 2ms/step - loss: 5.3628 - accuracy: 0.6488 - val_loss: 5.3072 - val_accuracy: 0.6525\n",
      "Epoch 30: early stopping\n"
     ]
    },
    {
     "output_type": "execute_result",
     "data": {
      "text/plain": [
       "RandomizedSearchCV(cv=3,\n",
       "                   estimator=<keras.wrappers.scikit_learn.KerasClassifier object at 0x7f980d9df210>,\n",
       "                   param_distributions={'activation_function': ['relu', 'elu',\n",
       "                                                                'sigmoid'],\n",
       "                                        'n_hidden': [2, 3, 4, 5],\n",
       "                                        'n_neurons': array([ 1,  2,  3,  4,  5,  6,  7,  8,  9, 10, 11, 12, 13, 14, 15, 16, 17,\n",
       "       18, 19, 20, 21, 22, 23, 24, 25, 26, 27, 28, 29, 30, 31, 32, 33, 34,\n",
       "       35, 36, 37, 38, 39, 40, 41, 42, 43, 44, 45, 46, 47, 48, 49, 50, 51,\n",
       "       52, 53, 54, 55, 56, 57, 58, 59, 60, 61, 62, 63, 64, 65, 66, 67, 68,\n",
       "       69, 70, 71, 72, 73, 74, 75, 76, 77, 78, 79, 80, 81, 82, 83, 84, 85,\n",
       "       86, 87, 88, 89, 90, 91, 92, 93, 94, 95, 96, 97, 98, 99])},\n",
       "                   verbose=2)"
      ]
     },
     "metadata": {},
     "execution_count": 87
    }
   ]
  },
  {
   "cell_type": "code",
   "source": [
    "rnd_search_cv.best_params_"
   ],
   "metadata": {
    "colab": {
     "base_uri": "https://localhost:8080/"
    },
    "id": "erh87v6Ctmy4",
    "outputId": "ee63d869-cd4f-4c99-90f3-ecd1baff96f3"
   },
   "execution_count": 88,
   "outputs": [
    {
     "output_type": "execute_result",
     "data": {
      "text/plain": [
       "{'activation_function': 'elu', 'n_hidden': 2, 'n_neurons': 71}"
      ]
     },
     "metadata": {},
     "execution_count": 88
    }
   ]
  },
  {
   "cell_type": "code",
   "source": [
    ""
   ],
   "metadata": {
    "id": "3TcqkJAYuLMj"
   },
   "execution_count": 88,
   "outputs": []
  },
  {
   "cell_type": "markdown",
   "source": [
    "### 5.2.6. Porównanie modeli głębokich"
   ],
   "metadata": {
    "id": "fr8vPolRs32Z"
   }
  },
  {
   "cell_type": "code",
   "source": [
    "plt.plot(pd.DataFrame(history1.history['val_accuracy']), label='Sieć bez bajerów')\n",
    "plt.plot(pd.DataFrame(history2.history['val_accuracy']), label='Sieć z earlystoppingiem')\n",
    "plt.plot(pd.DataFrame(history3.history['val_accuracy']), label='Sieć z BatchNormalization')\n",
    "plt.plot(pd.DataFrame(history4.history['val_accuracy']), label='Sieć z BatchNormalizastion i Dropoutem')\n",
    "plt.legend()\n",
    "plt.grid(True)\n",
    "plt.gca().set_ylim(0, 1)\n",
    "plt.rcParams[\"figure.figsize\"] = (25,12)\n",
    "plt.show()\n",
    "\n"
   ],
   "metadata": {
    "colab": {
     "base_uri": "https://localhost:8080/",
     "height": 651
    },
    "id": "9stnNx5EtAmA",
    "outputId": "af8aa288-64cf-426a-b094-a2b94dcf0ce8"
   },
   "execution_count": 105,
   "outputs": [
    {
     "output_type": "display_data",
     "data": {
      "text/plain": [
       "<Figure size 1800x864 with 1 Axes>"
      ],
      "image/png": "[encoded data removed]"
     },
     "metadata": {
      "needs_background": "light"
     }
    }
   ]
  }
 ],
 "metadata": {
  "kernelspec": {
   "display_name": "Python 3",
   "language": "python",
   "name": "python3"
  },
  "language_info": {
   "codemirror_mode": {
    "name": "ipython",
    "version": 3
   },
   "file_extension": ".py",
   "mimetype": "text/x-python",
   "name": "python",
   "nbconvert_exporter": "python",
   "pygments_lexer": "ipython3",
   "version": "3.8.10"
  },
  "colab": {
   "name": "projekt_australia.ipynb",
   "provenance": [],
   "collapsed_sections": [],
   "toc_visible": true
  }
 },
 "nbformat": 4,
 "nbformat_minor": 0
}